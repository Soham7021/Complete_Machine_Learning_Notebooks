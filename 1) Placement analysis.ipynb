{
 "cells": [
  {
   "cell_type": "markdown",
   "id": "d1d7f909",
   "metadata": {},
   "source": [
    "# Steps To train model\n",
    "## 1. Preprocess + EDA + Feature Selection\n",
    "## 2. Extract input and output cols\n",
    "## 3.Scale The Values\n",
    "## 4.Train test split\n",
    "## 5.Train the Model\n",
    "## 6. Evaluate the model\n",
    "## 7. Deploy the mode"
   ]
  },
  {
   "cell_type": "markdown",
   "id": "6863bb1a",
   "metadata": {},
   "source": [
    "### In this code we will train our model in such way using the data set that it will predict the perticular student will be placed or not"
   ]
  },
  {
   "cell_type": "code",
   "execution_count": 3,
   "id": "9447acaf",
   "metadata": {},
   "outputs": [],
   "source": [
    "import numpy as np \n",
    "import pandas as pd\n",
    "import matplotlib.pyplot as plt"
   ]
  },
  {
   "cell_type": "code",
   "execution_count": 4,
   "id": "64c337c9",
   "metadata": {},
   "outputs": [],
   "source": [
    "df = pd.read_csv('placement.csv')"
   ]
  },
  {
   "cell_type": "code",
   "execution_count": 5,
   "id": "6a6f5cea",
   "metadata": {},
   "outputs": [
    {
     "data": {
      "text/html": [
       "<div>\n",
       "<style scoped>\n",
       "    .dataframe tbody tr th:only-of-type {\n",
       "        vertical-align: middle;\n",
       "    }\n",
       "\n",
       "    .dataframe tbody tr th {\n",
       "        vertical-align: top;\n",
       "    }\n",
       "\n",
       "    .dataframe thead th {\n",
       "        text-align: right;\n",
       "    }\n",
       "</style>\n",
       "<table border=\"1\" class=\"dataframe\">\n",
       "  <thead>\n",
       "    <tr style=\"text-align: right;\">\n",
       "      <th></th>\n",
       "      <th>Unnamed: 0</th>\n",
       "      <th>cgpa</th>\n",
       "      <th>iq</th>\n",
       "      <th>placement</th>\n",
       "    </tr>\n",
       "  </thead>\n",
       "  <tbody>\n",
       "    <tr>\n",
       "      <th>0</th>\n",
       "      <td>0</td>\n",
       "      <td>6.8</td>\n",
       "      <td>123.0</td>\n",
       "      <td>1</td>\n",
       "    </tr>\n",
       "    <tr>\n",
       "      <th>1</th>\n",
       "      <td>1</td>\n",
       "      <td>5.9</td>\n",
       "      <td>106.0</td>\n",
       "      <td>0</td>\n",
       "    </tr>\n",
       "    <tr>\n",
       "      <th>2</th>\n",
       "      <td>2</td>\n",
       "      <td>5.3</td>\n",
       "      <td>121.0</td>\n",
       "      <td>0</td>\n",
       "    </tr>\n",
       "    <tr>\n",
       "      <th>3</th>\n",
       "      <td>3</td>\n",
       "      <td>7.4</td>\n",
       "      <td>132.0</td>\n",
       "      <td>1</td>\n",
       "    </tr>\n",
       "    <tr>\n",
       "      <th>4</th>\n",
       "      <td>4</td>\n",
       "      <td>5.8</td>\n",
       "      <td>142.0</td>\n",
       "      <td>0</td>\n",
       "    </tr>\n",
       "  </tbody>\n",
       "</table>\n",
       "</div>"
      ],
      "text/plain": [
       "   Unnamed: 0  cgpa     iq  placement\n",
       "0           0   6.8  123.0          1\n",
       "1           1   5.9  106.0          0\n",
       "2           2   5.3  121.0          0\n",
       "3           3   7.4  132.0          1\n",
       "4           4   5.8  142.0          0"
      ]
     },
     "execution_count": 5,
     "metadata": {},
     "output_type": "execute_result"
    }
   ],
   "source": [
    "df.head()"
   ]
  },
  {
   "cell_type": "markdown",
   "id": "00a85769",
   "metadata": {},
   "source": [
    "Now we will remove the unneccesory column i.e Unnamed: 0 that it is unnecessarily consuming the space"
   ]
  },
  {
   "cell_type": "code",
   "execution_count": null,
   "id": "6ee47943",
   "metadata": {},
   "outputs": [],
   "source": [
    "df = df.drop('Unnamed:0',axis=1) # or df = df.iloc([:,1:])"
   ]
  },
  {
   "cell_type": "code",
   "execution_count": 8,
   "id": "f3e9dad5",
   "metadata": {},
   "outputs": [
    {
     "data": {
      "text/html": [
       "<div>\n",
       "<style scoped>\n",
       "    .dataframe tbody tr th:only-of-type {\n",
       "        vertical-align: middle;\n",
       "    }\n",
       "\n",
       "    .dataframe tbody tr th {\n",
       "        vertical-align: top;\n",
       "    }\n",
       "\n",
       "    .dataframe thead th {\n",
       "        text-align: right;\n",
       "    }\n",
       "</style>\n",
       "<table border=\"1\" class=\"dataframe\">\n",
       "  <thead>\n",
       "    <tr style=\"text-align: right;\">\n",
       "      <th></th>\n",
       "      <th>Unnamed: 0</th>\n",
       "      <th>cgpa</th>\n",
       "      <th>iq</th>\n",
       "      <th>placement</th>\n",
       "    </tr>\n",
       "  </thead>\n",
       "  <tbody>\n",
       "    <tr>\n",
       "      <th>0</th>\n",
       "      <td>0</td>\n",
       "      <td>6.8</td>\n",
       "      <td>123.0</td>\n",
       "      <td>1</td>\n",
       "    </tr>\n",
       "    <tr>\n",
       "      <th>1</th>\n",
       "      <td>1</td>\n",
       "      <td>5.9</td>\n",
       "      <td>106.0</td>\n",
       "      <td>0</td>\n",
       "    </tr>\n",
       "    <tr>\n",
       "      <th>2</th>\n",
       "      <td>2</td>\n",
       "      <td>5.3</td>\n",
       "      <td>121.0</td>\n",
       "      <td>0</td>\n",
       "    </tr>\n",
       "    <tr>\n",
       "      <th>3</th>\n",
       "      <td>3</td>\n",
       "      <td>7.4</td>\n",
       "      <td>132.0</td>\n",
       "      <td>1</td>\n",
       "    </tr>\n",
       "    <tr>\n",
       "      <th>4</th>\n",
       "      <td>4</td>\n",
       "      <td>5.8</td>\n",
       "      <td>142.0</td>\n",
       "      <td>0</td>\n",
       "    </tr>\n",
       "  </tbody>\n",
       "</table>\n",
       "</div>"
      ],
      "text/plain": [
       "   Unnamed: 0  cgpa     iq  placement\n",
       "0           0   6.8  123.0          1\n",
       "1           1   5.9  106.0          0\n",
       "2           2   5.3  121.0          0\n",
       "3           3   7.4  132.0          1\n",
       "4           4   5.8  142.0          0"
      ]
     },
     "execution_count": 8,
     "metadata": {},
     "output_type": "execute_result"
    }
   ],
   "source": [
    "df.head()"
   ]
  },
  {
   "cell_type": "markdown",
   "id": "5d9280c6",
   "metadata": {},
   "source": [
    " ### Now we will visualize the data i.e in the form of the graph(scatterplot)"
   ]
  },
  {
   "cell_type": "code",
   "execution_count": 11,
   "id": "d5b08897",
   "metadata": {},
   "outputs": [
    {
     "data": {
      "text/plain": [
       "<matplotlib.collections.PathCollection at 0x1cb9d8f71c0>"
      ]
     },
     "execution_count": 11,
     "metadata": {},
     "output_type": "execute_result"
    },
    {
     "data": {
      "image/png": "[encoded data removed]",
      "text/plain": [
       "<Figure size 432x288 with 1 Axes>"
      ]
     },
     "metadata": {
      "needs_background": "light"
     },
     "output_type": "display_data"
    }
   ],
   "source": [
    "plt.scatter(df['cgpa'],df['iq'],c = df['placement'])"
   ]
  },
  {
   "cell_type": "markdown",
   "id": "2915f731",
   "metadata": {},
   "source": [
    " Now we will seperate the dependent and the independent values"
   ]
  },
  {
   "cell_type": "code",
   "execution_count": 22,
   "id": "6edee5e8",
   "metadata": {},
   "outputs": [],
   "source": [
    "x = df.iloc[:,0:2]\n",
    "y = df.iloc[:,-1]"
   ]
  },
  {
   "cell_type": "markdown",
   "id": "4d134b83",
   "metadata": {},
   "source": [
    "Now we will train and test the Data with the help of the sklearn"
   ]
  },
  {
   "cell_type": "code",
   "execution_count": 27,
   "id": "38f971aa",
   "metadata": {},
   "outputs": [],
   "source": [
    "from sklearn.model_selection import train_test_split\n",
    "x_train,x_test,y_train,y_test = train_test_split(x,y,test_size=0.1)\n",
    "# above 0.1 means 10 percent data is used for the testing and 90 percent is used for the training the model"
   ]
  },
  {
   "cell_type": "markdown",
   "id": "2d2a23fe",
   "metadata": {},
   "source": [
    "Now we can see which data is used for testing and which data is used for training"
   ]
  },
  {
   "cell_type": "code",
   "execution_count": 31,
   "id": "d7b31b84",
   "metadata": {},
   "outputs": [
    {
     "data": {
      "text/html": [
       "<div>\n",
       "<style scoped>\n",
       "    .dataframe tbody tr th:only-of-type {\n",
       "        vertical-align: middle;\n",
       "    }\n",
       "\n",
       "    .dataframe tbody tr th {\n",
       "        vertical-align: top;\n",
       "    }\n",
       "\n",
       "    .dataframe thead th {\n",
       "        text-align: right;\n",
       "    }\n",
       "</style>\n",
       "<table border=\"1\" class=\"dataframe\">\n",
       "  <thead>\n",
       "    <tr style=\"text-align: right;\">\n",
       "      <th></th>\n",
       "      <th>Unnamed: 0</th>\n",
       "      <th>cgpa</th>\n",
       "    </tr>\n",
       "  </thead>\n",
       "  <tbody>\n",
       "    <tr>\n",
       "      <th>95</th>\n",
       "      <td>95</td>\n",
       "      <td>4.3</td>\n",
       "    </tr>\n",
       "    <tr>\n",
       "      <th>2</th>\n",
       "      <td>2</td>\n",
       "      <td>5.3</td>\n",
       "    </tr>\n",
       "    <tr>\n",
       "      <th>26</th>\n",
       "      <td>26</td>\n",
       "      <td>7.0</td>\n",
       "    </tr>\n",
       "    <tr>\n",
       "      <th>99</th>\n",
       "      <td>99</td>\n",
       "      <td>6.2</td>\n",
       "    </tr>\n",
       "    <tr>\n",
       "      <th>28</th>\n",
       "      <td>28</td>\n",
       "      <td>5.2</td>\n",
       "    </tr>\n",
       "    <tr>\n",
       "      <th>78</th>\n",
       "      <td>78</td>\n",
       "      <td>6.1</td>\n",
       "    </tr>\n",
       "    <tr>\n",
       "      <th>83</th>\n",
       "      <td>83</td>\n",
       "      <td>7.5</td>\n",
       "    </tr>\n",
       "    <tr>\n",
       "      <th>69</th>\n",
       "      <td>69</td>\n",
       "      <td>8.5</td>\n",
       "    </tr>\n",
       "    <tr>\n",
       "      <th>93</th>\n",
       "      <td>93</td>\n",
       "      <td>6.8</td>\n",
       "    </tr>\n",
       "    <tr>\n",
       "      <th>87</th>\n",
       "      <td>87</td>\n",
       "      <td>5.7</td>\n",
       "    </tr>\n",
       "  </tbody>\n",
       "</table>\n",
       "</div>"
      ],
      "text/plain": [
       "    Unnamed: 0  cgpa\n",
       "95          95   4.3\n",
       "2            2   5.3\n",
       "26          26   7.0\n",
       "99          99   6.2\n",
       "28          28   5.2\n",
       "78          78   6.1\n",
       "83          83   7.5\n",
       "69          69   8.5\n",
       "93          93   6.8\n",
       "87          87   5.7"
      ]
     },
     "execution_count": 31,
     "metadata": {},
     "output_type": "execute_result"
    }
   ],
   "source": [
    "x_test"
   ]
  },
  {
   "cell_type": "code",
   "execution_count": 32,
   "id": "4e770a50",
   "metadata": {},
   "outputs": [
    {
     "data": {
      "text/plain": [
       "95    0\n",
       "2     0\n",
       "26    1\n",
       "99    1\n",
       "28    0\n",
       "78    0\n",
       "83    1\n",
       "69    1\n",
       "93    1\n",
       "87    1\n",
       "Name: placement, dtype: int64"
      ]
     },
     "execution_count": 32,
     "metadata": {},
     "output_type": "execute_result"
    }
   ],
   "source": [
    "y_test"
   ]
  },
  {
   "cell_type": "markdown",
   "id": "1f78c194",
   "metadata": {},
   "source": [
    "Now we will scale the values for the better understanding not that necesory but the good practice"
   ]
  },
  {
   "cell_type": "code",
   "execution_count": 33,
   "id": "bf4d650f",
   "metadata": {},
   "outputs": [],
   "source": [
    "from sklearn.preprocessing import StandardScaler"
   ]
  },
  {
   "cell_type": "code",
   "execution_count": 34,
   "id": "b96caae2",
   "metadata": {},
   "outputs": [],
   "source": [
    "scaler = StandardScaler()"
   ]
  },
  {
   "cell_type": "code",
   "execution_count": 35,
   "id": "4bd90c20",
   "metadata": {},
   "outputs": [],
   "source": [
    "x_train = scaler.fit_transform(x_train)"
   ]
  },
  {
   "cell_type": "code",
   "execution_count": 36,
   "id": "ea289199",
   "metadata": {},
   "outputs": [
    {
     "data": {
      "text/plain": [
       "array([[ 0.731087  , -1.73449401],\n",
       "       [-0.81498223, -0.85004947],\n",
       "       [ 1.66591957, -1.11538283],\n",
       "       [ 0.69513191, -0.85004947],\n",
       "       [ 0.8389523 ,  0.12283952],\n",
       "       [-0.09588026,  0.03439507],\n",
       "       [-1.35430871,  0.03439507],\n",
       "       [-0.23970066, -0.49627166],\n",
       "       [ 0.55131151,  0.29972843],\n",
       "       [-1.5700393 , -0.14249384],\n",
       "       [ 0.51535641,  0.03439507],\n",
       "       [ 0.8029972 ,  0.29972843],\n",
       "       [-0.85093733, -1.11538283],\n",
       "       [ 1.45018897, -1.38071619],\n",
       "       [-0.27565576, -0.93849392],\n",
       "       [ 0.22771562,  0.38817288],\n",
       "       [ 0.01198503,  0.56506179],\n",
       "       [ 0.08389523, -2.17671628],\n",
       "       [-1.21048832,  0.12283952],\n",
       "       [ 0.04794013, -0.49627166],\n",
       "       [ 0.8749074 ,  1.18417296],\n",
       "       [-0.74307204,  0.03439507],\n",
       "       [-0.56329654,  0.9188396 ],\n",
       "       [-0.99475773,  0.56506179],\n",
       "       [ 0.26367072,  1.62639523],\n",
       "       [ 0.9108625 , -0.93849392],\n",
       "       [-0.05992516, -0.58471611],\n",
       "       [ 1.19850328, -0.49627166],\n",
       "       [ 0.9468176 ,  0.65350624],\n",
       "       [-0.34756595,  0.47661733],\n",
       "       [ 1.55805427,  1.36106187],\n",
       "       [-1.28239851, -0.49627166],\n",
       "       [-0.88689243, -1.11538283],\n",
       "       [ 1.77378486,  0.65350624],\n",
       "       [-0.31161085, -1.20382729],\n",
       "       [-0.02397007, -0.67316056],\n",
       "       [ 1.01872779, -0.93849392],\n",
       "       [-1.6779046 , -0.05404939],\n",
       "       [ 0.47940131,  1.18417296],\n",
       "       [-1.03071282, -0.67316056],\n",
       "       [-0.63520674,  1.44950632],\n",
       "       [-1.06666792, -1.73449401],\n",
       "       [-0.20374556,  1.44950632],\n",
       "       [ 0.15580543,  0.9188396 ],\n",
       "       [-1.6059944 ,  1.27261742],\n",
       "       [ 0.58726661,  0.9188396 ],\n",
       "       [-1.31835361,  0.83039515],\n",
       "       [ 1.37827878, -0.76160502],\n",
       "       [ 1.16254819, -0.93849392],\n",
       "       [ 1.59400937, -0.67316056],\n",
       "       [ 0.40749112, -1.02693838],\n",
       "       [ 0.29962582,  0.12283952],\n",
       "       [-0.16779046,  0.74195069],\n",
       "       [-1.39026381, -0.76160502],\n",
       "       [ 1.52209917,  1.18417296],\n",
       "       [-1.13857812, -0.67316056],\n",
       "       [-1.10262302, -2.35360518],\n",
       "       [-0.59925164, -1.82293846],\n",
       "       [ 1.80973996,  0.29972843],\n",
       "       [-1.49812911, -0.2309383 ],\n",
       "       [ 1.30636858, -0.2309383 ],\n",
       "       [-0.67116184,  0.9188396 ],\n",
       "       [-1.17453322, -0.76160502],\n",
       "       [ 0.37153602,  1.80328414],\n",
       "       [ 1.73782976, -1.38071619],\n",
       "       [-1.7138597 ,  0.74195069],\n",
       "       [ 0.11985033, -1.02693838],\n",
       "       [ 0.62322171,  1.89172859],\n",
       "       [ 1.48614407, -0.93849392],\n",
       "       [ 0.65917681,  0.83039515],\n",
       "       [-0.38352105,  1.89172859],\n",
       "       [-0.45543125,  0.74195069],\n",
       "       [ 1.05468289,  1.18417296],\n",
       "       [-0.13183536,  1.36106187],\n",
       "       [-0.95880263,  1.00728406],\n",
       "       [-1.46217401, -0.85004947],\n",
       "       [ 0.44344622,  0.83039515],\n",
       "       [-1.42621891,  0.12283952],\n",
       "       [-1.5340842 ,  1.00728406],\n",
       "       [-0.52734145,  0.03439507],\n",
       "       [-0.49138635, -1.02693838],\n",
       "       [ 1.23445838,  0.47661733],\n",
       "       [ 0.33558092,  0.47661733],\n",
       "       [ 0.98277269, -1.02693838],\n",
       "       [-0.41947615, -0.2309383 ],\n",
       "       [ 0.19176053,  2.0686175 ],\n",
       "       [ 1.12659309,  0.47661733],\n",
       "       [-0.92284753, -0.93849392],\n",
       "       [-1.24644342,  0.38817288],\n",
       "       [ 1.34232368, -0.14249384]])"
      ]
     },
     "execution_count": 36,
     "metadata": {},
     "output_type": "execute_result"
    }
   ],
   "source": [
    "x_train"
   ]
  },
  {
   "cell_type": "code",
   "execution_count": 37,
   "id": "b509cd5c",
   "metadata": {},
   "outputs": [],
   "source": [
    "x_test = scaler.transform(x_test) # here we will not use fit_transform again as we have already understood the pattern of the data in the training part"
   ]
  },
  {
   "cell_type": "code",
   "execution_count": 38,
   "id": "54e9f876",
   "metadata": {},
   "outputs": [
    {
     "data": {
      "text/plain": [
       "array([[ 1.70187466, -1.46916065],\n",
       "       [-1.6419495 , -0.58471611],\n",
       "       [-0.77902714,  0.9188396 ],\n",
       "       [ 1.84569506,  0.21128397],\n",
       "       [-0.70711694, -0.67316056],\n",
       "       [ 1.09063799,  0.12283952],\n",
       "       [ 1.27041348,  1.36106187],\n",
       "       [ 0.7670421 ,  2.24550641],\n",
       "       [ 1.62996447,  0.74195069],\n",
       "       [ 1.41423388, -0.2309383 ]])"
      ]
     },
     "execution_count": 38,
     "metadata": {},
     "output_type": "execute_result"
    }
   ],
   "source": [
    "x_test"
   ]
  },
  {
   "cell_type": "markdown",
   "id": "aec97780",
   "metadata": {},
   "source": [
    "for training the model we will use logistic regression clasifier and train the model"
   ]
  },
  {
   "cell_type": "code",
   "execution_count": 39,
   "id": "b223f89b",
   "metadata": {},
   "outputs": [],
   "source": [
    "from sklearn.linear_model import LogisticRegression"
   ]
  },
  {
   "cell_type": "code",
   "execution_count": 40,
   "id": "2fa3273b",
   "metadata": {},
   "outputs": [],
   "source": [
    "clf = LogisticRegression()"
   ]
  },
  {
   "cell_type": "markdown",
   "id": "cccdbd45",
   "metadata": {},
   "source": [
    "### This is the model training step using the fit"
   ]
  },
  {
   "cell_type": "code",
   "execution_count": 42,
   "id": "5476abfd",
   "metadata": {},
   "outputs": [
    {
     "data": {
      "text/plain": [
       "LogisticRegression()"
      ]
     },
     "execution_count": 42,
     "metadata": {},
     "output_type": "execute_result"
    }
   ],
   "source": [
    "clf.fit(x_train,y_train)# with the help of the fit method we will train the model"
   ]
  },
  {
   "cell_type": "markdown",
   "id": "ff9964b0",
   "metadata": {},
   "source": [
    "### Now we will predict using the trained model"
   ]
  },
  {
   "cell_type": "code",
   "execution_count": 48,
   "id": "bdc311e8",
   "metadata": {},
   "outputs": [
    {
     "data": {
      "text/plain": [
       "array([0, 0, 1, 1, 0, 1, 1, 1, 1, 0], dtype=int64)"
      ]
     },
     "execution_count": 48,
     "metadata": {},
     "output_type": "execute_result"
    }
   ],
   "source": [
    "y_predict = clf.predict(x_test)\n",
    "y_predict"
   ]
  },
  {
   "cell_type": "code",
   "execution_count": 46,
   "id": "1a79fc2b",
   "metadata": {},
   "outputs": [
    {
     "data": {
      "text/plain": [
       "95    0\n",
       "2     0\n",
       "26    1\n",
       "99    1\n",
       "28    0\n",
       "78    0\n",
       "83    1\n",
       "69    1\n",
       "93    1\n",
       "87    1\n",
       "Name: placement, dtype: int64"
      ]
     },
     "execution_count": 46,
     "metadata": {},
     "output_type": "execute_result"
    }
   ],
   "source": [
    "y_test"
   ]
  },
  {
   "cell_type": "code",
   "execution_count": 49,
   "id": "29527b03",
   "metadata": {},
   "outputs": [],
   "source": [
    "from sklearn.metrics import accuracy_score"
   ]
  },
  {
   "cell_type": "code",
   "execution_count": 51,
   "id": "1f9aeea8",
   "metadata": {},
   "outputs": [
    {
     "data": {
      "text/plain": [
       "0.8"
      ]
     },
     "execution_count": 51,
     "metadata": {},
     "output_type": "execute_result"
    }
   ],
   "source": [
    "accuracy_score(y_test,y_predict) # This will give the accuracy of our model"
   ]
  },
  {
   "cell_type": "markdown",
   "id": "15e723f7",
   "metadata": {},
   "source": [
    "### To see the actual line that is giving the prediction"
   ]
  },
  {
   "cell_type": "code",
   "execution_count": 55,
   "id": "3be119e6",
   "metadata": {},
   "outputs": [],
   "source": [
    "from mlxtend.plotting import plot_decision_regions"
   ]
  },
  {
   "cell_type": "code",
   "execution_count": 57,
   "id": "03004045",
   "metadata": {},
   "outputs": [
    {
     "data": {
      "text/plain": [
       "<AxesSubplot:>"
      ]
     },
     "execution_count": 57,
     "metadata": {},
     "output_type": "execute_result"
    },
    {
     "data": {
      "image/png": "[encoded data removed]",
      "text/plain": [
       "<Figure size 432x288 with 1 Axes>"
      ]
     },
     "metadata": {
      "needs_background": "light"
     },
     "output_type": "display_data"
    }
   ],
   "source": [
    "plot_decision_regions(x_train,y_train.values,clf=clf,legend=2)"
   ]
  },
  {
   "cell_type": "markdown",
   "id": "0894299c",
   "metadata": {},
   "source": [
    "## To make the file of the Trained model we will use python library Pickle"
   ]
  },
  {
   "cell_type": "code",
   "execution_count": 58,
   "id": "746da0e4",
   "metadata": {},
   "outputs": [],
   "source": [
    "import pickle"
   ]
  },
  {
   "cell_type": "code",
   "execution_count": 59,
   "id": "5049b806",
   "metadata": {},
   "outputs": [],
   "source": [
    "pickle.dump(clf,open('placement.pkl','wb'))"
   ]
  },
  {
   "cell_type": "markdown",
   "id": "20ada865",
   "metadata": {},
   "source": [
    "Now the trained model will be there in your folder"
   ]
  }
 ],
 "metadata": {
  "kernelspec": {
   "display_name": "Python 3 (ipykernel)",
   "language": "python",
   "name": "python3"
  },
  "language_info": {
   "codemirror_mode": {
    "name": "ipython",
    "version": 3
   },
   "file_extension": ".py",
   "mimetype": "text/x-python",
   "name": "python",
   "nbconvert_exporter": "python",
   "pygments_lexer": "ipython3",
   "version": "3.9.12"
  }
 },
 "nbformat": 4,
 "nbformat_minor": 5
}
