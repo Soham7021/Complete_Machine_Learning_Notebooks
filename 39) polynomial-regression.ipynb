{
 "cells": [
  {
   "cell_type": "code",
   "execution_count": 35,
   "id": "2f48d412",
   "metadata": {},
   "outputs": [],
   "source": [
    "import numpy as np\n",
    "import matplotlib.pyplot as plt\n",
    "\n",
    "from sklearn.model_selection import train_test_split\n",
    "\n",
    "from sklearn.linear_model import LinearRegression,SGDRegressor\n",
    "\n",
    "from sklearn.preprocessing import PolynomialFeatures,StandardScaler\n",
    "\n",
    "from sklearn.metrics import r2_score\n",
    "\n",
    "from sklearn.pipeline import Pipeline"
   ]
  },
  {
   "cell_type": "code",
   "execution_count": 36,
   "id": "2d353fe1",
   "metadata": {},
   "outputs": [],
   "source": [
    "X = 6 * np.random.rand(200, 1) - 3\n",
    "y = 0.8 * X**2 + 0.9 * X + 2 + np.random.randn(200, 1)\n",
    "\n",
    "# y = 0.8x^2 + 0.9x + 2"
   ]
  },
  {
   "cell_type": "code",
   "execution_count": 37,
   "id": "d79207b0",
   "metadata": {},
   "outputs": [
    {
     "data": {
      "image/png": "[encoded data removed]",
      "text/plain": [
       "<Figure size 432x288 with 1 Axes>"
      ]
     },
     "metadata": {
      "needs_background": "light"
     },
     "output_type": "display_data"
    }
   ],
   "source": [
    "plt.plot(X, y,'b.')\n",
    "plt.xlabel(\"X\")\n",
    "plt.ylabel(\"y\")\n",
    "plt.show()"
   ]
  },
  {
   "cell_type": "code",
   "execution_count": 38,
   "id": "24e79624",
   "metadata": {},
   "outputs": [],
   "source": [
    "# Train test split\n",
    "X_train,X_test,y_train,y_test = train_test_split(X,y,test_size=0.2,random_state=2)"
   ]
  },
  {
   "cell_type": "code",
   "execution_count": 39,
   "id": "6bf1499f",
   "metadata": {},
   "outputs": [],
   "source": [
    "# Applying linear regression\n",
    "lr = LinearRegression()"
   ]
  },
  {
   "cell_type": "code",
   "execution_count": 40,
   "id": "b7cf40da",
   "metadata": {},
   "outputs": [
    {
     "data": {
      "text/plain": [
       "LinearRegression()"
      ]
     },
     "execution_count": 40,
     "metadata": {},
     "output_type": "execute_result"
    }
   ],
   "source": [
    "lr.fit(X_train,y_train)\n"
   ]
  },
  {
   "cell_type": "code",
   "execution_count": 41,
   "id": "7873b95e",
   "metadata": {},
   "outputs": [
    {
     "data": {
      "text/plain": [
       "0.25578132016039024"
      ]
     },
     "execution_count": 41,
     "metadata": {},
     "output_type": "execute_result"
    }
   ],
   "source": [
    "y_pred = lr.predict(X_test)\n",
    "r2_score(y_test,y_pred)"
   ]
  },
  {
   "cell_type": "code",
   "execution_count": 42,
   "id": "9b865660",
   "metadata": {},
   "outputs": [
    {
     "data": {
      "image/png": "[encoded data removed]",
      "text/plain": [
       "<Figure size 432x288 with 1 Axes>"
      ]
     },
     "metadata": {
      "needs_background": "light"
     },
     "output_type": "display_data"
    }
   ],
   "source": [
    "plt.plot(X_train,lr.predict(X_train),color='r')\n",
    "plt.plot(X, y, \"b.\")\n",
    "plt.xlabel(\"X\")\n",
    "plt.ylabel(\"y\")\n",
    "plt.show()"
   ]
  },
  {
   "cell_type": "code",
   "execution_count": 43,
   "id": "cad0a488",
   "metadata": {},
   "outputs": [],
   "source": [
    "# Applying Polynomial Linear Regression\n",
    "# degree 2\n",
    "poly = PolynomialFeatures(degree=2,include_bias=True)\n",
    "\n",
    "X_train_trans = poly.fit_transform(X_train)\n",
    "X_test_trans = poly.transform(X_test)"
   ]
  },
  {
   "cell_type": "code",
   "execution_count": 44,
   "id": "1535057e",
   "metadata": {},
   "outputs": [
    {
     "name": "stdout",
     "output_type": "stream",
     "text": [
      "[0.13829]\n",
      "[1.         0.13829    0.01912412]\n"
     ]
    }
   ],
   "source": [
    "print(X_train[0])\n",
    "print(X_train_trans[0])\n"
   ]
  },
  {
   "cell_type": "code",
   "execution_count": 45,
   "id": "075b1b68",
   "metadata": {},
   "outputs": [],
   "source": [
    "# include_bias parameter\n"
   ]
  },
  {
   "cell_type": "code",
   "execution_count": 46,
   "id": "116b52a9",
   "metadata": {},
   "outputs": [
    {
     "data": {
      "text/plain": [
       "LinearRegression()"
      ]
     },
     "execution_count": 46,
     "metadata": {},
     "output_type": "execute_result"
    }
   ],
   "source": [
    "lr = LinearRegression()\n",
    "lr.fit(X_train_trans,y_train)"
   ]
  },
  {
   "cell_type": "code",
   "execution_count": 47,
   "id": "1e4e1780",
   "metadata": {},
   "outputs": [],
   "source": [
    "y_pred = lr.predict(X_test_trans)"
   ]
  },
  {
   "cell_type": "code",
   "execution_count": 48,
   "id": "1c35b9c1",
   "metadata": {},
   "outputs": [
    {
     "data": {
      "text/plain": [
       "0.8941095204028262"
      ]
     },
     "execution_count": 48,
     "metadata": {},
     "output_type": "execute_result"
    }
   ],
   "source": [
    "r2_score(y_test,y_pred)\n"
   ]
  },
  {
   "cell_type": "code",
   "execution_count": 49,
   "id": "81376b29",
   "metadata": {},
   "outputs": [
    {
     "name": "stdout",
     "output_type": "stream",
     "text": [
      "[[0.         0.92966036 0.77904807]]\n",
      "[1.92728307]\n"
     ]
    }
   ],
   "source": [
    "print(lr.coef_)\n",
    "print(lr.intercept_)"
   ]
  },
  {
   "cell_type": "code",
   "execution_count": 50,
   "id": "8dc8f3df",
   "metadata": {},
   "outputs": [],
   "source": [
    "X_new=np.linspace(-3, 3, 200).reshape(200, 1)\n",
    "X_new_poly = poly.transform(X_new)\n",
    "y_new = lr.predict(X_new_poly)"
   ]
  },
  {
   "cell_type": "code",
   "execution_count": 51,
   "id": "e6fce5ad",
   "metadata": {},
   "outputs": [
    {
     "data": {
      "image/png": "[encoded data removed]",
      "text/plain": [
       "<Figure size 432x288 with 1 Axes>"
      ]
     },
     "metadata": {
      "needs_background": "light"
     },
     "output_type": "display_data"
    }
   ],
   "source": [
    "plt.plot(X_new, y_new, \"r-\", linewidth=2, label=\"Predictions\")\n",
    "plt.plot(X_train, y_train, \"b.\",label='Training points')\n",
    "plt.plot(X_test, y_test, \"g.\",label='Testing points')\n",
    "plt.xlabel(\"X\")\n",
    "plt.ylabel(\"y\")\n",
    "plt.legend()\n",
    "plt.show()"
   ]
  },
  {
   "cell_type": "code",
   "execution_count": 52,
   "id": "3629259e",
   "metadata": {},
   "outputs": [],
   "source": [
    "def polynomial_regression(degree):\n",
    "    X_new=np.linspace(-3, 3, 100).reshape(100, 1)\n",
    "    X_new_poly = poly.transform(X_new)\n",
    "\n",
    "    polybig_features = PolynomialFeatures(degree=degree, include_bias=False)\n",
    "    std_scaler = StandardScaler()\n",
    "    lin_reg = LinearRegression()\n",
    "    polynomial_regression = Pipeline([\n",
    "            (\"poly_features\", polybig_features),\n",
    "            (\"std_scaler\", std_scaler),\n",
    "            (\"lin_reg\", lin_reg),\n",
    "        ])\n",
    "    polynomial_regression.fit(X, y)\n",
    "    y_newbig = polynomial_regression.predict(X_new)\n",
    "    plt.plot(X_new, y_newbig,'r', label=\"Degree \" + str(degree), linewidth=2)\n",
    "\n",
    "    plt.plot(X_train, y_train, \"b.\", linewidth=3)\n",
    "    plt.plot(X_test, y_test, \"g.\", linewidth=3)\n",
    "    plt.legend(loc=\"upper left\")\n",
    "    plt.xlabel(\"X\")\n",
    "    plt.ylabel(\"y\")\n",
    "    plt.axis([-3, 3, 0, 10])\n",
    "    plt.show()"
   ]
  },
  {
   "cell_type": "code",
   "execution_count": 53,
   "id": "b7a3d151",
   "metadata": {},
   "outputs": [
    {
     "name": "stderr",
     "output_type": "stream",
     "text": [
      "C:\\Users\\soham\\anaconda3\\lib\\site-packages\\sklearn\\utils\\extmath.py:1014: RuntimeWarning:\n",
      "\n",
      "overflow encountered in square\n",
      "\n",
      "C:\\Users\\soham\\anaconda3\\lib\\site-packages\\numpy\\core\\fromnumeric.py:86: RuntimeWarning:\n",
      "\n",
      "overflow encountered in reduce\n",
      "\n"
     ]
    },
    {
     "data": {
      "image/png": "[encoded data removed]",
      "text/plain": [
       "<Figure size 432x288 with 1 Axes>"
      ]
     },
     "metadata": {
      "needs_background": "light"
     },
     "output_type": "display_data"
    }
   ],
   "source": [
    "polynomial_regression(350)"
   ]
  },
  {
   "cell_type": "code",
   "execution_count": 54,
   "id": "1f34cd00",
   "metadata": {},
   "outputs": [
    {
     "data": {
      "text/plain": [
       "array([[0],\n",
       "       [1],\n",
       "       [2]], dtype=int64)"
      ]
     },
     "execution_count": 54,
     "metadata": {},
     "output_type": "execute_result"
    }
   ],
   "source": [
    "poly.powers_\n"
   ]
  },
  {
   "cell_type": "code",
   "execution_count": 55,
   "id": "0a801a7a",
   "metadata": {},
   "outputs": [
    {
     "name": "stderr",
     "output_type": "stream",
     "text": [
      "C:\\Users\\soham\\anaconda3\\lib\\site-packages\\sklearn\\utils\\validation.py:993: DataConversionWarning:\n",
      "\n",
      "A column-vector y was passed when a 1d array was expected. Please change the shape of y to (n_samples, ), for example using ravel().\n",
      "\n"
     ]
    },
    {
     "data": {
      "image/png": "[encoded data removed]",
      "text/plain": [
       "<Figure size 432x288 with 1 Axes>"
      ]
     },
     "metadata": {
      "needs_background": "light"
     },
     "output_type": "display_data"
    }
   ],
   "source": [
    "# Applying Gradient Descent\n",
    "\n",
    "poly = PolynomialFeatures(degree=2)\n",
    "\n",
    "X_train_trans = poly.fit_transform(X_train)\n",
    "X_test_trans = poly.transform(X_test)\n",
    "\n",
    "sgd = SGDRegressor(max_iter=100)\n",
    "sgd.fit(X_train_trans,y_train)\n",
    "\n",
    "X_new=np.linspace(-2.9, 2.8, 200).reshape(200, 1)\n",
    "X_new_poly = poly.transform(X_new)\n",
    "y_new = sgd.predict(X_new_poly)\n",
    "\n",
    "y_pred = sgd.predict(X_test_trans)\n",
    "\n",
    "plt.plot(X_new, y_new, \"r-\", linewidth=2, label=\"Predictions \" + str(round(r2_score(y_test,y_pred),2)))\n",
    "plt.plot(X_train, y_train, \"b.\",label='Training points')\n",
    "plt.plot(X_test, y_test, \"g.\",label='Testing points')\n",
    "plt.xlabel(\"X\")\n",
    "plt.ylabel(\"y\")\n",
    "plt.legend()\n",
    "plt.show()"
   ]
  },
  {
   "cell_type": "code",
   "execution_count": 56,
   "id": "31c65313",
   "metadata": {},
   "outputs": [],
   "source": [
    "# 3D polynomial regression\n",
    "x = 7 * np.random.rand(100, 1) - 2.8\n",
    "y = 7 * np.random.rand(100, 1) - 2.8\n",
    "\n",
    "z = x**2 + y**2 + 0.2*x + 0.2*y + 0.1*x*y +2 + np.random.randn(100, 1)\n",
    "# z = x^2 + y^2 + 0.2x + 0.2y + 0.1xy + 2"
   ]
  },
  {
   "cell_type": "code",
   "execution_count": 57,
   "id": "f339f5e6",
   "metadata": {},
   "outputs": [
    {
     "data": {
      "application/vnd.plotly.v1+json": {
       "config": {
        "plotlyServerURL": "https://plot.ly"
       },
       "data": [
        {
         "hovertemplate": "x=%{x}<br>y=%{y}<br>z=%{z}<extra></extra>",
         "legendgroup": "",
         "marker": {
          "color": "#636efa",
          "symbol": "circle"
         },
         "mode": "markers",
         "name": "",
         "scene": "scene",
         "showlegend": false,
         "type": "scatter3d",
         "x": [
          1.8312475828589037,
          1.9447277453292724,
          -2.5754821224677897,
          -1.0116160586405127,
          -1.2759069146927864,
          -2.3481635983156988,
          -1.7406662003173083,
          -1.7001225102388422,
          1.422757100962703,
          2.599495099464531,
          1.410700897851763,
          2.8725183573220336,
          1.88920406319186,
          3.9391340848971224,
          2.023915489039627,
          3.5993925472151878,
          1.7519574707145047,
          1.2926834600928414,
          3.500695298792545,
          0.4705430972715918,
          -2.407371259833894,
          -0.6352771859710602,
          2.1183316286357385,
          -0.5169673478190262,
          3.1212197795806302,
          3.6616220427570427,
          0.7856808698380116,
          -2.0147293819257515,
          3.22589480394367,
          3.4654157719582184,
          3.451675654789976,
          0.23372040030003527,
          1.3047932101641733,
          2.427046915431837,
          3.4430871540823684,
          3.6884870419903173,
          3.043475707089237,
          -2.771979391696477,
          1.2365030550028626,
          3.848660859103436,
          -0.46229816533164314,
          1.7948617996486584,
          -2.637313268571781,
          0.4350926829617614,
          -0.1680575637143482,
          3.6598358340145465,
          3.706039833751606,
          3.575581167413408,
          -1.8282426914356595,
          3.156087740961463,
          -0.4532347208915066,
          0.03824565640923794,
          -1.7953049412311748,
          1.8178900142268493,
          -0.4819137716203272,
          0.4822738949275136,
          -0.638741849017153,
          -1.8070690665229563,
          0.8107561797700664,
          -0.6262988584919418,
          -0.32834820668798814,
          0.19383221602719258,
          -1.599147406161204,
          -0.18056978903250798,
          3.448504285784817,
          3.0687277207272547,
          -0.7928005449850266,
          -1.7807099382751028,
          0.5346471752493396,
          2.38004167475846,
          -2.1726639895761073,
          2.667303795420148,
          2.2191117350002285,
          2.365582784546853,
          -2.5099174778735036,
          3.3871143403426567,
          0.46600283510409035,
          2.3303262721130578,
          -1.3302950908020894,
          0.8560558167006418,
          2.168878360647793,
          2.72977519900763,
          -1.9842517126583705,
          0.5389985913358188,
          -0.20819761725001706,
          3.087305227056704,
          2.1542132466058233,
          -2.3846710354790392,
          -2.0014050914444903,
          -2.757998471856239,
          3.160145527973998,
          2.905657775176709,
          3.735793287332351,
          -2.786388631097286,
          -0.18435074770430138,
          2.5252395388189814,
          -1.3944799096992486,
          0.35589391817490945,
          -1.974992762859034,
          1.8417626679820112
         ],
         "y": [
          2.758149188317244,
          1.249439277603126,
          3.468709005699348,
          1.1677002217491617,
          2.3693241527656976,
          -0.38621869405117204,
          3.137713725964982,
          2.3187222903647244,
          3.4239031354047302,
          -1.1171971250736865,
          -1.578388015054741,
          0.6976739782640506,
          -2.1147005431228094,
          1.800210778418415,
          -0.9829074734313115,
          1.7525571372955193,
          0.20247018070458722,
          -1.8331089393582372,
          2.934798676706512,
          3.5054462551553494,
          0.183091256797824,
          2.4692408764645224,
          0.3473591278212025,
          3.5808908008218934,
          2.078140040716442,
          1.053788713609416,
          0.36696128688088425,
          1.6161463817513395,
          -1.696747373109694,
          -1.4171754081893553,
          -0.06832427467821489,
          2.239492454523382,
          -0.1344938405577074,
          1.192864520911817,
          -0.32705274618812563,
          3.001110892688212,
          -2.1783089759312455,
          0.8188807566206884,
          -1.2760731434172534,
          -1.6916698851843033,
          1.4631709938267994,
          -2.6349264854796908,
          2.789506909520833,
          3.6436549436979213,
          2.891508394074357,
          -2.229954095260151,
          3.9895698090150225,
          -1.6181171424284346,
          2.5822389489669684,
          0.2214368968293683,
          0.5507295780860897,
          -1.5748111212616558,
          -1.1174321778275167,
          -2.582782865046739,
          1.750149528121356,
          3.451402178236088,
          0.903575832461657,
          -2.4625660399510934,
          -1.5306354073158213,
          -1.6091665401063482,
          1.366869769140834,
          -1.2592247568217378,
          1.4828645434491152,
          2.483353748606973,
          1.6613114061152512,
          2.066280471486337,
          1.4866620982110028,
          -1.76674211874398,
          -2.0190601916527733,
          2.374403899257974,
          -0.7822583414735531,
          1.3961435229210144,
          -0.4825305030747873,
          -2.4390668268304507,
          3.863517927767864,
          2.6249498817129666,
          3.8211308750158404,
          0.5271889456289198,
          3.5381909298590086,
          -0.8754994688998909,
          2.7316738713853645,
          0.2099365259961834,
          -0.9903176388713484,
          1.1251881971672955,
          4.16931022817798,
          -2.4359839596584028,
          1.47141043050524,
          0.23915886368775086,
          2.4244107325660185,
          3.715919897741421,
          -0.7811916686995031,
          1.313800990308347,
          1.4878231570393599,
          4.195682230727559,
          -1.50501462139332,
          -0.05222548742233357,
          2.4130007069330803,
          2.67061360514096,
          -2.228948127885457,
          0.6341349089586452
         ],
         "z": [
          14.7028175179555,
          6.1169819554080815,
          21.811251440777866,
          5.282577692538293,
          7.101397198889904,
          7.489696798196924,
          15.19939852559078,
          9.623049334419342,
          16.280445678564302,
          10.623763347968056,
          6.325837785788338,
          11.175649318591171,
          8.975502274427413,
          22.962946145325727,
          7.496705925283496,
          20.589910744590387,
          6.125747860010215,
          7.777091316919253,
          25.156140805280717,
          15.228264703040772,
          8.797662909706768,
          8.921090265118648,
          7.293956285213844,
          16.37556701267479,
          18.250218035682735,
          17.92151724676353,
          1.1945464935536532,
          10.168990789789495,
          16.022921763697738,
          15.985786001696358,
          13.575932239343889,
          7.175349811631872,
          5.161258814669423,
          9.83419228093534,
          14.304001962709611,
          27.252377471646074,
          15.335235391557138,
          9.61847167685703,
          5.25176146906279,
          18.622059247641747,
          4.970052548974551,
          11.108109519779612,
          15.164145519493129,
          16.074528873804894,
          11.040977960814043,
          19.574810041627615,
          33.69044834421566,
          15.922635466599514,
          12.443842799671186,
          12.964910128255074,
          3.624561677098199,
          3.474405387775499,
          6.153121615724048,
          13.057206978568502,
          6.094098677916545,
          12.410485605036417,
          2.8264680849774084,
          10.472528407202807,
          5.527999702054099,
          5.340993093667917,
          5.938127764121537,
          3.830580964966116,
          7.743522560075802,
          8.6086567264207,
          18.96237169004568,
          16.49573171379547,
          4.581718514616825,
          8.693922956787404,
          6.201033782734296,
          13.771932249997997,
          4.962750597003632,
          11.950883019490677,
          8.98526169828155,
          12.355209834825006,
          22.28622914583016,
          21.201437494852463,
          18.08056525652436,
          9.077054905908268,
          15.77785351981811,
          1.8213576975479302,
          16.54794998476296,
          12.27792666394592,
          6.1774138729073655,
          2.3456633133437332,
          19.33868591549413,
          17.445753335184584,
          9.706880642129326,
          7.254372886295862,
          12.171906916925419,
          21.64503257793158,
          12.26747414345176,
          12.308238829655402,
          20.374889834018052,
          26.336925914275568,
          4.243864852651991,
          7.367619537237066,
          9.118066192905477,
          7.5208335150305565,
          13.567429614858623,
          5.247198715139745
         ]
        }
       ],
       "layout": {
        "legend": {
         "tracegroupgap": 0
        },
        "margin": {
         "t": 60
        },
        "scene": {
         "domain": {
          "x": [
           0,
           1
          ],
          "y": [
           0,
           1
          ]
         },
         "xaxis": {
          "title": {
           "text": "x"
          }
         },
         "yaxis": {
          "title": {
           "text": "y"
          }
         },
         "zaxis": {
          "title": {
           "text": "z"
          }
         }
        },
        "template": {
         "data": {
          "bar": [
           {
            "error_x": {
             "color": "#2a3f5f"
            },
            "error_y": {
             "color": "#2a3f5f"
            },
            "marker": {
             "line": {
              "color": "#E5ECF6",
              "width": 0.5
             },
             "pattern": {
              "fillmode": "overlay",
              "size": 10,
              "solidity": 0.2
             }
            },
            "type": "bar"
           }
          ],
          "barpolar": [
           {
            "marker": {
             "line": {
              "color": "#E5ECF6",
              "width": 0.5
             },
             "pattern": {
              "fillmode": "overlay",
              "size": 10,
              "solidity": 0.2
             }
            },
            "type": "barpolar"
           }
          ],
          "carpet": [
           {
            "aaxis": {
             "endlinecolor": "#2a3f5f",
             "gridcolor": "white",
             "linecolor": "white",
             "minorgridcolor": "white",
             "startlinecolor": "#2a3f5f"
            },
            "baxis": {
             "endlinecolor": "#2a3f5f",
             "gridcolor": "white",
             "linecolor": "white",
             "minorgridcolor": "white",
             "startlinecolor": "#2a3f5f"
            },
            "type": "carpet"
           }
          ],
          "choropleth": [
           {
            "colorbar": {
             "outlinewidth": 0,
             "ticks": ""
            },
            "type": "choropleth"
           }
          ],
          "contour": [
           {
            "colorbar": {
             "outlinewidth": 0,
             "ticks": ""
            },
            "colorscale": [
             [
              0,
              "#0d0887"
             ],
             [
              0.1111111111111111,
              "#46039f"
             ],
             [
              0.2222222222222222,
              "#7201a8"
             ],
             [
              0.3333333333333333,
              "#9c179e"
             ],
             [
              0.4444444444444444,
              "#bd3786"
             ],
             [
              0.5555555555555556,
              "#d8576b"
             ],
             [
              0.6666666666666666,
              "#ed7953"
             ],
             [
              0.7777777777777778,
              "#fb9f3a"
             ],
             [
              0.8888888888888888,
              "#fdca26"
             ],
             [
              1,
              "#f0f921"
             ]
            ],
            "type": "contour"
           }
          ],
          "contourcarpet": [
           {
            "colorbar": {
             "outlinewidth": 0,
             "ticks": ""
            },
            "type": "contourcarpet"
           }
          ],
          "heatmap": [
           {
            "colorbar": {
             "outlinewidth": 0,
             "ticks": ""
            },
            "colorscale": [
             [
              0,
              "#0d0887"
             ],
             [
              0.1111111111111111,
              "#46039f"
             ],
             [
              0.2222222222222222,
              "#7201a8"
             ],
             [
              0.3333333333333333,
              "#9c179e"
             ],
             [
              0.4444444444444444,
              "#bd3786"
             ],
             [
              0.5555555555555556,
              "#d8576b"
             ],
             [
              0.6666666666666666,
              "#ed7953"
             ],
             [
              0.7777777777777778,
              "#fb9f3a"
             ],
             [
              0.8888888888888888,
              "#fdca26"
             ],
             [
              1,
              "#f0f921"
             ]
            ],
            "type": "heatmap"
           }
          ],
          "heatmapgl": [
           {
            "colorbar": {
             "outlinewidth": 0,
             "ticks": ""
            },
            "colorscale": [
             [
              0,
              "#0d0887"
             ],
             [
              0.1111111111111111,
              "#46039f"
             ],
             [
              0.2222222222222222,
              "#7201a8"
             ],
             [
              0.3333333333333333,
              "#9c179e"
             ],
             [
              0.4444444444444444,
              "#bd3786"
             ],
             [
              0.5555555555555556,
              "#d8576b"
             ],
             [
              0.6666666666666666,
              "#ed7953"
             ],
             [
              0.7777777777777778,
              "#fb9f3a"
             ],
             [
              0.8888888888888888,
              "#fdca26"
             ],
             [
              1,
              "#f0f921"
             ]
            ],
            "type": "heatmapgl"
           }
          ],
          "histogram": [
           {
            "marker": {
             "pattern": {
              "fillmode": "overlay",
              "size": 10,
              "solidity": 0.2
             }
            },
            "type": "histogram"
           }
          ],
          "histogram2d": [
           {
            "colorbar": {
             "outlinewidth": 0,
             "ticks": ""
            },
            "colorscale": [
             [
              0,
              "#0d0887"
             ],
             [
              0.1111111111111111,
              "#46039f"
             ],
             [
              0.2222222222222222,
              "#7201a8"
             ],
             [
              0.3333333333333333,
              "#9c179e"
             ],
             [
              0.4444444444444444,
              "#bd3786"
             ],
             [
              0.5555555555555556,
              "#d8576b"
             ],
             [
              0.6666666666666666,
              "#ed7953"
             ],
             [
              0.7777777777777778,
              "#fb9f3a"
             ],
             [
              0.8888888888888888,
              "#fdca26"
             ],
             [
              1,
              "#f0f921"
             ]
            ],
            "type": "histogram2d"
           }
          ],
          "histogram2dcontour": [
           {
            "colorbar": {
             "outlinewidth": 0,
             "ticks": ""
            },
            "colorscale": [
             [
              0,
              "#0d0887"
             ],
             [
              0.1111111111111111,
              "#46039f"
             ],
             [
              0.2222222222222222,
              "#7201a8"
             ],
             [
              0.3333333333333333,
              "#9c179e"
             ],
             [
              0.4444444444444444,
              "#bd3786"
             ],
             [
              0.5555555555555556,
              "#d8576b"
             ],
             [
              0.6666666666666666,
              "#ed7953"
             ],
             [
              0.7777777777777778,
              "#fb9f3a"
             ],
             [
              0.8888888888888888,
              "#fdca26"
             ],
             [
              1,
              "#f0f921"
             ]
            ],
            "type": "histogram2dcontour"
           }
          ],
          "mesh3d": [
           {
            "colorbar": {
             "outlinewidth": 0,
             "ticks": ""
            },
            "type": "mesh3d"
           }
          ],
          "parcoords": [
           {
            "line": {
             "colorbar": {
              "outlinewidth": 0,
              "ticks": ""
             }
            },
            "type": "parcoords"
           }
          ],
          "pie": [
           {
            "automargin": true,
            "type": "pie"
           }
          ],
          "scatter": [
           {
            "marker": {
             "colorbar": {
              "outlinewidth": 0,
              "ticks": ""
             }
            },
            "type": "scatter"
           }
          ],
          "scatter3d": [
           {
            "line": {
             "colorbar": {
              "outlinewidth": 0,
              "ticks": ""
             }
            },
            "marker": {
             "colorbar": {
              "outlinewidth": 0,
              "ticks": ""
             }
            },
            "type": "scatter3d"
           }
          ],
          "scattercarpet": [
           {
            "marker": {
             "colorbar": {
              "outlinewidth": 0,
              "ticks": ""
             }
            },
            "type": "scattercarpet"
           }
          ],
          "scattergeo": [
           {
            "marker": {
             "colorbar": {
              "outlinewidth": 0,
              "ticks": ""
             }
            },
            "type": "scattergeo"
           }
          ],
          "scattergl": [
           {
            "marker": {
             "colorbar": {
              "outlinewidth": 0,
              "ticks": ""
             }
            },
            "type": "scattergl"
           }
          ],
          "scattermapbox": [
           {
            "marker": {
             "colorbar": {
              "outlinewidth": 0,
              "ticks": ""
             }
            },
            "type": "scattermapbox"
           }
          ],
          "scatterpolar": [
           {
            "marker": {
             "colorbar": {
              "outlinewidth": 0,
              "ticks": ""
             }
            },
            "type": "scatterpolar"
           }
          ],
          "scatterpolargl": [
           {
            "marker": {
             "colorbar": {
              "outlinewidth": 0,
              "ticks": ""
             }
            },
            "type": "scatterpolargl"
           }
          ],
          "scatterternary": [
           {
            "marker": {
             "colorbar": {
              "outlinewidth": 0,
              "ticks": ""
             }
            },
            "type": "scatterternary"
           }
          ],
          "surface": [
           {
            "colorbar": {
             "outlinewidth": 0,
             "ticks": ""
            },
            "colorscale": [
             [
              0,
              "#0d0887"
             ],
             [
              0.1111111111111111,
              "#46039f"
             ],
             [
              0.2222222222222222,
              "#7201a8"
             ],
             [
              0.3333333333333333,
              "#9c179e"
             ],
             [
              0.4444444444444444,
              "#bd3786"
             ],
             [
              0.5555555555555556,
              "#d8576b"
             ],
             [
              0.6666666666666666,
              "#ed7953"
             ],
             [
              0.7777777777777778,
              "#fb9f3a"
             ],
             [
              0.8888888888888888,
              "#fdca26"
             ],
             [
              1,
              "#f0f921"
             ]
            ],
            "type": "surface"
           }
          ],
          "table": [
           {
            "cells": {
             "fill": {
              "color": "#EBF0F8"
             },
             "line": {
              "color": "white"
             }
            },
            "header": {
             "fill": {
              "color": "#C8D4E3"
             },
             "line": {
              "color": "white"
             }
            },
            "type": "table"
           }
          ]
         },
         "layout": {
          "annotationdefaults": {
           "arrowcolor": "#2a3f5f",
           "arrowhead": 0,
           "arrowwidth": 1
          },
          "autotypenumbers": "strict",
          "coloraxis": {
           "colorbar": {
            "outlinewidth": 0,
            "ticks": ""
           }
          },
          "colorscale": {
           "diverging": [
            [
             0,
             "#8e0152"
            ],
            [
             0.1,
             "#c51b7d"
            ],
            [
             0.2,
             "#de77ae"
            ],
            [
             0.3,
             "#f1b6da"
            ],
            [
             0.4,
             "#fde0ef"
            ],
            [
             0.5,
             "#f7f7f7"
            ],
            [
             0.6,
             "#e6f5d0"
            ],
            [
             0.7,
             "#b8e186"
            ],
            [
             0.8,
             "#7fbc41"
            ],
            [
             0.9,
             "#4d9221"
            ],
            [
             1,
             "#276419"
            ]
           ],
           "sequential": [
            [
             0,
             "#0d0887"
            ],
            [
             0.1111111111111111,
             "#46039f"
            ],
            [
             0.2222222222222222,
             "#7201a8"
            ],
            [
             0.3333333333333333,
             "#9c179e"
            ],
            [
             0.4444444444444444,
             "#bd3786"
            ],
            [
             0.5555555555555556,
             "#d8576b"
            ],
            [
             0.6666666666666666,
             "#ed7953"
            ],
            [
             0.7777777777777778,
             "#fb9f3a"
            ],
            [
             0.8888888888888888,
             "#fdca26"
            ],
            [
             1,
             "#f0f921"
            ]
           ],
           "sequentialminus": [
            [
             0,
             "#0d0887"
            ],
            [
             0.1111111111111111,
             "#46039f"
            ],
            [
             0.2222222222222222,
             "#7201a8"
            ],
            [
             0.3333333333333333,
             "#9c179e"
            ],
            [
             0.4444444444444444,
             "#bd3786"
            ],
            [
             0.5555555555555556,
             "#d8576b"
            ],
            [
             0.6666666666666666,
             "#ed7953"
            ],
            [
             0.7777777777777778,
             "#fb9f3a"
            ],
            [
             0.8888888888888888,
             "#fdca26"
            ],
            [
             1,
             "#f0f921"
            ]
           ]
          },
          "colorway": [
           "#636efa",
           "#EF553B",
           "#00cc96",
           "#ab63fa",
           "#FFA15A",
           "#19d3f3",
           "#FF6692",
           "#B6E880",
           "#FF97FF",
           "#FECB52"
          ],
          "font": {
           "color": "#2a3f5f"
          },
          "geo": {
           "bgcolor": "white",
           "lakecolor": "white",
           "landcolor": "#E5ECF6",
           "showlakes": true,
           "showland": true,
           "subunitcolor": "white"
          },
          "hoverlabel": {
           "align": "left"
          },
          "hovermode": "closest",
          "mapbox": {
           "style": "light"
          },
          "paper_bgcolor": "white",
          "plot_bgcolor": "#E5ECF6",
          "polar": {
           "angularaxis": {
            "gridcolor": "white",
            "linecolor": "white",
            "ticks": ""
           },
           "bgcolor": "#E5ECF6",
           "radialaxis": {
            "gridcolor": "white",
            "linecolor": "white",
            "ticks": ""
           }
          },
          "scene": {
           "xaxis": {
            "backgroundcolor": "#E5ECF6",
            "gridcolor": "white",
            "gridwidth": 2,
            "linecolor": "white",
            "showbackground": true,
            "ticks": "",
            "zerolinecolor": "white"
           },
           "yaxis": {
            "backgroundcolor": "#E5ECF6",
            "gridcolor": "white",
            "gridwidth": 2,
            "linecolor": "white",
            "showbackground": true,
            "ticks": "",
            "zerolinecolor": "white"
           },
           "zaxis": {
            "backgroundcolor": "#E5ECF6",
            "gridcolor": "white",
            "gridwidth": 2,
            "linecolor": "white",
            "showbackground": true,
            "ticks": "",
            "zerolinecolor": "white"
           }
          },
          "shapedefaults": {
           "line": {
            "color": "#2a3f5f"
           }
          },
          "ternary": {
           "aaxis": {
            "gridcolor": "white",
            "linecolor": "white",
            "ticks": ""
           },
           "baxis": {
            "gridcolor": "white",
            "linecolor": "white",
            "ticks": ""
           },
           "bgcolor": "#E5ECF6",
           "caxis": {
            "gridcolor": "white",
            "linecolor": "white",
            "ticks": ""
           }
          },
          "title": {
           "x": 0.05
          },
          "xaxis": {
           "automargin": true,
           "gridcolor": "white",
           "linecolor": "white",
           "ticks": "",
           "title": {
            "standoff": 15
           },
           "zerolinecolor": "white",
           "zerolinewidth": 2
          },
          "yaxis": {
           "automargin": true,
           "gridcolor": "white",
           "linecolor": "white",
           "ticks": "",
           "title": {
            "standoff": 15
           },
           "zerolinecolor": "white",
           "zerolinewidth": 2
          }
         }
        }
       }
      },
      "text/html": [
       "<div>                            <div id=\"88d66919-ab29-485b-a4f7-ed8bcd1beb2d\" class=\"plotly-graph-div\" style=\"height:525px; width:100%;\"></div>            <script type=\"text/javascript\">                require([\"plotly\"], function(Plotly) {                    window.PLOTLYENV=window.PLOTLYENV || {};                                    if (document.getElementById(\"88d66919-ab29-485b-a4f7-ed8bcd1beb2d\")) {                    Plotly.newPlot(                        \"88d66919-ab29-485b-a4f7-ed8bcd1beb2d\",                        [{\"hovertemplate\":\"x=%{x}<br>y=%{y}<br>z=%{z}<extra></extra>\",\"legendgroup\":\"\",\"marker\":{\"color\":\"#636efa\",\"symbol\":\"circle\"},\"mode\":\"markers\",\"name\":\"\",\"scene\":\"scene\",\"showlegend\":false,\"x\":[1.8312475828589037,1.9447277453292724,-2.5754821224677897,-1.0116160586405127,-1.2759069146927864,-2.3481635983156988,-1.7406662003173083,-1.7001225102388422,1.422757100962703,2.599495099464531,1.410700897851763,2.8725183573220336,1.88920406319186,3.9391340848971224,2.023915489039627,3.5993925472151878,1.7519574707145047,1.2926834600928414,3.500695298792545,0.4705430972715918,-2.407371259833894,-0.6352771859710602,2.1183316286357385,-0.5169673478190262,3.1212197795806302,3.6616220427570427,0.7856808698380116,-2.0147293819257515,3.22589480394367,3.4654157719582184,3.451675654789976,0.23372040030003527,1.3047932101641733,2.427046915431837,3.4430871540823684,3.6884870419903173,3.043475707089237,-2.771979391696477,1.2365030550028626,3.848660859103436,-0.46229816533164314,1.7948617996486584,-2.637313268571781,0.4350926829617614,-0.1680575637143482,3.6598358340145465,3.706039833751606,3.575581167413408,-1.8282426914356595,3.156087740961463,-0.4532347208915066,0.03824565640923794,-1.7953049412311748,1.8178900142268493,-0.4819137716203272,0.4822738949275136,-0.638741849017153,-1.8070690665229563,0.8107561797700664,-0.6262988584919418,-0.32834820668798814,0.19383221602719258,-1.599147406161204,-0.18056978903250798,3.448504285784817,3.0687277207272547,-0.7928005449850266,-1.7807099382751028,0.5346471752493396,2.38004167475846,-2.1726639895761073,2.667303795420148,2.2191117350002285,2.365582784546853,-2.5099174778735036,3.3871143403426567,0.46600283510409035,2.3303262721130578,-1.3302950908020894,0.8560558167006418,2.168878360647793,2.72977519900763,-1.9842517126583705,0.5389985913358188,-0.20819761725001706,3.087305227056704,2.1542132466058233,-2.3846710354790392,-2.0014050914444903,-2.757998471856239,3.160145527973998,2.905657775176709,3.735793287332351,-2.786388631097286,-0.18435074770430138,2.5252395388189814,-1.3944799096992486,0.35589391817490945,-1.974992762859034,1.8417626679820112],\"y\":[2.758149188317244,1.249439277603126,3.468709005699348,1.1677002217491617,2.3693241527656976,-0.38621869405117204,3.137713725964982,2.3187222903647244,3.4239031354047302,-1.1171971250736865,-1.578388015054741,0.6976739782640506,-2.1147005431228094,1.800210778418415,-0.9829074734313115,1.7525571372955193,0.20247018070458722,-1.8331089393582372,2.934798676706512,3.5054462551553494,0.183091256797824,2.4692408764645224,0.3473591278212025,3.5808908008218934,2.078140040716442,1.053788713609416,0.36696128688088425,1.6161463817513395,-1.696747373109694,-1.4171754081893553,-0.06832427467821489,2.239492454523382,-0.1344938405577074,1.192864520911817,-0.32705274618812563,3.001110892688212,-2.1783089759312455,0.8188807566206884,-1.2760731434172534,-1.6916698851843033,1.4631709938267994,-2.6349264854796908,2.789506909520833,3.6436549436979213,2.891508394074357,-2.229954095260151,3.9895698090150225,-1.6181171424284346,2.5822389489669684,0.2214368968293683,0.5507295780860897,-1.5748111212616558,-1.1174321778275167,-2.582782865046739,1.750149528121356,3.451402178236088,0.903575832461657,-2.4625660399510934,-1.5306354073158213,-1.6091665401063482,1.366869769140834,-1.2592247568217378,1.4828645434491152,2.483353748606973,1.6613114061152512,2.066280471486337,1.4866620982110028,-1.76674211874398,-2.0190601916527733,2.374403899257974,-0.7822583414735531,1.3961435229210144,-0.4825305030747873,-2.4390668268304507,3.863517927767864,2.6249498817129666,3.8211308750158404,0.5271889456289198,3.5381909298590086,-0.8754994688998909,2.7316738713853645,0.2099365259961834,-0.9903176388713484,1.1251881971672955,4.16931022817798,-2.4359839596584028,1.47141043050524,0.23915886368775086,2.4244107325660185,3.715919897741421,-0.7811916686995031,1.313800990308347,1.4878231570393599,4.195682230727559,-1.50501462139332,-0.05222548742233357,2.4130007069330803,2.67061360514096,-2.228948127885457,0.6341349089586452],\"z\":[14.7028175179555,6.1169819554080815,21.811251440777866,5.282577692538293,7.101397198889904,7.489696798196924,15.19939852559078,9.623049334419342,16.280445678564302,10.623763347968056,6.325837785788338,11.175649318591171,8.975502274427413,22.962946145325727,7.496705925283496,20.589910744590387,6.125747860010215,7.777091316919253,25.156140805280717,15.228264703040772,8.797662909706768,8.921090265118648,7.293956285213844,16.37556701267479,18.250218035682735,17.92151724676353,1.1945464935536532,10.168990789789495,16.022921763697738,15.985786001696358,13.575932239343889,7.175349811631872,5.161258814669423,9.83419228093534,14.304001962709611,27.252377471646074,15.335235391557138,9.61847167685703,5.25176146906279,18.622059247641747,4.970052548974551,11.108109519779612,15.164145519493129,16.074528873804894,11.040977960814043,19.574810041627615,33.69044834421566,15.922635466599514,12.443842799671186,12.964910128255074,3.624561677098199,3.474405387775499,6.153121615724048,13.057206978568502,6.094098677916545,12.410485605036417,2.8264680849774084,10.472528407202807,5.527999702054099,5.340993093667917,5.938127764121537,3.830580964966116,7.743522560075802,8.6086567264207,18.96237169004568,16.49573171379547,4.581718514616825,8.693922956787404,6.201033782734296,13.771932249997997,4.962750597003632,11.950883019490677,8.98526169828155,12.355209834825006,22.28622914583016,21.201437494852463,18.08056525652436,9.077054905908268,15.77785351981811,1.8213576975479302,16.54794998476296,12.27792666394592,6.1774138729073655,2.3456633133437332,19.33868591549413,17.445753335184584,9.706880642129326,7.254372886295862,12.171906916925419,21.64503257793158,12.26747414345176,12.308238829655402,20.374889834018052,26.336925914275568,4.243864852651991,7.367619537237066,9.118066192905477,7.5208335150305565,13.567429614858623,5.247198715139745],\"type\":\"scatter3d\"}],                        {\"template\":{\"data\":{\"bar\":[{\"error_x\":{\"color\":\"#2a3f5f\"},\"error_y\":{\"color\":\"#2a3f5f\"},\"marker\":{\"line\":{\"color\":\"#E5ECF6\",\"width\":0.5},\"pattern\":{\"fillmode\":\"overlay\",\"size\":10,\"solidity\":0.2}},\"type\":\"bar\"}],\"barpolar\":[{\"marker\":{\"line\":{\"color\":\"#E5ECF6\",\"width\":0.5},\"pattern\":{\"fillmode\":\"overlay\",\"size\":10,\"solidity\":0.2}},\"type\":\"barpolar\"}],\"carpet\":[{\"aaxis\":{\"endlinecolor\":\"#2a3f5f\",\"gridcolor\":\"white\",\"linecolor\":\"white\",\"minorgridcolor\":\"white\",\"startlinecolor\":\"#2a3f5f\"},\"baxis\":{\"endlinecolor\":\"#2a3f5f\",\"gridcolor\":\"white\",\"linecolor\":\"white\",\"minorgridcolor\":\"white\",\"startlinecolor\":\"#2a3f5f\"},\"type\":\"carpet\"}],\"choropleth\":[{\"colorbar\":{\"outlinewidth\":0,\"ticks\":\"\"},\"type\":\"choropleth\"}],\"contour\":[{\"colorbar\":{\"outlinewidth\":0,\"ticks\":\"\"},\"colorscale\":[[0.0,\"#0d0887\"],[0.1111111111111111,\"#46039f\"],[0.2222222222222222,\"#7201a8\"],[0.3333333333333333,\"#9c179e\"],[0.4444444444444444,\"#bd3786\"],[0.5555555555555556,\"#d8576b\"],[0.6666666666666666,\"#ed7953\"],[0.7777777777777778,\"#fb9f3a\"],[0.8888888888888888,\"#fdca26\"],[1.0,\"#f0f921\"]],\"type\":\"contour\"}],\"contourcarpet\":[{\"colorbar\":{\"outlinewidth\":0,\"ticks\":\"\"},\"type\":\"contourcarpet\"}],\"heatmap\":[{\"colorbar\":{\"outlinewidth\":0,\"ticks\":\"\"},\"colorscale\":[[0.0,\"#0d0887\"],[0.1111111111111111,\"#46039f\"],[0.2222222222222222,\"#7201a8\"],[0.3333333333333333,\"#9c179e\"],[0.4444444444444444,\"#bd3786\"],[0.5555555555555556,\"#d8576b\"],[0.6666666666666666,\"#ed7953\"],[0.7777777777777778,\"#fb9f3a\"],[0.8888888888888888,\"#fdca26\"],[1.0,\"#f0f921\"]],\"type\":\"heatmap\"}],\"heatmapgl\":[{\"colorbar\":{\"outlinewidth\":0,\"ticks\":\"\"},\"colorscale\":[[0.0,\"#0d0887\"],[0.1111111111111111,\"#46039f\"],[0.2222222222222222,\"#7201a8\"],[0.3333333333333333,\"#9c179e\"],[0.4444444444444444,\"#bd3786\"],[0.5555555555555556,\"#d8576b\"],[0.6666666666666666,\"#ed7953\"],[0.7777777777777778,\"#fb9f3a\"],[0.8888888888888888,\"#fdca26\"],[1.0,\"#f0f921\"]],\"type\":\"heatmapgl\"}],\"histogram\":[{\"marker\":{\"pattern\":{\"fillmode\":\"overlay\",\"size\":10,\"solidity\":0.2}},\"type\":\"histogram\"}],\"histogram2d\":[{\"colorbar\":{\"outlinewidth\":0,\"ticks\":\"\"},\"colorscale\":[[0.0,\"#0d0887\"],[0.1111111111111111,\"#46039f\"],[0.2222222222222222,\"#7201a8\"],[0.3333333333333333,\"#9c179e\"],[0.4444444444444444,\"#bd3786\"],[0.5555555555555556,\"#d8576b\"],[0.6666666666666666,\"#ed7953\"],[0.7777777777777778,\"#fb9f3a\"],[0.8888888888888888,\"#fdca26\"],[1.0,\"#f0f921\"]],\"type\":\"histogram2d\"}],\"histogram2dcontour\":[{\"colorbar\":{\"outlinewidth\":0,\"ticks\":\"\"},\"colorscale\":[[0.0,\"#0d0887\"],[0.1111111111111111,\"#46039f\"],[0.2222222222222222,\"#7201a8\"],[0.3333333333333333,\"#9c179e\"],[0.4444444444444444,\"#bd3786\"],[0.5555555555555556,\"#d8576b\"],[0.6666666666666666,\"#ed7953\"],[0.7777777777777778,\"#fb9f3a\"],[0.8888888888888888,\"#fdca26\"],[1.0,\"#f0f921\"]],\"type\":\"histogram2dcontour\"}],\"mesh3d\":[{\"colorbar\":{\"outlinewidth\":0,\"ticks\":\"\"},\"type\":\"mesh3d\"}],\"parcoords\":[{\"line\":{\"colorbar\":{\"outlinewidth\":0,\"ticks\":\"\"}},\"type\":\"parcoords\"}],\"pie\":[{\"automargin\":true,\"type\":\"pie\"}],\"scatter\":[{\"marker\":{\"colorbar\":{\"outlinewidth\":0,\"ticks\":\"\"}},\"type\":\"scatter\"}],\"scatter3d\":[{\"line\":{\"colorbar\":{\"outlinewidth\":0,\"ticks\":\"\"}},\"marker\":{\"colorbar\":{\"outlinewidth\":0,\"ticks\":\"\"}},\"type\":\"scatter3d\"}],\"scattercarpet\":[{\"marker\":{\"colorbar\":{\"outlinewidth\":0,\"ticks\":\"\"}},\"type\":\"scattercarpet\"}],\"scattergeo\":[{\"marker\":{\"colorbar\":{\"outlinewidth\":0,\"ticks\":\"\"}},\"type\":\"scattergeo\"}],\"scattergl\":[{\"marker\":{\"colorbar\":{\"outlinewidth\":0,\"ticks\":\"\"}},\"type\":\"scattergl\"}],\"scattermapbox\":[{\"marker\":{\"colorbar\":{\"outlinewidth\":0,\"ticks\":\"\"}},\"type\":\"scattermapbox\"}],\"scatterpolar\":[{\"marker\":{\"colorbar\":{\"outlinewidth\":0,\"ticks\":\"\"}},\"type\":\"scatterpolar\"}],\"scatterpolargl\":[{\"marker\":{\"colorbar\":{\"outlinewidth\":0,\"ticks\":\"\"}},\"type\":\"scatterpolargl\"}],\"scatterternary\":[{\"marker\":{\"colorbar\":{\"outlinewidth\":0,\"ticks\":\"\"}},\"type\":\"scatterternary\"}],\"surface\":[{\"colorbar\":{\"outlinewidth\":0,\"ticks\":\"\"},\"colorscale\":[[0.0,\"#0d0887\"],[0.1111111111111111,\"#46039f\"],[0.2222222222222222,\"#7201a8\"],[0.3333333333333333,\"#9c179e\"],[0.4444444444444444,\"#bd3786\"],[0.5555555555555556,\"#d8576b\"],[0.6666666666666666,\"#ed7953\"],[0.7777777777777778,\"#fb9f3a\"],[0.8888888888888888,\"#fdca26\"],[1.0,\"#f0f921\"]],\"type\":\"surface\"}],\"table\":[{\"cells\":{\"fill\":{\"color\":\"#EBF0F8\"},\"line\":{\"color\":\"white\"}},\"header\":{\"fill\":{\"color\":\"#C8D4E3\"},\"line\":{\"color\":\"white\"}},\"type\":\"table\"}]},\"layout\":{\"annotationdefaults\":{\"arrowcolor\":\"#2a3f5f\",\"arrowhead\":0,\"arrowwidth\":1},\"autotypenumbers\":\"strict\",\"coloraxis\":{\"colorbar\":{\"outlinewidth\":0,\"ticks\":\"\"}},\"colorscale\":{\"diverging\":[[0,\"#8e0152\"],[0.1,\"#c51b7d\"],[0.2,\"#de77ae\"],[0.3,\"#f1b6da\"],[0.4,\"#fde0ef\"],[0.5,\"#f7f7f7\"],[0.6,\"#e6f5d0\"],[0.7,\"#b8e186\"],[0.8,\"#7fbc41\"],[0.9,\"#4d9221\"],[1,\"#276419\"]],\"sequential\":[[0.0,\"#0d0887\"],[0.1111111111111111,\"#46039f\"],[0.2222222222222222,\"#7201a8\"],[0.3333333333333333,\"#9c179e\"],[0.4444444444444444,\"#bd3786\"],[0.5555555555555556,\"#d8576b\"],[0.6666666666666666,\"#ed7953\"],[0.7777777777777778,\"#fb9f3a\"],[0.8888888888888888,\"#fdca26\"],[1.0,\"#f0f921\"]],\"sequentialminus\":[[0.0,\"#0d0887\"],[0.1111111111111111,\"#46039f\"],[0.2222222222222222,\"#7201a8\"],[0.3333333333333333,\"#9c179e\"],[0.4444444444444444,\"#bd3786\"],[0.5555555555555556,\"#d8576b\"],[0.6666666666666666,\"#ed7953\"],[0.7777777777777778,\"#fb9f3a\"],[0.8888888888888888,\"#fdca26\"],[1.0,\"#f0f921\"]]},\"colorway\":[\"#636efa\",\"#EF553B\",\"#00cc96\",\"#ab63fa\",\"#FFA15A\",\"#19d3f3\",\"#FF6692\",\"#B6E880\",\"#FF97FF\",\"#FECB52\"],\"font\":{\"color\":\"#2a3f5f\"},\"geo\":{\"bgcolor\":\"white\",\"lakecolor\":\"white\",\"landcolor\":\"#E5ECF6\",\"showlakes\":true,\"showland\":true,\"subunitcolor\":\"white\"},\"hoverlabel\":{\"align\":\"left\"},\"hovermode\":\"closest\",\"mapbox\":{\"style\":\"light\"},\"paper_bgcolor\":\"white\",\"plot_bgcolor\":\"#E5ECF6\",\"polar\":{\"angularaxis\":{\"gridcolor\":\"white\",\"linecolor\":\"white\",\"ticks\":\"\"},\"bgcolor\":\"#E5ECF6\",\"radialaxis\":{\"gridcolor\":\"white\",\"linecolor\":\"white\",\"ticks\":\"\"}},\"scene\":{\"xaxis\":{\"backgroundcolor\":\"#E5ECF6\",\"gridcolor\":\"white\",\"gridwidth\":2,\"linecolor\":\"white\",\"showbackground\":true,\"ticks\":\"\",\"zerolinecolor\":\"white\"},\"yaxis\":{\"backgroundcolor\":\"#E5ECF6\",\"gridcolor\":\"white\",\"gridwidth\":2,\"linecolor\":\"white\",\"showbackground\":true,\"ticks\":\"\",\"zerolinecolor\":\"white\"},\"zaxis\":{\"backgroundcolor\":\"#E5ECF6\",\"gridcolor\":\"white\",\"gridwidth\":2,\"linecolor\":\"white\",\"showbackground\":true,\"ticks\":\"\",\"zerolinecolor\":\"white\"}},\"shapedefaults\":{\"line\":{\"color\":\"#2a3f5f\"}},\"ternary\":{\"aaxis\":{\"gridcolor\":\"white\",\"linecolor\":\"white\",\"ticks\":\"\"},\"baxis\":{\"gridcolor\":\"white\",\"linecolor\":\"white\",\"ticks\":\"\"},\"bgcolor\":\"#E5ECF6\",\"caxis\":{\"gridcolor\":\"white\",\"linecolor\":\"white\",\"ticks\":\"\"}},\"title\":{\"x\":0.05},\"xaxis\":{\"automargin\":true,\"gridcolor\":\"white\",\"linecolor\":\"white\",\"ticks\":\"\",\"title\":{\"standoff\":15},\"zerolinecolor\":\"white\",\"zerolinewidth\":2},\"yaxis\":{\"automargin\":true,\"gridcolor\":\"white\",\"linecolor\":\"white\",\"ticks\":\"\",\"title\":{\"standoff\":15},\"zerolinecolor\":\"white\",\"zerolinewidth\":2}}},\"scene\":{\"domain\":{\"x\":[0.0,1.0],\"y\":[0.0,1.0]},\"xaxis\":{\"title\":{\"text\":\"x\"}},\"yaxis\":{\"title\":{\"text\":\"y\"}},\"zaxis\":{\"title\":{\"text\":\"z\"}}},\"legend\":{\"tracegroupgap\":0},\"margin\":{\"t\":60}},                        {\"responsive\": true}                    ).then(function(){\n",
       "                            \n",
       "var gd = document.getElementById('88d66919-ab29-485b-a4f7-ed8bcd1beb2d');\n",
       "var x = new MutationObserver(function (mutations, observer) {{\n",
       "        var display = window.getComputedStyle(gd).display;\n",
       "        if (!display || display === 'none') {{\n",
       "            console.log([gd, 'removed!']);\n",
       "            Plotly.purge(gd);\n",
       "            observer.disconnect();\n",
       "        }}\n",
       "}});\n",
       "\n",
       "// Listen for the removal of the full notebook cells\n",
       "var notebookContainer = gd.closest('#notebook-container');\n",
       "if (notebookContainer) {{\n",
       "    x.observe(notebookContainer, {childList: true});\n",
       "}}\n",
       "\n",
       "// Listen for the clearing of the current output cell\n",
       "var outputEl = gd.closest('.output');\n",
       "if (outputEl) {{\n",
       "    x.observe(outputEl, {childList: true});\n",
       "}}\n",
       "\n",
       "                        })                };                });            </script>        </div>"
      ]
     },
     "metadata": {},
     "output_type": "display_data"
    }
   ],
   "source": [
    "import plotly.express as px\n",
    "df = px.data.iris()\n",
    "fig = px.scatter_3d(df, x=x.ravel(), y=y.ravel(), z=z.ravel())\n",
    "fig.show()"
   ]
  },
  {
   "cell_type": "code",
   "execution_count": 58,
   "id": "0c481d16",
   "metadata": {},
   "outputs": [],
   "source": [
    "lr = LinearRegression()\n",
    "lr.fit(np.array([x,y]).reshape(100,2),z)\n",
    "\n",
    "x_input = np.linspace(x.min(), x.max(), 10)\n",
    "y_input = np.linspace(y.min(), y.max(), 10)\n",
    "xGrid, yGrid = np.meshgrid(x_input,y_input)\n",
    "\n",
    "final = np.vstack((xGrid.ravel().reshape(1,100),yGrid.ravel().reshape(1,100))).T\n",
    "\n",
    "z_final = lr.predict(final).reshape(10,10)"
   ]
  },
  {
   "cell_type": "code",
   "execution_count": 59,
   "id": "3a889b46",
   "metadata": {},
   "outputs": [
    {
     "data": {
      "application/vnd.plotly.v1+json": {
       "config": {
        "plotlyServerURL": "https://plot.ly"
       },
       "data": [
        {
         "hovertemplate": "x=%{x}<br>y=%{y}<br>z=%{z}<extra></extra>",
         "legendgroup": "",
         "marker": {
          "color": "#636efa",
          "symbol": "circle"
         },
         "mode": "markers",
         "name": "",
         "scene": "scene",
         "showlegend": false,
         "type": "scatter3d",
         "x": [
          1.8312475828589037,
          1.9447277453292724,
          -2.5754821224677897,
          -1.0116160586405127,
          -1.2759069146927864,
          -2.3481635983156988,
          -1.7406662003173083,
          -1.7001225102388422,
          1.422757100962703,
          2.599495099464531,
          1.410700897851763,
          2.8725183573220336,
          1.88920406319186,
          3.9391340848971224,
          2.023915489039627,
          3.5993925472151878,
          1.7519574707145047,
          1.2926834600928414,
          3.500695298792545,
          0.4705430972715918,
          -2.407371259833894,
          -0.6352771859710602,
          2.1183316286357385,
          -0.5169673478190262,
          3.1212197795806302,
          3.6616220427570427,
          0.7856808698380116,
          -2.0147293819257515,
          3.22589480394367,
          3.4654157719582184,
          3.451675654789976,
          0.23372040030003527,
          1.3047932101641733,
          2.427046915431837,
          3.4430871540823684,
          3.6884870419903173,
          3.043475707089237,
          -2.771979391696477,
          1.2365030550028626,
          3.848660859103436,
          -0.46229816533164314,
          1.7948617996486584,
          -2.637313268571781,
          0.4350926829617614,
          -0.1680575637143482,
          3.6598358340145465,
          3.706039833751606,
          3.575581167413408,
          -1.8282426914356595,
          3.156087740961463,
          -0.4532347208915066,
          0.03824565640923794,
          -1.7953049412311748,
          1.8178900142268493,
          -0.4819137716203272,
          0.4822738949275136,
          -0.638741849017153,
          -1.8070690665229563,
          0.8107561797700664,
          -0.6262988584919418,
          -0.32834820668798814,
          0.19383221602719258,
          -1.599147406161204,
          -0.18056978903250798,
          3.448504285784817,
          3.0687277207272547,
          -0.7928005449850266,
          -1.7807099382751028,
          0.5346471752493396,
          2.38004167475846,
          -2.1726639895761073,
          2.667303795420148,
          2.2191117350002285,
          2.365582784546853,
          -2.5099174778735036,
          3.3871143403426567,
          0.46600283510409035,
          2.3303262721130578,
          -1.3302950908020894,
          0.8560558167006418,
          2.168878360647793,
          2.72977519900763,
          -1.9842517126583705,
          0.5389985913358188,
          -0.20819761725001706,
          3.087305227056704,
          2.1542132466058233,
          -2.3846710354790392,
          -2.0014050914444903,
          -2.757998471856239,
          3.160145527973998,
          2.905657775176709,
          3.735793287332351,
          -2.786388631097286,
          -0.18435074770430138,
          2.5252395388189814,
          -1.3944799096992486,
          0.35589391817490945,
          -1.974992762859034,
          1.8417626679820112
         ],
         "y": [
          2.758149188317244,
          1.249439277603126,
          3.468709005699348,
          1.1677002217491617,
          2.3693241527656976,
          -0.38621869405117204,
          3.137713725964982,
          2.3187222903647244,
          3.4239031354047302,
          -1.1171971250736865,
          -1.578388015054741,
          0.6976739782640506,
          -2.1147005431228094,
          1.800210778418415,
          -0.9829074734313115,
          1.7525571372955193,
          0.20247018070458722,
          -1.8331089393582372,
          2.934798676706512,
          3.5054462551553494,
          0.183091256797824,
          2.4692408764645224,
          0.3473591278212025,
          3.5808908008218934,
          2.078140040716442,
          1.053788713609416,
          0.36696128688088425,
          1.6161463817513395,
          -1.696747373109694,
          -1.4171754081893553,
          -0.06832427467821489,
          2.239492454523382,
          -0.1344938405577074,
          1.192864520911817,
          -0.32705274618812563,
          3.001110892688212,
          -2.1783089759312455,
          0.8188807566206884,
          -1.2760731434172534,
          -1.6916698851843033,
          1.4631709938267994,
          -2.6349264854796908,
          2.789506909520833,
          3.6436549436979213,
          2.891508394074357,
          -2.229954095260151,
          3.9895698090150225,
          -1.6181171424284346,
          2.5822389489669684,
          0.2214368968293683,
          0.5507295780860897,
          -1.5748111212616558,
          -1.1174321778275167,
          -2.582782865046739,
          1.750149528121356,
          3.451402178236088,
          0.903575832461657,
          -2.4625660399510934,
          -1.5306354073158213,
          -1.6091665401063482,
          1.366869769140834,
          -1.2592247568217378,
          1.4828645434491152,
          2.483353748606973,
          1.6613114061152512,
          2.066280471486337,
          1.4866620982110028,
          -1.76674211874398,
          -2.0190601916527733,
          2.374403899257974,
          -0.7822583414735531,
          1.3961435229210144,
          -0.4825305030747873,
          -2.4390668268304507,
          3.863517927767864,
          2.6249498817129666,
          3.8211308750158404,
          0.5271889456289198,
          3.5381909298590086,
          -0.8754994688998909,
          2.7316738713853645,
          0.2099365259961834,
          -0.9903176388713484,
          1.1251881971672955,
          4.16931022817798,
          -2.4359839596584028,
          1.47141043050524,
          0.23915886368775086,
          2.4244107325660185,
          3.715919897741421,
          -0.7811916686995031,
          1.313800990308347,
          1.4878231570393599,
          4.195682230727559,
          -1.50501462139332,
          -0.05222548742233357,
          2.4130007069330803,
          2.67061360514096,
          -2.228948127885457,
          0.6341349089586452
         ],
         "z": [
          14.7028175179555,
          6.1169819554080815,
          21.811251440777866,
          5.282577692538293,
          7.101397198889904,
          7.489696798196924,
          15.19939852559078,
          9.623049334419342,
          16.280445678564302,
          10.623763347968056,
          6.325837785788338,
          11.175649318591171,
          8.975502274427413,
          22.962946145325727,
          7.496705925283496,
          20.589910744590387,
          6.125747860010215,
          7.777091316919253,
          25.156140805280717,
          15.228264703040772,
          8.797662909706768,
          8.921090265118648,
          7.293956285213844,
          16.37556701267479,
          18.250218035682735,
          17.92151724676353,
          1.1945464935536532,
          10.168990789789495,
          16.022921763697738,
          15.985786001696358,
          13.575932239343889,
          7.175349811631872,
          5.161258814669423,
          9.83419228093534,
          14.304001962709611,
          27.252377471646074,
          15.335235391557138,
          9.61847167685703,
          5.25176146906279,
          18.622059247641747,
          4.970052548974551,
          11.108109519779612,
          15.164145519493129,
          16.074528873804894,
          11.040977960814043,
          19.574810041627615,
          33.69044834421566,
          15.922635466599514,
          12.443842799671186,
          12.964910128255074,
          3.624561677098199,
          3.474405387775499,
          6.153121615724048,
          13.057206978568502,
          6.094098677916545,
          12.410485605036417,
          2.8264680849774084,
          10.472528407202807,
          5.527999702054099,
          5.340993093667917,
          5.938127764121537,
          3.830580964966116,
          7.743522560075802,
          8.6086567264207,
          18.96237169004568,
          16.49573171379547,
          4.581718514616825,
          8.693922956787404,
          6.201033782734296,
          13.771932249997997,
          4.962750597003632,
          11.950883019490677,
          8.98526169828155,
          12.355209834825006,
          22.28622914583016,
          21.201437494852463,
          18.08056525652436,
          9.077054905908268,
          15.77785351981811,
          1.8213576975479302,
          16.54794998476296,
          12.27792666394592,
          6.1774138729073655,
          2.3456633133437332,
          19.33868591549413,
          17.445753335184584,
          9.706880642129326,
          7.254372886295862,
          12.171906916925419,
          21.64503257793158,
          12.26747414345176,
          12.308238829655402,
          20.374889834018052,
          26.336925914275568,
          4.243864852651991,
          7.367619537237066,
          9.118066192905477,
          7.5208335150305565,
          13.567429614858623,
          5.247198715139745
         ]
        },
        {
         "type": "surface",
         "x": [
          -2.786388631097286,
          -2.0391083293201295,
          -1.291828027542973,
          -0.5445477257658164,
          0.2027325760113401,
          0.9500128777884966,
          1.6972931795656532,
          2.44457348134281,
          3.1918537831199663,
          3.9391340848971224
         ],
         "y": [
          -2.6349264854796908,
          -1.8759699614566632,
          -1.1170134374336353,
          -0.3580569134106075,
          0.4008996106124201,
          1.1598561346354477,
          1.9188126586584757,
          2.677769182681503,
          3.436725706704531,
          4.195682230727559
         ],
         "z": [
          [
           13.139469791054253,
           13.454783852507404,
           13.770097913960557,
           14.08541197541371,
           14.40072603686686,
           14.716040098320013,
           15.031354159773166,
           15.346668221226317,
           15.66198228267947,
           15.977296344132622
          ],
          [
           12.529273972168784,
           12.844588033621937,
           13.15990209507509,
           13.47521615652824,
           13.790530217981393,
           14.105844279434546,
           14.421158340887697,
           14.736472402340851,
           15.051786463794002,
           15.367100525247153
          ],
          [
           11.919078153283317,
           12.23439221473647,
           12.549706276189623,
           12.865020337642774,
           13.180334399095926,
           13.495648460549079,
           13.81096252200223,
           14.126276583455383,
           14.441590644908535,
           14.756904706361688
          ],
          [
           11.30888233439785,
           11.624196395851003,
           11.939510457304154,
           12.254824518757307,
           12.57013858021046,
           12.885452641663612,
           13.200766703116763,
           13.516080764569915,
           13.831394826023068,
           14.146708887476219
          ],
          [
           10.698686515512383,
           11.014000576965536,
           11.329314638418687,
           11.64462869987184,
           11.959942761324992,
           12.275256822778143,
           12.590570884231296,
           12.905884945684448,
           13.221199007137601,
           13.536513068590752
          ],
          [
           10.088490696626916,
           10.403804758080069,
           10.71911881953322,
           11.034432880986373,
           11.349746942439525,
           11.665061003892676,
           11.980375065345829,
           12.295689126798981,
           12.611003188252134,
           12.926317249705285
          ],
          [
           9.478294877741448,
           9.7936089391946,
           10.108923000647753,
           10.424237062100906,
           10.739551123554056,
           11.054865185007209,
           11.370179246460362,
           11.685493307913514,
           12.000807369366665,
           12.316121430819818
          ],
          [
           8.868099058855982,
           9.183413120309133,
           9.498727181762286,
           9.814041243215438,
           10.12935530466859,
           10.444669366121742,
           10.759983427574895,
           11.075297489028047,
           11.390611550481198,
           11.70592561193435
          ],
          [
           8.257903239970513,
           8.573217301423666,
           8.888531362876819,
           9.20384542432997,
           9.519159485783122,
           9.834473547236275,
           10.149787608689428,
           10.46510167014258,
           10.780415731595731,
           11.095729793048884
          ],
          [
           7.647707421085046,
           7.963021482538198,
           8.27833554399135,
           8.593649605444503,
           8.908963666897655,
           9.224277728350806,
           9.539591789803959,
           9.854905851257111,
           10.170219912710262,
           10.485533974163415
          ]
         ]
        }
       ],
       "layout": {
        "legend": {
         "tracegroupgap": 0
        },
        "margin": {
         "t": 60
        },
        "scene": {
         "domain": {
          "x": [
           0,
           1
          ],
          "y": [
           0,
           1
          ]
         },
         "xaxis": {
          "title": {
           "text": "x"
          }
         },
         "yaxis": {
          "title": {
           "text": "y"
          }
         },
         "zaxis": {
          "title": {
           "text": "z"
          }
         }
        },
        "template": {
         "data": {
          "bar": [
           {
            "error_x": {
             "color": "#2a3f5f"
            },
            "error_y": {
             "color": "#2a3f5f"
            },
            "marker": {
             "line": {
              "color": "#E5ECF6",
              "width": 0.5
             },
             "pattern": {
              "fillmode": "overlay",
              "size": 10,
              "solidity": 0.2
             }
            },
            "type": "bar"
           }
          ],
          "barpolar": [
           {
            "marker": {
             "line": {
              "color": "#E5ECF6",
              "width": 0.5
             },
             "pattern": {
              "fillmode": "overlay",
              "size": 10,
              "solidity": 0.2
             }
            },
            "type": "barpolar"
           }
          ],
          "carpet": [
           {
            "aaxis": {
             "endlinecolor": "#2a3f5f",
             "gridcolor": "white",
             "linecolor": "white",
             "minorgridcolor": "white",
             "startlinecolor": "#2a3f5f"
            },
            "baxis": {
             "endlinecolor": "#2a3f5f",
             "gridcolor": "white",
             "linecolor": "white",
             "minorgridcolor": "white",
             "startlinecolor": "#2a3f5f"
            },
            "type": "carpet"
           }
          ],
          "choropleth": [
           {
            "colorbar": {
             "outlinewidth": 0,
             "ticks": ""
            },
            "type": "choropleth"
           }
          ],
          "contour": [
           {
            "colorbar": {
             "outlinewidth": 0,
             "ticks": ""
            },
            "colorscale": [
             [
              0,
              "#0d0887"
             ],
             [
              0.1111111111111111,
              "#46039f"
             ],
             [
              0.2222222222222222,
              "#7201a8"
             ],
             [
              0.3333333333333333,
              "#9c179e"
             ],
             [
              0.4444444444444444,
              "#bd3786"
             ],
             [
              0.5555555555555556,
              "#d8576b"
             ],
             [
              0.6666666666666666,
              "#ed7953"
             ],
             [
              0.7777777777777778,
              "#fb9f3a"
             ],
             [
              0.8888888888888888,
              "#fdca26"
             ],
             [
              1,
              "#f0f921"
             ]
            ],
            "type": "contour"
           }
          ],
          "contourcarpet": [
           {
            "colorbar": {
             "outlinewidth": 0,
             "ticks": ""
            },
            "type": "contourcarpet"
           }
          ],
          "heatmap": [
           {
            "colorbar": {
             "outlinewidth": 0,
             "ticks": ""
            },
            "colorscale": [
             [
              0,
              "#0d0887"
             ],
             [
              0.1111111111111111,
              "#46039f"
             ],
             [
              0.2222222222222222,
              "#7201a8"
             ],
             [
              0.3333333333333333,
              "#9c179e"
             ],
             [
              0.4444444444444444,
              "#bd3786"
             ],
             [
              0.5555555555555556,
              "#d8576b"
             ],
             [
              0.6666666666666666,
              "#ed7953"
             ],
             [
              0.7777777777777778,
              "#fb9f3a"
             ],
             [
              0.8888888888888888,
              "#fdca26"
             ],
             [
              1,
              "#f0f921"
             ]
            ],
            "type": "heatmap"
           }
          ],
          "heatmapgl": [
           {
            "colorbar": {
             "outlinewidth": 0,
             "ticks": ""
            },
            "colorscale": [
             [
              0,
              "#0d0887"
             ],
             [
              0.1111111111111111,
              "#46039f"
             ],
             [
              0.2222222222222222,
              "#7201a8"
             ],
             [
              0.3333333333333333,
              "#9c179e"
             ],
             [
              0.4444444444444444,
              "#bd3786"
             ],
             [
              0.5555555555555556,
              "#d8576b"
             ],
             [
              0.6666666666666666,
              "#ed7953"
             ],
             [
              0.7777777777777778,
              "#fb9f3a"
             ],
             [
              0.8888888888888888,
              "#fdca26"
             ],
             [
              1,
              "#f0f921"
             ]
            ],
            "type": "heatmapgl"
           }
          ],
          "histogram": [
           {
            "marker": {
             "pattern": {
              "fillmode": "overlay",
              "size": 10,
              "solidity": 0.2
             }
            },
            "type": "histogram"
           }
          ],
          "histogram2d": [
           {
            "colorbar": {
             "outlinewidth": 0,
             "ticks": ""
            },
            "colorscale": [
             [
              0,
              "#0d0887"
             ],
             [
              0.1111111111111111,
              "#46039f"
             ],
             [
              0.2222222222222222,
              "#7201a8"
             ],
             [
              0.3333333333333333,
              "#9c179e"
             ],
             [
              0.4444444444444444,
              "#bd3786"
             ],
             [
              0.5555555555555556,
              "#d8576b"
             ],
             [
              0.6666666666666666,
              "#ed7953"
             ],
             [
              0.7777777777777778,
              "#fb9f3a"
             ],
             [
              0.8888888888888888,
              "#fdca26"
             ],
             [
              1,
              "#f0f921"
             ]
            ],
            "type": "histogram2d"
           }
          ],
          "histogram2dcontour": [
           {
            "colorbar": {
             "outlinewidth": 0,
             "ticks": ""
            },
            "colorscale": [
             [
              0,
              "#0d0887"
             ],
             [
              0.1111111111111111,
              "#46039f"
             ],
             [
              0.2222222222222222,
              "#7201a8"
             ],
             [
              0.3333333333333333,
              "#9c179e"
             ],
             [
              0.4444444444444444,
              "#bd3786"
             ],
             [
              0.5555555555555556,
              "#d8576b"
             ],
             [
              0.6666666666666666,
              "#ed7953"
             ],
             [
              0.7777777777777778,
              "#fb9f3a"
             ],
             [
              0.8888888888888888,
              "#fdca26"
             ],
             [
              1,
              "#f0f921"
             ]
            ],
            "type": "histogram2dcontour"
           }
          ],
          "mesh3d": [
           {
            "colorbar": {
             "outlinewidth": 0,
             "ticks": ""
            },
            "type": "mesh3d"
           }
          ],
          "parcoords": [
           {
            "line": {
             "colorbar": {
              "outlinewidth": 0,
              "ticks": ""
             }
            },
            "type": "parcoords"
           }
          ],
          "pie": [
           {
            "automargin": true,
            "type": "pie"
           }
          ],
          "scatter": [
           {
            "marker": {
             "colorbar": {
              "outlinewidth": 0,
              "ticks": ""
             }
            },
            "type": "scatter"
           }
          ],
          "scatter3d": [
           {
            "line": {
             "colorbar": {
              "outlinewidth": 0,
              "ticks": ""
             }
            },
            "marker": {
             "colorbar": {
              "outlinewidth": 0,
              "ticks": ""
             }
            },
            "type": "scatter3d"
           }
          ],
          "scattercarpet": [
           {
            "marker": {
             "colorbar": {
              "outlinewidth": 0,
              "ticks": ""
             }
            },
            "type": "scattercarpet"
           }
          ],
          "scattergeo": [
           {
            "marker": {
             "colorbar": {
              "outlinewidth": 0,
              "ticks": ""
             }
            },
            "type": "scattergeo"
           }
          ],
          "scattergl": [
           {
            "marker": {
             "colorbar": {
              "outlinewidth": 0,
              "ticks": ""
             }
            },
            "type": "scattergl"
           }
          ],
          "scattermapbox": [
           {
            "marker": {
             "colorbar": {
              "outlinewidth": 0,
              "ticks": ""
             }
            },
            "type": "scattermapbox"
           }
          ],
          "scatterpolar": [
           {
            "marker": {
             "colorbar": {
              "outlinewidth": 0,
              "ticks": ""
             }
            },
            "type": "scatterpolar"
           }
          ],
          "scatterpolargl": [
           {
            "marker": {
             "colorbar": {
              "outlinewidth": 0,
              "ticks": ""
             }
            },
            "type": "scatterpolargl"
           }
          ],
          "scatterternary": [
           {
            "marker": {
             "colorbar": {
              "outlinewidth": 0,
              "ticks": ""
             }
            },
            "type": "scatterternary"
           }
          ],
          "surface": [
           {
            "colorbar": {
             "outlinewidth": 0,
             "ticks": ""
            },
            "colorscale": [
             [
              0,
              "#0d0887"
             ],
             [
              0.1111111111111111,
              "#46039f"
             ],
             [
              0.2222222222222222,
              "#7201a8"
             ],
             [
              0.3333333333333333,
              "#9c179e"
             ],
             [
              0.4444444444444444,
              "#bd3786"
             ],
             [
              0.5555555555555556,
              "#d8576b"
             ],
             [
              0.6666666666666666,
              "#ed7953"
             ],
             [
              0.7777777777777778,
              "#fb9f3a"
             ],
             [
              0.8888888888888888,
              "#fdca26"
             ],
             [
              1,
              "#f0f921"
             ]
            ],
            "type": "surface"
           }
          ],
          "table": [
           {
            "cells": {
             "fill": {
              "color": "#EBF0F8"
             },
             "line": {
              "color": "white"
             }
            },
            "header": {
             "fill": {
              "color": "#C8D4E3"
             },
             "line": {
              "color": "white"
             }
            },
            "type": "table"
           }
          ]
         },
         "layout": {
          "annotationdefaults": {
           "arrowcolor": "#2a3f5f",
           "arrowhead": 0,
           "arrowwidth": 1
          },
          "autotypenumbers": "strict",
          "coloraxis": {
           "colorbar": {
            "outlinewidth": 0,
            "ticks": ""
           }
          },
          "colorscale": {
           "diverging": [
            [
             0,
             "#8e0152"
            ],
            [
             0.1,
             "#c51b7d"
            ],
            [
             0.2,
             "#de77ae"
            ],
            [
             0.3,
             "#f1b6da"
            ],
            [
             0.4,
             "#fde0ef"
            ],
            [
             0.5,
             "#f7f7f7"
            ],
            [
             0.6,
             "#e6f5d0"
            ],
            [
             0.7,
             "#b8e186"
            ],
            [
             0.8,
             "#7fbc41"
            ],
            [
             0.9,
             "#4d9221"
            ],
            [
             1,
             "#276419"
            ]
           ],
           "sequential": [
            [
             0,
             "#0d0887"
            ],
            [
             0.1111111111111111,
             "#46039f"
            ],
            [
             0.2222222222222222,
             "#7201a8"
            ],
            [
             0.3333333333333333,
             "#9c179e"
            ],
            [
             0.4444444444444444,
             "#bd3786"
            ],
            [
             0.5555555555555556,
             "#d8576b"
            ],
            [
             0.6666666666666666,
             "#ed7953"
            ],
            [
             0.7777777777777778,
             "#fb9f3a"
            ],
            [
             0.8888888888888888,
             "#fdca26"
            ],
            [
             1,
             "#f0f921"
            ]
           ],
           "sequentialminus": [
            [
             0,
             "#0d0887"
            ],
            [
             0.1111111111111111,
             "#46039f"
            ],
            [
             0.2222222222222222,
             "#7201a8"
            ],
            [
             0.3333333333333333,
             "#9c179e"
            ],
            [
             0.4444444444444444,
             "#bd3786"
            ],
            [
             0.5555555555555556,
             "#d8576b"
            ],
            [
             0.6666666666666666,
             "#ed7953"
            ],
            [
             0.7777777777777778,
             "#fb9f3a"
            ],
            [
             0.8888888888888888,
             "#fdca26"
            ],
            [
             1,
             "#f0f921"
            ]
           ]
          },
          "colorway": [
           "#636efa",
           "#EF553B",
           "#00cc96",
           "#ab63fa",
           "#FFA15A",
           "#19d3f3",
           "#FF6692",
           "#B6E880",
           "#FF97FF",
           "#FECB52"
          ],
          "font": {
           "color": "#2a3f5f"
          },
          "geo": {
           "bgcolor": "white",
           "lakecolor": "white",
           "landcolor": "#E5ECF6",
           "showlakes": true,
           "showland": true,
           "subunitcolor": "white"
          },
          "hoverlabel": {
           "align": "left"
          },
          "hovermode": "closest",
          "mapbox": {
           "style": "light"
          },
          "paper_bgcolor": "white",
          "plot_bgcolor": "#E5ECF6",
          "polar": {
           "angularaxis": {
            "gridcolor": "white",
            "linecolor": "white",
            "ticks": ""
           },
           "bgcolor": "#E5ECF6",
           "radialaxis": {
            "gridcolor": "white",
            "linecolor": "white",
            "ticks": ""
           }
          },
          "scene": {
           "xaxis": {
            "backgroundcolor": "#E5ECF6",
            "gridcolor": "white",
            "gridwidth": 2,
            "linecolor": "white",
            "showbackground": true,
            "ticks": "",
            "zerolinecolor": "white"
           },
           "yaxis": {
            "backgroundcolor": "#E5ECF6",
            "gridcolor": "white",
            "gridwidth": 2,
            "linecolor": "white",
            "showbackground": true,
            "ticks": "",
            "zerolinecolor": "white"
           },
           "zaxis": {
            "backgroundcolor": "#E5ECF6",
            "gridcolor": "white",
            "gridwidth": 2,
            "linecolor": "white",
            "showbackground": true,
            "ticks": "",
            "zerolinecolor": "white"
           }
          },
          "shapedefaults": {
           "line": {
            "color": "#2a3f5f"
           }
          },
          "ternary": {
           "aaxis": {
            "gridcolor": "white",
            "linecolor": "white",
            "ticks": ""
           },
           "baxis": {
            "gridcolor": "white",
            "linecolor": "white",
            "ticks": ""
           },
           "bgcolor": "#E5ECF6",
           "caxis": {
            "gridcolor": "white",
            "linecolor": "white",
            "ticks": ""
           }
          },
          "title": {
           "x": 0.05
          },
          "xaxis": {
           "automargin": true,
           "gridcolor": "white",
           "linecolor": "white",
           "ticks": "",
           "title": {
            "standoff": 15
           },
           "zerolinecolor": "white",
           "zerolinewidth": 2
          },
          "yaxis": {
           "automargin": true,
           "gridcolor": "white",
           "linecolor": "white",
           "ticks": "",
           "title": {
            "standoff": 15
           },
           "zerolinecolor": "white",
           "zerolinewidth": 2
          }
         }
        }
       }
      },
      "text/html": [
       "<div>                            <div id=\"70b5ce89-3c2a-4305-9ff6-a3f4a40fc6c2\" class=\"plotly-graph-div\" style=\"height:525px; width:100%;\"></div>            <script type=\"text/javascript\">                require([\"plotly\"], function(Plotly) {                    window.PLOTLYENV=window.PLOTLYENV || {};                                    if (document.getElementById(\"70b5ce89-3c2a-4305-9ff6-a3f4a40fc6c2\")) {                    Plotly.newPlot(                        \"70b5ce89-3c2a-4305-9ff6-a3f4a40fc6c2\",                        [{\"hovertemplate\":\"x=%{x}<br>y=%{y}<br>z=%{z}<extra></extra>\",\"legendgroup\":\"\",\"marker\":{\"color\":\"#636efa\",\"symbol\":\"circle\"},\"mode\":\"markers\",\"name\":\"\",\"scene\":\"scene\",\"showlegend\":false,\"x\":[1.8312475828589037,1.9447277453292724,-2.5754821224677897,-1.0116160586405127,-1.2759069146927864,-2.3481635983156988,-1.7406662003173083,-1.7001225102388422,1.422757100962703,2.599495099464531,1.410700897851763,2.8725183573220336,1.88920406319186,3.9391340848971224,2.023915489039627,3.5993925472151878,1.7519574707145047,1.2926834600928414,3.500695298792545,0.4705430972715918,-2.407371259833894,-0.6352771859710602,2.1183316286357385,-0.5169673478190262,3.1212197795806302,3.6616220427570427,0.7856808698380116,-2.0147293819257515,3.22589480394367,3.4654157719582184,3.451675654789976,0.23372040030003527,1.3047932101641733,2.427046915431837,3.4430871540823684,3.6884870419903173,3.043475707089237,-2.771979391696477,1.2365030550028626,3.848660859103436,-0.46229816533164314,1.7948617996486584,-2.637313268571781,0.4350926829617614,-0.1680575637143482,3.6598358340145465,3.706039833751606,3.575581167413408,-1.8282426914356595,3.156087740961463,-0.4532347208915066,0.03824565640923794,-1.7953049412311748,1.8178900142268493,-0.4819137716203272,0.4822738949275136,-0.638741849017153,-1.8070690665229563,0.8107561797700664,-0.6262988584919418,-0.32834820668798814,0.19383221602719258,-1.599147406161204,-0.18056978903250798,3.448504285784817,3.0687277207272547,-0.7928005449850266,-1.7807099382751028,0.5346471752493396,2.38004167475846,-2.1726639895761073,2.667303795420148,2.2191117350002285,2.365582784546853,-2.5099174778735036,3.3871143403426567,0.46600283510409035,2.3303262721130578,-1.3302950908020894,0.8560558167006418,2.168878360647793,2.72977519900763,-1.9842517126583705,0.5389985913358188,-0.20819761725001706,3.087305227056704,2.1542132466058233,-2.3846710354790392,-2.0014050914444903,-2.757998471856239,3.160145527973998,2.905657775176709,3.735793287332351,-2.786388631097286,-0.18435074770430138,2.5252395388189814,-1.3944799096992486,0.35589391817490945,-1.974992762859034,1.8417626679820112],\"y\":[2.758149188317244,1.249439277603126,3.468709005699348,1.1677002217491617,2.3693241527656976,-0.38621869405117204,3.137713725964982,2.3187222903647244,3.4239031354047302,-1.1171971250736865,-1.578388015054741,0.6976739782640506,-2.1147005431228094,1.800210778418415,-0.9829074734313115,1.7525571372955193,0.20247018070458722,-1.8331089393582372,2.934798676706512,3.5054462551553494,0.183091256797824,2.4692408764645224,0.3473591278212025,3.5808908008218934,2.078140040716442,1.053788713609416,0.36696128688088425,1.6161463817513395,-1.696747373109694,-1.4171754081893553,-0.06832427467821489,2.239492454523382,-0.1344938405577074,1.192864520911817,-0.32705274618812563,3.001110892688212,-2.1783089759312455,0.8188807566206884,-1.2760731434172534,-1.6916698851843033,1.4631709938267994,-2.6349264854796908,2.789506909520833,3.6436549436979213,2.891508394074357,-2.229954095260151,3.9895698090150225,-1.6181171424284346,2.5822389489669684,0.2214368968293683,0.5507295780860897,-1.5748111212616558,-1.1174321778275167,-2.582782865046739,1.750149528121356,3.451402178236088,0.903575832461657,-2.4625660399510934,-1.5306354073158213,-1.6091665401063482,1.366869769140834,-1.2592247568217378,1.4828645434491152,2.483353748606973,1.6613114061152512,2.066280471486337,1.4866620982110028,-1.76674211874398,-2.0190601916527733,2.374403899257974,-0.7822583414735531,1.3961435229210144,-0.4825305030747873,-2.4390668268304507,3.863517927767864,2.6249498817129666,3.8211308750158404,0.5271889456289198,3.5381909298590086,-0.8754994688998909,2.7316738713853645,0.2099365259961834,-0.9903176388713484,1.1251881971672955,4.16931022817798,-2.4359839596584028,1.47141043050524,0.23915886368775086,2.4244107325660185,3.715919897741421,-0.7811916686995031,1.313800990308347,1.4878231570393599,4.195682230727559,-1.50501462139332,-0.05222548742233357,2.4130007069330803,2.67061360514096,-2.228948127885457,0.6341349089586452],\"z\":[14.7028175179555,6.1169819554080815,21.811251440777866,5.282577692538293,7.101397198889904,7.489696798196924,15.19939852559078,9.623049334419342,16.280445678564302,10.623763347968056,6.325837785788338,11.175649318591171,8.975502274427413,22.962946145325727,7.496705925283496,20.589910744590387,6.125747860010215,7.777091316919253,25.156140805280717,15.228264703040772,8.797662909706768,8.921090265118648,7.293956285213844,16.37556701267479,18.250218035682735,17.92151724676353,1.1945464935536532,10.168990789789495,16.022921763697738,15.985786001696358,13.575932239343889,7.175349811631872,5.161258814669423,9.83419228093534,14.304001962709611,27.252377471646074,15.335235391557138,9.61847167685703,5.25176146906279,18.622059247641747,4.970052548974551,11.108109519779612,15.164145519493129,16.074528873804894,11.040977960814043,19.574810041627615,33.69044834421566,15.922635466599514,12.443842799671186,12.964910128255074,3.624561677098199,3.474405387775499,6.153121615724048,13.057206978568502,6.094098677916545,12.410485605036417,2.8264680849774084,10.472528407202807,5.527999702054099,5.340993093667917,5.938127764121537,3.830580964966116,7.743522560075802,8.6086567264207,18.96237169004568,16.49573171379547,4.581718514616825,8.693922956787404,6.201033782734296,13.771932249997997,4.962750597003632,11.950883019490677,8.98526169828155,12.355209834825006,22.28622914583016,21.201437494852463,18.08056525652436,9.077054905908268,15.77785351981811,1.8213576975479302,16.54794998476296,12.27792666394592,6.1774138729073655,2.3456633133437332,19.33868591549413,17.445753335184584,9.706880642129326,7.254372886295862,12.171906916925419,21.64503257793158,12.26747414345176,12.308238829655402,20.374889834018052,26.336925914275568,4.243864852651991,7.367619537237066,9.118066192905477,7.5208335150305565,13.567429614858623,5.247198715139745],\"type\":\"scatter3d\"},{\"x\":[-2.786388631097286,-2.0391083293201295,-1.291828027542973,-0.5445477257658164,0.2027325760113401,0.9500128777884966,1.6972931795656532,2.44457348134281,3.1918537831199663,3.9391340848971224],\"y\":[-2.6349264854796908,-1.8759699614566632,-1.1170134374336353,-0.3580569134106075,0.4008996106124201,1.1598561346354477,1.9188126586584757,2.677769182681503,3.436725706704531,4.195682230727559],\"z\":[[13.139469791054253,13.454783852507404,13.770097913960557,14.08541197541371,14.40072603686686,14.716040098320013,15.031354159773166,15.346668221226317,15.66198228267947,15.977296344132622],[12.529273972168784,12.844588033621937,13.15990209507509,13.47521615652824,13.790530217981393,14.105844279434546,14.421158340887697,14.736472402340851,15.051786463794002,15.367100525247153],[11.919078153283317,12.23439221473647,12.549706276189623,12.865020337642774,13.180334399095926,13.495648460549079,13.81096252200223,14.126276583455383,14.441590644908535,14.756904706361688],[11.30888233439785,11.624196395851003,11.939510457304154,12.254824518757307,12.57013858021046,12.885452641663612,13.200766703116763,13.516080764569915,13.831394826023068,14.146708887476219],[10.698686515512383,11.014000576965536,11.329314638418687,11.64462869987184,11.959942761324992,12.275256822778143,12.590570884231296,12.905884945684448,13.221199007137601,13.536513068590752],[10.088490696626916,10.403804758080069,10.71911881953322,11.034432880986373,11.349746942439525,11.665061003892676,11.980375065345829,12.295689126798981,12.611003188252134,12.926317249705285],[9.478294877741448,9.7936089391946,10.108923000647753,10.424237062100906,10.739551123554056,11.054865185007209,11.370179246460362,11.685493307913514,12.000807369366665,12.316121430819818],[8.868099058855982,9.183413120309133,9.498727181762286,9.814041243215438,10.12935530466859,10.444669366121742,10.759983427574895,11.075297489028047,11.390611550481198,11.70592561193435],[8.257903239970513,8.573217301423666,8.888531362876819,9.20384542432997,9.519159485783122,9.834473547236275,10.149787608689428,10.46510167014258,10.780415731595731,11.095729793048884],[7.647707421085046,7.963021482538198,8.27833554399135,8.593649605444503,8.908963666897655,9.224277728350806,9.539591789803959,9.854905851257111,10.170219912710262,10.485533974163415]],\"type\":\"surface\"}],                        {\"template\":{\"data\":{\"bar\":[{\"error_x\":{\"color\":\"#2a3f5f\"},\"error_y\":{\"color\":\"#2a3f5f\"},\"marker\":{\"line\":{\"color\":\"#E5ECF6\",\"width\":0.5},\"pattern\":{\"fillmode\":\"overlay\",\"size\":10,\"solidity\":0.2}},\"type\":\"bar\"}],\"barpolar\":[{\"marker\":{\"line\":{\"color\":\"#E5ECF6\",\"width\":0.5},\"pattern\":{\"fillmode\":\"overlay\",\"size\":10,\"solidity\":0.2}},\"type\":\"barpolar\"}],\"carpet\":[{\"aaxis\":{\"endlinecolor\":\"#2a3f5f\",\"gridcolor\":\"white\",\"linecolor\":\"white\",\"minorgridcolor\":\"white\",\"startlinecolor\":\"#2a3f5f\"},\"baxis\":{\"endlinecolor\":\"#2a3f5f\",\"gridcolor\":\"white\",\"linecolor\":\"white\",\"minorgridcolor\":\"white\",\"startlinecolor\":\"#2a3f5f\"},\"type\":\"carpet\"}],\"choropleth\":[{\"colorbar\":{\"outlinewidth\":0,\"ticks\":\"\"},\"type\":\"choropleth\"}],\"contour\":[{\"colorbar\":{\"outlinewidth\":0,\"ticks\":\"\"},\"colorscale\":[[0.0,\"#0d0887\"],[0.1111111111111111,\"#46039f\"],[0.2222222222222222,\"#7201a8\"],[0.3333333333333333,\"#9c179e\"],[0.4444444444444444,\"#bd3786\"],[0.5555555555555556,\"#d8576b\"],[0.6666666666666666,\"#ed7953\"],[0.7777777777777778,\"#fb9f3a\"],[0.8888888888888888,\"#fdca26\"],[1.0,\"#f0f921\"]],\"type\":\"contour\"}],\"contourcarpet\":[{\"colorbar\":{\"outlinewidth\":0,\"ticks\":\"\"},\"type\":\"contourcarpet\"}],\"heatmap\":[{\"colorbar\":{\"outlinewidth\":0,\"ticks\":\"\"},\"colorscale\":[[0.0,\"#0d0887\"],[0.1111111111111111,\"#46039f\"],[0.2222222222222222,\"#7201a8\"],[0.3333333333333333,\"#9c179e\"],[0.4444444444444444,\"#bd3786\"],[0.5555555555555556,\"#d8576b\"],[0.6666666666666666,\"#ed7953\"],[0.7777777777777778,\"#fb9f3a\"],[0.8888888888888888,\"#fdca26\"],[1.0,\"#f0f921\"]],\"type\":\"heatmap\"}],\"heatmapgl\":[{\"colorbar\":{\"outlinewidth\":0,\"ticks\":\"\"},\"colorscale\":[[0.0,\"#0d0887\"],[0.1111111111111111,\"#46039f\"],[0.2222222222222222,\"#7201a8\"],[0.3333333333333333,\"#9c179e\"],[0.4444444444444444,\"#bd3786\"],[0.5555555555555556,\"#d8576b\"],[0.6666666666666666,\"#ed7953\"],[0.7777777777777778,\"#fb9f3a\"],[0.8888888888888888,\"#fdca26\"],[1.0,\"#f0f921\"]],\"type\":\"heatmapgl\"}],\"histogram\":[{\"marker\":{\"pattern\":{\"fillmode\":\"overlay\",\"size\":10,\"solidity\":0.2}},\"type\":\"histogram\"}],\"histogram2d\":[{\"colorbar\":{\"outlinewidth\":0,\"ticks\":\"\"},\"colorscale\":[[0.0,\"#0d0887\"],[0.1111111111111111,\"#46039f\"],[0.2222222222222222,\"#7201a8\"],[0.3333333333333333,\"#9c179e\"],[0.4444444444444444,\"#bd3786\"],[0.5555555555555556,\"#d8576b\"],[0.6666666666666666,\"#ed7953\"],[0.7777777777777778,\"#fb9f3a\"],[0.8888888888888888,\"#fdca26\"],[1.0,\"#f0f921\"]],\"type\":\"histogram2d\"}],\"histogram2dcontour\":[{\"colorbar\":{\"outlinewidth\":0,\"ticks\":\"\"},\"colorscale\":[[0.0,\"#0d0887\"],[0.1111111111111111,\"#46039f\"],[0.2222222222222222,\"#7201a8\"],[0.3333333333333333,\"#9c179e\"],[0.4444444444444444,\"#bd3786\"],[0.5555555555555556,\"#d8576b\"],[0.6666666666666666,\"#ed7953\"],[0.7777777777777778,\"#fb9f3a\"],[0.8888888888888888,\"#fdca26\"],[1.0,\"#f0f921\"]],\"type\":\"histogram2dcontour\"}],\"mesh3d\":[{\"colorbar\":{\"outlinewidth\":0,\"ticks\":\"\"},\"type\":\"mesh3d\"}],\"parcoords\":[{\"line\":{\"colorbar\":{\"outlinewidth\":0,\"ticks\":\"\"}},\"type\":\"parcoords\"}],\"pie\":[{\"automargin\":true,\"type\":\"pie\"}],\"scatter\":[{\"marker\":{\"colorbar\":{\"outlinewidth\":0,\"ticks\":\"\"}},\"type\":\"scatter\"}],\"scatter3d\":[{\"line\":{\"colorbar\":{\"outlinewidth\":0,\"ticks\":\"\"}},\"marker\":{\"colorbar\":{\"outlinewidth\":0,\"ticks\":\"\"}},\"type\":\"scatter3d\"}],\"scattercarpet\":[{\"marker\":{\"colorbar\":{\"outlinewidth\":0,\"ticks\":\"\"}},\"type\":\"scattercarpet\"}],\"scattergeo\":[{\"marker\":{\"colorbar\":{\"outlinewidth\":0,\"ticks\":\"\"}},\"type\":\"scattergeo\"}],\"scattergl\":[{\"marker\":{\"colorbar\":{\"outlinewidth\":0,\"ticks\":\"\"}},\"type\":\"scattergl\"}],\"scattermapbox\":[{\"marker\":{\"colorbar\":{\"outlinewidth\":0,\"ticks\":\"\"}},\"type\":\"scattermapbox\"}],\"scatterpolar\":[{\"marker\":{\"colorbar\":{\"outlinewidth\":0,\"ticks\":\"\"}},\"type\":\"scatterpolar\"}],\"scatterpolargl\":[{\"marker\":{\"colorbar\":{\"outlinewidth\":0,\"ticks\":\"\"}},\"type\":\"scatterpolargl\"}],\"scatterternary\":[{\"marker\":{\"colorbar\":{\"outlinewidth\":0,\"ticks\":\"\"}},\"type\":\"scatterternary\"}],\"surface\":[{\"colorbar\":{\"outlinewidth\":0,\"ticks\":\"\"},\"colorscale\":[[0.0,\"#0d0887\"],[0.1111111111111111,\"#46039f\"],[0.2222222222222222,\"#7201a8\"],[0.3333333333333333,\"#9c179e\"],[0.4444444444444444,\"#bd3786\"],[0.5555555555555556,\"#d8576b\"],[0.6666666666666666,\"#ed7953\"],[0.7777777777777778,\"#fb9f3a\"],[0.8888888888888888,\"#fdca26\"],[1.0,\"#f0f921\"]],\"type\":\"surface\"}],\"table\":[{\"cells\":{\"fill\":{\"color\":\"#EBF0F8\"},\"line\":{\"color\":\"white\"}},\"header\":{\"fill\":{\"color\":\"#C8D4E3\"},\"line\":{\"color\":\"white\"}},\"type\":\"table\"}]},\"layout\":{\"annotationdefaults\":{\"arrowcolor\":\"#2a3f5f\",\"arrowhead\":0,\"arrowwidth\":1},\"autotypenumbers\":\"strict\",\"coloraxis\":{\"colorbar\":{\"outlinewidth\":0,\"ticks\":\"\"}},\"colorscale\":{\"diverging\":[[0,\"#8e0152\"],[0.1,\"#c51b7d\"],[0.2,\"#de77ae\"],[0.3,\"#f1b6da\"],[0.4,\"#fde0ef\"],[0.5,\"#f7f7f7\"],[0.6,\"#e6f5d0\"],[0.7,\"#b8e186\"],[0.8,\"#7fbc41\"],[0.9,\"#4d9221\"],[1,\"#276419\"]],\"sequential\":[[0.0,\"#0d0887\"],[0.1111111111111111,\"#46039f\"],[0.2222222222222222,\"#7201a8\"],[0.3333333333333333,\"#9c179e\"],[0.4444444444444444,\"#bd3786\"],[0.5555555555555556,\"#d8576b\"],[0.6666666666666666,\"#ed7953\"],[0.7777777777777778,\"#fb9f3a\"],[0.8888888888888888,\"#fdca26\"],[1.0,\"#f0f921\"]],\"sequentialminus\":[[0.0,\"#0d0887\"],[0.1111111111111111,\"#46039f\"],[0.2222222222222222,\"#7201a8\"],[0.3333333333333333,\"#9c179e\"],[0.4444444444444444,\"#bd3786\"],[0.5555555555555556,\"#d8576b\"],[0.6666666666666666,\"#ed7953\"],[0.7777777777777778,\"#fb9f3a\"],[0.8888888888888888,\"#fdca26\"],[1.0,\"#f0f921\"]]},\"colorway\":[\"#636efa\",\"#EF553B\",\"#00cc96\",\"#ab63fa\",\"#FFA15A\",\"#19d3f3\",\"#FF6692\",\"#B6E880\",\"#FF97FF\",\"#FECB52\"],\"font\":{\"color\":\"#2a3f5f\"},\"geo\":{\"bgcolor\":\"white\",\"lakecolor\":\"white\",\"landcolor\":\"#E5ECF6\",\"showlakes\":true,\"showland\":true,\"subunitcolor\":\"white\"},\"hoverlabel\":{\"align\":\"left\"},\"hovermode\":\"closest\",\"mapbox\":{\"style\":\"light\"},\"paper_bgcolor\":\"white\",\"plot_bgcolor\":\"#E5ECF6\",\"polar\":{\"angularaxis\":{\"gridcolor\":\"white\",\"linecolor\":\"white\",\"ticks\":\"\"},\"bgcolor\":\"#E5ECF6\",\"radialaxis\":{\"gridcolor\":\"white\",\"linecolor\":\"white\",\"ticks\":\"\"}},\"scene\":{\"xaxis\":{\"backgroundcolor\":\"#E5ECF6\",\"gridcolor\":\"white\",\"gridwidth\":2,\"linecolor\":\"white\",\"showbackground\":true,\"ticks\":\"\",\"zerolinecolor\":\"white\"},\"yaxis\":{\"backgroundcolor\":\"#E5ECF6\",\"gridcolor\":\"white\",\"gridwidth\":2,\"linecolor\":\"white\",\"showbackground\":true,\"ticks\":\"\",\"zerolinecolor\":\"white\"},\"zaxis\":{\"backgroundcolor\":\"#E5ECF6\",\"gridcolor\":\"white\",\"gridwidth\":2,\"linecolor\":\"white\",\"showbackground\":true,\"ticks\":\"\",\"zerolinecolor\":\"white\"}},\"shapedefaults\":{\"line\":{\"color\":\"#2a3f5f\"}},\"ternary\":{\"aaxis\":{\"gridcolor\":\"white\",\"linecolor\":\"white\",\"ticks\":\"\"},\"baxis\":{\"gridcolor\":\"white\",\"linecolor\":\"white\",\"ticks\":\"\"},\"bgcolor\":\"#E5ECF6\",\"caxis\":{\"gridcolor\":\"white\",\"linecolor\":\"white\",\"ticks\":\"\"}},\"title\":{\"x\":0.05},\"xaxis\":{\"automargin\":true,\"gridcolor\":\"white\",\"linecolor\":\"white\",\"ticks\":\"\",\"title\":{\"standoff\":15},\"zerolinecolor\":\"white\",\"zerolinewidth\":2},\"yaxis\":{\"automargin\":true,\"gridcolor\":\"white\",\"linecolor\":\"white\",\"ticks\":\"\",\"title\":{\"standoff\":15},\"zerolinecolor\":\"white\",\"zerolinewidth\":2}}},\"scene\":{\"domain\":{\"x\":[0.0,1.0],\"y\":[0.0,1.0]},\"xaxis\":{\"title\":{\"text\":\"x\"}},\"yaxis\":{\"title\":{\"text\":\"y\"}},\"zaxis\":{\"title\":{\"text\":\"z\"}}},\"legend\":{\"tracegroupgap\":0},\"margin\":{\"t\":60}},                        {\"responsive\": true}                    ).then(function(){\n",
       "                            \n",
       "var gd = document.getElementById('70b5ce89-3c2a-4305-9ff6-a3f4a40fc6c2');\n",
       "var x = new MutationObserver(function (mutations, observer) {{\n",
       "        var display = window.getComputedStyle(gd).display;\n",
       "        if (!display || display === 'none') {{\n",
       "            console.log([gd, 'removed!']);\n",
       "            Plotly.purge(gd);\n",
       "            observer.disconnect();\n",
       "        }}\n",
       "}});\n",
       "\n",
       "// Listen for the removal of the full notebook cells\n",
       "var notebookContainer = gd.closest('#notebook-container');\n",
       "if (notebookContainer) {{\n",
       "    x.observe(notebookContainer, {childList: true});\n",
       "}}\n",
       "\n",
       "// Listen for the clearing of the current output cell\n",
       "var outputEl = gd.closest('.output');\n",
       "if (outputEl) {{\n",
       "    x.observe(outputEl, {childList: true});\n",
       "}}\n",
       "\n",
       "                        })                };                });            </script>        </div>"
      ]
     },
     "metadata": {},
     "output_type": "display_data"
    }
   ],
   "source": [
    "import plotly.graph_objects as go\n",
    "\n",
    "fig = px.scatter_3d(df, x=x.ravel(), y=y.ravel(), z=z.ravel())\n",
    "\n",
    "fig.add_trace(go.Surface(x = x_input, y = y_input, z =z_final ))\n",
    "\n",
    "fig.show()"
   ]
  },
  {
   "cell_type": "code",
   "execution_count": 60,
   "id": "537d6570",
   "metadata": {},
   "outputs": [
    {
     "data": {
      "text/plain": [
       "(100, 2)"
      ]
     },
     "execution_count": 60,
     "metadata": {},
     "output_type": "execute_result"
    }
   ],
   "source": [
    "X_multi = np.array([x,y]).reshape(100,2)\n",
    "X_multi.shape"
   ]
  },
  {
   "cell_type": "code",
   "execution_count": 61,
   "id": "ad50a5e4",
   "metadata": {},
   "outputs": [],
   "source": [
    "poly = PolynomialFeatures(degree=30)\n",
    "X_multi_trans = poly.fit_transform(X_multi)"
   ]
  },
  {
   "cell_type": "code",
   "execution_count": 62,
   "id": "3f560caa",
   "metadata": {},
   "outputs": [
    {
     "name": "stdout",
     "output_type": "stream",
     "text": [
      "Input 2\n",
      "Ouput 496\n",
      "Powers\n",
      " [[ 0  0]\n",
      " [ 1  0]\n",
      " [ 0  1]\n",
      " [ 2  0]\n",
      " [ 1  1]\n",
      " [ 0  2]\n",
      " [ 3  0]\n",
      " [ 2  1]\n",
      " [ 1  2]\n",
      " [ 0  3]\n",
      " [ 4  0]\n",
      " [ 3  1]\n",
      " [ 2  2]\n",
      " [ 1  3]\n",
      " [ 0  4]\n",
      " [ 5  0]\n",
      " [ 4  1]\n",
      " [ 3  2]\n",
      " [ 2  3]\n",
      " [ 1  4]\n",
      " [ 0  5]\n",
      " [ 6  0]\n",
      " [ 5  1]\n",
      " [ 4  2]\n",
      " [ 3  3]\n",
      " [ 2  4]\n",
      " [ 1  5]\n",
      " [ 0  6]\n",
      " [ 7  0]\n",
      " [ 6  1]\n",
      " [ 5  2]\n",
      " [ 4  3]\n",
      " [ 3  4]\n",
      " [ 2  5]\n",
      " [ 1  6]\n",
      " [ 0  7]\n",
      " [ 8  0]\n",
      " [ 7  1]\n",
      " [ 6  2]\n",
      " [ 5  3]\n",
      " [ 4  4]\n",
      " [ 3  5]\n",
      " [ 2  6]\n",
      " [ 1  7]\n",
      " [ 0  8]\n",
      " [ 9  0]\n",
      " [ 8  1]\n",
      " [ 7  2]\n",
      " [ 6  3]\n",
      " [ 5  4]\n",
      " [ 4  5]\n",
      " [ 3  6]\n",
      " [ 2  7]\n",
      " [ 1  8]\n",
      " [ 0  9]\n",
      " [10  0]\n",
      " [ 9  1]\n",
      " [ 8  2]\n",
      " [ 7  3]\n",
      " [ 6  4]\n",
      " [ 5  5]\n",
      " [ 4  6]\n",
      " [ 3  7]\n",
      " [ 2  8]\n",
      " [ 1  9]\n",
      " [ 0 10]\n",
      " [11  0]\n",
      " [10  1]\n",
      " [ 9  2]\n",
      " [ 8  3]\n",
      " [ 7  4]\n",
      " [ 6  5]\n",
      " [ 5  6]\n",
      " [ 4  7]\n",
      " [ 3  8]\n",
      " [ 2  9]\n",
      " [ 1 10]\n",
      " [ 0 11]\n",
      " [12  0]\n",
      " [11  1]\n",
      " [10  2]\n",
      " [ 9  3]\n",
      " [ 8  4]\n",
      " [ 7  5]\n",
      " [ 6  6]\n",
      " [ 5  7]\n",
      " [ 4  8]\n",
      " [ 3  9]\n",
      " [ 2 10]\n",
      " [ 1 11]\n",
      " [ 0 12]\n",
      " [13  0]\n",
      " [12  1]\n",
      " [11  2]\n",
      " [10  3]\n",
      " [ 9  4]\n",
      " [ 8  5]\n",
      " [ 7  6]\n",
      " [ 6  7]\n",
      " [ 5  8]\n",
      " [ 4  9]\n",
      " [ 3 10]\n",
      " [ 2 11]\n",
      " [ 1 12]\n",
      " [ 0 13]\n",
      " [14  0]\n",
      " [13  1]\n",
      " [12  2]\n",
      " [11  3]\n",
      " [10  4]\n",
      " [ 9  5]\n",
      " [ 8  6]\n",
      " [ 7  7]\n",
      " [ 6  8]\n",
      " [ 5  9]\n",
      " [ 4 10]\n",
      " [ 3 11]\n",
      " [ 2 12]\n",
      " [ 1 13]\n",
      " [ 0 14]\n",
      " [15  0]\n",
      " [14  1]\n",
      " [13  2]\n",
      " [12  3]\n",
      " [11  4]\n",
      " [10  5]\n",
      " [ 9  6]\n",
      " [ 8  7]\n",
      " [ 7  8]\n",
      " [ 6  9]\n",
      " [ 5 10]\n",
      " [ 4 11]\n",
      " [ 3 12]\n",
      " [ 2 13]\n",
      " [ 1 14]\n",
      " [ 0 15]\n",
      " [16  0]\n",
      " [15  1]\n",
      " [14  2]\n",
      " [13  3]\n",
      " [12  4]\n",
      " [11  5]\n",
      " [10  6]\n",
      " [ 9  7]\n",
      " [ 8  8]\n",
      " [ 7  9]\n",
      " [ 6 10]\n",
      " [ 5 11]\n",
      " [ 4 12]\n",
      " [ 3 13]\n",
      " [ 2 14]\n",
      " [ 1 15]\n",
      " [ 0 16]\n",
      " [17  0]\n",
      " [16  1]\n",
      " [15  2]\n",
      " [14  3]\n",
      " [13  4]\n",
      " [12  5]\n",
      " [11  6]\n",
      " [10  7]\n",
      " [ 9  8]\n",
      " [ 8  9]\n",
      " [ 7 10]\n",
      " [ 6 11]\n",
      " [ 5 12]\n",
      " [ 4 13]\n",
      " [ 3 14]\n",
      " [ 2 15]\n",
      " [ 1 16]\n",
      " [ 0 17]\n",
      " [18  0]\n",
      " [17  1]\n",
      " [16  2]\n",
      " [15  3]\n",
      " [14  4]\n",
      " [13  5]\n",
      " [12  6]\n",
      " [11  7]\n",
      " [10  8]\n",
      " [ 9  9]\n",
      " [ 8 10]\n",
      " [ 7 11]\n",
      " [ 6 12]\n",
      " [ 5 13]\n",
      " [ 4 14]\n",
      " [ 3 15]\n",
      " [ 2 16]\n",
      " [ 1 17]\n",
      " [ 0 18]\n",
      " [19  0]\n",
      " [18  1]\n",
      " [17  2]\n",
      " [16  3]\n",
      " [15  4]\n",
      " [14  5]\n",
      " [13  6]\n",
      " [12  7]\n",
      " [11  8]\n",
      " [10  9]\n",
      " [ 9 10]\n",
      " [ 8 11]\n",
      " [ 7 12]\n",
      " [ 6 13]\n",
      " [ 5 14]\n",
      " [ 4 15]\n",
      " [ 3 16]\n",
      " [ 2 17]\n",
      " [ 1 18]\n",
      " [ 0 19]\n",
      " [20  0]\n",
      " [19  1]\n",
      " [18  2]\n",
      " [17  3]\n",
      " [16  4]\n",
      " [15  5]\n",
      " [14  6]\n",
      " [13  7]\n",
      " [12  8]\n",
      " [11  9]\n",
      " [10 10]\n",
      " [ 9 11]\n",
      " [ 8 12]\n",
      " [ 7 13]\n",
      " [ 6 14]\n",
      " [ 5 15]\n",
      " [ 4 16]\n",
      " [ 3 17]\n",
      " [ 2 18]\n",
      " [ 1 19]\n",
      " [ 0 20]\n",
      " [21  0]\n",
      " [20  1]\n",
      " [19  2]\n",
      " [18  3]\n",
      " [17  4]\n",
      " [16  5]\n",
      " [15  6]\n",
      " [14  7]\n",
      " [13  8]\n",
      " [12  9]\n",
      " [11 10]\n",
      " [10 11]\n",
      " [ 9 12]\n",
      " [ 8 13]\n",
      " [ 7 14]\n",
      " [ 6 15]\n",
      " [ 5 16]\n",
      " [ 4 17]\n",
      " [ 3 18]\n",
      " [ 2 19]\n",
      " [ 1 20]\n",
      " [ 0 21]\n",
      " [22  0]\n",
      " [21  1]\n",
      " [20  2]\n",
      " [19  3]\n",
      " [18  4]\n",
      " [17  5]\n",
      " [16  6]\n",
      " [15  7]\n",
      " [14  8]\n",
      " [13  9]\n",
      " [12 10]\n",
      " [11 11]\n",
      " [10 12]\n",
      " [ 9 13]\n",
      " [ 8 14]\n",
      " [ 7 15]\n",
      " [ 6 16]\n",
      " [ 5 17]\n",
      " [ 4 18]\n",
      " [ 3 19]\n",
      " [ 2 20]\n",
      " [ 1 21]\n",
      " [ 0 22]\n",
      " [23  0]\n",
      " [22  1]\n",
      " [21  2]\n",
      " [20  3]\n",
      " [19  4]\n",
      " [18  5]\n",
      " [17  6]\n",
      " [16  7]\n",
      " [15  8]\n",
      " [14  9]\n",
      " [13 10]\n",
      " [12 11]\n",
      " [11 12]\n",
      " [10 13]\n",
      " [ 9 14]\n",
      " [ 8 15]\n",
      " [ 7 16]\n",
      " [ 6 17]\n",
      " [ 5 18]\n",
      " [ 4 19]\n",
      " [ 3 20]\n",
      " [ 2 21]\n",
      " [ 1 22]\n",
      " [ 0 23]\n",
      " [24  0]\n",
      " [23  1]\n",
      " [22  2]\n",
      " [21  3]\n",
      " [20  4]\n",
      " [19  5]\n",
      " [18  6]\n",
      " [17  7]\n",
      " [16  8]\n",
      " [15  9]\n",
      " [14 10]\n",
      " [13 11]\n",
      " [12 12]\n",
      " [11 13]\n",
      " [10 14]\n",
      " [ 9 15]\n",
      " [ 8 16]\n",
      " [ 7 17]\n",
      " [ 6 18]\n",
      " [ 5 19]\n",
      " [ 4 20]\n",
      " [ 3 21]\n",
      " [ 2 22]\n",
      " [ 1 23]\n",
      " [ 0 24]\n",
      " [25  0]\n",
      " [24  1]\n",
      " [23  2]\n",
      " [22  3]\n",
      " [21  4]\n",
      " [20  5]\n",
      " [19  6]\n",
      " [18  7]\n",
      " [17  8]\n",
      " [16  9]\n",
      " [15 10]\n",
      " [14 11]\n",
      " [13 12]\n",
      " [12 13]\n",
      " [11 14]\n",
      " [10 15]\n",
      " [ 9 16]\n",
      " [ 8 17]\n",
      " [ 7 18]\n",
      " [ 6 19]\n",
      " [ 5 20]\n",
      " [ 4 21]\n",
      " [ 3 22]\n",
      " [ 2 23]\n",
      " [ 1 24]\n",
      " [ 0 25]\n",
      " [26  0]\n",
      " [25  1]\n",
      " [24  2]\n",
      " [23  3]\n",
      " [22  4]\n",
      " [21  5]\n",
      " [20  6]\n",
      " [19  7]\n",
      " [18  8]\n",
      " [17  9]\n",
      " [16 10]\n",
      " [15 11]\n",
      " [14 12]\n",
      " [13 13]\n",
      " [12 14]\n",
      " [11 15]\n",
      " [10 16]\n",
      " [ 9 17]\n",
      " [ 8 18]\n",
      " [ 7 19]\n",
      " [ 6 20]\n",
      " [ 5 21]\n",
      " [ 4 22]\n",
      " [ 3 23]\n",
      " [ 2 24]\n",
      " [ 1 25]\n",
      " [ 0 26]\n",
      " [27  0]\n",
      " [26  1]\n",
      " [25  2]\n",
      " [24  3]\n",
      " [23  4]\n",
      " [22  5]\n",
      " [21  6]\n",
      " [20  7]\n",
      " [19  8]\n",
      " [18  9]\n",
      " [17 10]\n",
      " [16 11]\n",
      " [15 12]\n",
      " [14 13]\n",
      " [13 14]\n",
      " [12 15]\n",
      " [11 16]\n",
      " [10 17]\n",
      " [ 9 18]\n",
      " [ 8 19]\n",
      " [ 7 20]\n",
      " [ 6 21]\n",
      " [ 5 22]\n",
      " [ 4 23]\n",
      " [ 3 24]\n",
      " [ 2 25]\n",
      " [ 1 26]\n",
      " [ 0 27]\n",
      " [28  0]\n",
      " [27  1]\n",
      " [26  2]\n",
      " [25  3]\n",
      " [24  4]\n",
      " [23  5]\n",
      " [22  6]\n",
      " [21  7]\n",
      " [20  8]\n",
      " [19  9]\n",
      " [18 10]\n",
      " [17 11]\n",
      " [16 12]\n",
      " [15 13]\n",
      " [14 14]\n",
      " [13 15]\n",
      " [12 16]\n",
      " [11 17]\n",
      " [10 18]\n",
      " [ 9 19]\n",
      " [ 8 20]\n",
      " [ 7 21]\n",
      " [ 6 22]\n",
      " [ 5 23]\n",
      " [ 4 24]\n",
      " [ 3 25]\n",
      " [ 2 26]\n",
      " [ 1 27]\n",
      " [ 0 28]\n",
      " [29  0]\n",
      " [28  1]\n",
      " [27  2]\n",
      " [26  3]\n",
      " [25  4]\n",
      " [24  5]\n",
      " [23  6]\n",
      " [22  7]\n",
      " [21  8]\n",
      " [20  9]\n",
      " [19 10]\n",
      " [18 11]\n",
      " [17 12]\n",
      " [16 13]\n",
      " [15 14]\n",
      " [14 15]\n",
      " [13 16]\n",
      " [12 17]\n",
      " [11 18]\n",
      " [10 19]\n",
      " [ 9 20]\n",
      " [ 8 21]\n",
      " [ 7 22]\n",
      " [ 6 23]\n",
      " [ 5 24]\n",
      " [ 4 25]\n",
      " [ 3 26]\n",
      " [ 2 27]\n",
      " [ 1 28]\n",
      " [ 0 29]\n",
      " [30  0]\n",
      " [29  1]\n",
      " [28  2]\n",
      " [27  3]\n",
      " [26  4]\n",
      " [25  5]\n",
      " [24  6]\n",
      " [23  7]\n",
      " [22  8]\n",
      " [21  9]\n",
      " [20 10]\n",
      " [19 11]\n",
      " [18 12]\n",
      " [17 13]\n",
      " [16 14]\n",
      " [15 15]\n",
      " [14 16]\n",
      " [13 17]\n",
      " [12 18]\n",
      " [11 19]\n",
      " [10 20]\n",
      " [ 9 21]\n",
      " [ 8 22]\n",
      " [ 7 23]\n",
      " [ 6 24]\n",
      " [ 5 25]\n",
      " [ 4 26]\n",
      " [ 3 27]\n",
      " [ 2 28]\n",
      " [ 1 29]\n",
      " [ 0 30]]\n"
     ]
    },
    {
     "name": "stderr",
     "output_type": "stream",
     "text": [
      "C:\\Users\\soham\\anaconda3\\lib\\site-packages\\sklearn\\utils\\deprecation.py:103: FutureWarning:\n",
      "\n",
      "The attribute `n_input_features_` was deprecated in version 1.0 and will be removed in 1.2.\n",
      "\n"
     ]
    }
   ],
   "source": [
    "print(\"Input\",poly.n_input_features_)\n",
    "print(\"Ouput\",poly.n_output_features_)\n",
    "print(\"Powers\\n\",poly.powers_)"
   ]
  },
  {
   "cell_type": "code",
   "execution_count": 63,
   "id": "3b8e8671",
   "metadata": {},
   "outputs": [
    {
     "data": {
      "text/plain": [
       "(100, 496)"
      ]
     },
     "execution_count": 63,
     "metadata": {},
     "output_type": "execute_result"
    }
   ],
   "source": [
    "X_multi_trans.shape"
   ]
  },
  {
   "cell_type": "code",
   "execution_count": 64,
   "id": "3fc45a3d",
   "metadata": {},
   "outputs": [
    {
     "data": {
      "text/plain": [
       "LinearRegression()"
      ]
     },
     "execution_count": 64,
     "metadata": {},
     "output_type": "execute_result"
    }
   ],
   "source": [
    "lr = LinearRegression()\n",
    "lr.fit(X_multi_trans,z)"
   ]
  },
  {
   "cell_type": "code",
   "execution_count": 65,
   "id": "b685f2d8",
   "metadata": {},
   "outputs": [],
   "source": [
    "X_test_multi = poly.transform(final)\n"
   ]
  },
  {
   "cell_type": "code",
   "execution_count": 66,
   "id": "1b23691f",
   "metadata": {},
   "outputs": [],
   "source": [
    "z_final = lr.predict(X_multi_trans).reshape(10,10)\n"
   ]
  },
  {
   "cell_type": "code",
   "execution_count": 67,
   "id": "0bcab6ea",
   "metadata": {},
   "outputs": [
    {
     "data": {
      "application/vnd.plotly.v1+json": {
       "config": {
        "plotlyServerURL": "https://plot.ly"
       },
       "data": [
        {
         "hovertemplate": "x=%{x}<br>y=%{y}<br>z=%{z}<extra></extra>",
         "legendgroup": "",
         "marker": {
          "color": "#636efa",
          "symbol": "circle"
         },
         "mode": "markers",
         "name": "",
         "scene": "scene",
         "showlegend": false,
         "type": "scatter3d",
         "x": [
          1.8312475828589037,
          1.9447277453292724,
          -2.5754821224677897,
          -1.0116160586405127,
          -1.2759069146927864,
          -2.3481635983156988,
          -1.7406662003173083,
          -1.7001225102388422,
          1.422757100962703,
          2.599495099464531,
          1.410700897851763,
          2.8725183573220336,
          1.88920406319186,
          3.9391340848971224,
          2.023915489039627,
          3.5993925472151878,
          1.7519574707145047,
          1.2926834600928414,
          3.500695298792545,
          0.4705430972715918,
          -2.407371259833894,
          -0.6352771859710602,
          2.1183316286357385,
          -0.5169673478190262,
          3.1212197795806302,
          3.6616220427570427,
          0.7856808698380116,
          -2.0147293819257515,
          3.22589480394367,
          3.4654157719582184,
          3.451675654789976,
          0.23372040030003527,
          1.3047932101641733,
          2.427046915431837,
          3.4430871540823684,
          3.6884870419903173,
          3.043475707089237,
          -2.771979391696477,
          1.2365030550028626,
          3.848660859103436,
          -0.46229816533164314,
          1.7948617996486584,
          -2.637313268571781,
          0.4350926829617614,
          -0.1680575637143482,
          3.6598358340145465,
          3.706039833751606,
          3.575581167413408,
          -1.8282426914356595,
          3.156087740961463,
          -0.4532347208915066,
          0.03824565640923794,
          -1.7953049412311748,
          1.8178900142268493,
          -0.4819137716203272,
          0.4822738949275136,
          -0.638741849017153,
          -1.8070690665229563,
          0.8107561797700664,
          -0.6262988584919418,
          -0.32834820668798814,
          0.19383221602719258,
          -1.599147406161204,
          -0.18056978903250798,
          3.448504285784817,
          3.0687277207272547,
          -0.7928005449850266,
          -1.7807099382751028,
          0.5346471752493396,
          2.38004167475846,
          -2.1726639895761073,
          2.667303795420148,
          2.2191117350002285,
          2.365582784546853,
          -2.5099174778735036,
          3.3871143403426567,
          0.46600283510409035,
          2.3303262721130578,
          -1.3302950908020894,
          0.8560558167006418,
          2.168878360647793,
          2.72977519900763,
          -1.9842517126583705,
          0.5389985913358188,
          -0.20819761725001706,
          3.087305227056704,
          2.1542132466058233,
          -2.3846710354790392,
          -2.0014050914444903,
          -2.757998471856239,
          3.160145527973998,
          2.905657775176709,
          3.735793287332351,
          -2.786388631097286,
          -0.18435074770430138,
          2.5252395388189814,
          -1.3944799096992486,
          0.35589391817490945,
          -1.974992762859034,
          1.8417626679820112
         ],
         "y": [
          2.758149188317244,
          1.249439277603126,
          3.468709005699348,
          1.1677002217491617,
          2.3693241527656976,
          -0.38621869405117204,
          3.137713725964982,
          2.3187222903647244,
          3.4239031354047302,
          -1.1171971250736865,
          -1.578388015054741,
          0.6976739782640506,
          -2.1147005431228094,
          1.800210778418415,
          -0.9829074734313115,
          1.7525571372955193,
          0.20247018070458722,
          -1.8331089393582372,
          2.934798676706512,
          3.5054462551553494,
          0.183091256797824,
          2.4692408764645224,
          0.3473591278212025,
          3.5808908008218934,
          2.078140040716442,
          1.053788713609416,
          0.36696128688088425,
          1.6161463817513395,
          -1.696747373109694,
          -1.4171754081893553,
          -0.06832427467821489,
          2.239492454523382,
          -0.1344938405577074,
          1.192864520911817,
          -0.32705274618812563,
          3.001110892688212,
          -2.1783089759312455,
          0.8188807566206884,
          -1.2760731434172534,
          -1.6916698851843033,
          1.4631709938267994,
          -2.6349264854796908,
          2.789506909520833,
          3.6436549436979213,
          2.891508394074357,
          -2.229954095260151,
          3.9895698090150225,
          -1.6181171424284346,
          2.5822389489669684,
          0.2214368968293683,
          0.5507295780860897,
          -1.5748111212616558,
          -1.1174321778275167,
          -2.582782865046739,
          1.750149528121356,
          3.451402178236088,
          0.903575832461657,
          -2.4625660399510934,
          -1.5306354073158213,
          -1.6091665401063482,
          1.366869769140834,
          -1.2592247568217378,
          1.4828645434491152,
          2.483353748606973,
          1.6613114061152512,
          2.066280471486337,
          1.4866620982110028,
          -1.76674211874398,
          -2.0190601916527733,
          2.374403899257974,
          -0.7822583414735531,
          1.3961435229210144,
          -0.4825305030747873,
          -2.4390668268304507,
          3.863517927767864,
          2.6249498817129666,
          3.8211308750158404,
          0.5271889456289198,
          3.5381909298590086,
          -0.8754994688998909,
          2.7316738713853645,
          0.2099365259961834,
          -0.9903176388713484,
          1.1251881971672955,
          4.16931022817798,
          -2.4359839596584028,
          1.47141043050524,
          0.23915886368775086,
          2.4244107325660185,
          3.715919897741421,
          -0.7811916686995031,
          1.313800990308347,
          1.4878231570393599,
          4.195682230727559,
          -1.50501462139332,
          -0.05222548742233357,
          2.4130007069330803,
          2.67061360514096,
          -2.228948127885457,
          0.6341349089586452
         ],
         "z": [
          14.7028175179555,
          6.1169819554080815,
          21.811251440777866,
          5.282577692538293,
          7.101397198889904,
          7.489696798196924,
          15.19939852559078,
          9.623049334419342,
          16.280445678564302,
          10.623763347968056,
          6.325837785788338,
          11.175649318591171,
          8.975502274427413,
          22.962946145325727,
          7.496705925283496,
          20.589910744590387,
          6.125747860010215,
          7.777091316919253,
          25.156140805280717,
          15.228264703040772,
          8.797662909706768,
          8.921090265118648,
          7.293956285213844,
          16.37556701267479,
          18.250218035682735,
          17.92151724676353,
          1.1945464935536532,
          10.168990789789495,
          16.022921763697738,
          15.985786001696358,
          13.575932239343889,
          7.175349811631872,
          5.161258814669423,
          9.83419228093534,
          14.304001962709611,
          27.252377471646074,
          15.335235391557138,
          9.61847167685703,
          5.25176146906279,
          18.622059247641747,
          4.970052548974551,
          11.108109519779612,
          15.164145519493129,
          16.074528873804894,
          11.040977960814043,
          19.574810041627615,
          33.69044834421566,
          15.922635466599514,
          12.443842799671186,
          12.964910128255074,
          3.624561677098199,
          3.474405387775499,
          6.153121615724048,
          13.057206978568502,
          6.094098677916545,
          12.410485605036417,
          2.8264680849774084,
          10.472528407202807,
          5.527999702054099,
          5.340993093667917,
          5.938127764121537,
          3.830580964966116,
          7.743522560075802,
          8.6086567264207,
          18.96237169004568,
          16.49573171379547,
          4.581718514616825,
          8.693922956787404,
          6.201033782734296,
          13.771932249997997,
          4.962750597003632,
          11.950883019490677,
          8.98526169828155,
          12.355209834825006,
          22.28622914583016,
          21.201437494852463,
          18.08056525652436,
          9.077054905908268,
          15.77785351981811,
          1.8213576975479302,
          16.54794998476296,
          12.27792666394592,
          6.1774138729073655,
          2.3456633133437332,
          19.33868591549413,
          17.445753335184584,
          9.706880642129326,
          7.254372886295862,
          12.171906916925419,
          21.64503257793158,
          12.26747414345176,
          12.308238829655402,
          20.374889834018052,
          26.336925914275568,
          4.243864852651991,
          7.367619537237066,
          9.118066192905477,
          7.5208335150305565,
          13.567429614858623,
          5.247198715139745
         ]
        },
        {
         "type": "surface",
         "x": [
          -2.786388631097286,
          -2.0391083293201295,
          -1.291828027542973,
          -0.5445477257658164,
          0.2027325760113401,
          0.9500128777884966,
          1.6972931795656532,
          2.44457348134281,
          3.1918537831199663,
          3.9391340848971224
         ],
         "y": [
          -2.6349264854796908,
          -1.8759699614566632,
          -1.1170134374336353,
          -0.3580569134106075,
          0.4008996106124201,
          1.1598561346354477,
          1.9188126586584757,
          2.677769182681503,
          3.436725706704531,
          4.195682230727559
         ],
         "z": [
          [
           14.69535218024066,
           6.13046417584337,
           21.793568002129177,
           5.304272973674072,
           7.149417927616012,
           7.486799610906017,
           15.197439862542522,
           9.627768231683147,
           16.313224305902033,
           10.623038007073772
          ],
          [
           6.229207605250847,
           11.19925220020741,
           8.976187421136272,
           22.9905967930481,
           7.498526288323772,
           20.591620160394086,
           6.145137995143157,
           7.779593182855022,
           25.156497670464887,
           15.226004315667522
          ],
          [
           10.180530736118667,
           8.905594995372665,
           7.294424725823772,
           16.37691373949565,
           18.254038049035444,
           13.101733156448455,
           1.214887595252618,
           13.101732525004403,
           15.518088859840075,
           13.10185560570614
          ],
          [
           13.101732214743341,
           7.522681458375358,
           5.162050916009319,
           10.634444404086251,
           14.244162555940418,
           27.362379433714523,
           15.357367446773422,
           9.61883230333842,
           5.310147046209748,
           13.158634896237412
          ],
          [
           5.097416876011264,
           11.12738289936169,
           15.781432403378856,
           16.30146835105188,
           11.038666514807117,
           19.575923157983198,
           33.692679120355024,
           15.70813441266,
           11.2962618345876,
           12.940855123386426
          ],
          [
           3.0491939765743137,
           3.477102948480022,
           6.204165620390993,
           13.071905804925334,
           6.094328595452678,
           12.619772702627058,
           2.665842061989677,
           10.129454023603726,
           5.550051535845297,
           5.3393923771909595
          ],
          [
           5.829282787406553,
           3.8271433842710376,
           7.76587980107797,
           8.6554724541413,
           18.973765615571722,
           16.44616516386668,
           13.09099032057569,
           7.662697835021389,
           6.194333283183367,
           13.538882379910694
          ],
          [
           4.970779435836446,
           11.948721600823772,
           8.991666628175151,
           12.357596112542522,
           22.476199956738128,
           21.213412715604363,
           18.153521174226626,
           9.06839628344096,
           15.599308871427636,
           1.9316735177763231
          ],
          [
           16.40763334356564,
           12.314400845800263,
           6.213234288799866,
           2.3578372599230573,
           19.09597913467951,
           13.183087013431715,
           9.434728914533478,
           7.264700604730022,
           12.175955487542522,
           21.645758343987836
          ],
          [
           12.944441152863872,
           13.10093554814219,
           20.421072675042524,
           26.203436048121418,
           4.241018964105022,
           13.12462926851985,
           9.013846112542522,
           7.610757961381941,
           13.572773693256748,
           5.2356342172824935
          ]
         ]
        }
       ],
       "layout": {
        "legend": {
         "tracegroupgap": 0
        },
        "margin": {
         "t": 60
        },
        "scene": {
         "domain": {
          "x": [
           0,
           1
          ],
          "y": [
           0,
           1
          ]
         },
         "xaxis": {
          "title": {
           "text": "x"
          }
         },
         "yaxis": {
          "title": {
           "text": "y"
          }
         },
         "zaxis": {
          "range": [
           0,
           35
          ],
          "title": {
           "text": "z"
          }
         }
        },
        "template": {
         "data": {
          "bar": [
           {
            "error_x": {
             "color": "#2a3f5f"
            },
            "error_y": {
             "color": "#2a3f5f"
            },
            "marker": {
             "line": {
              "color": "#E5ECF6",
              "width": 0.5
             },
             "pattern": {
              "fillmode": "overlay",
              "size": 10,
              "solidity": 0.2
             }
            },
            "type": "bar"
           }
          ],
          "barpolar": [
           {
            "marker": {
             "line": {
              "color": "#E5ECF6",
              "width": 0.5
             },
             "pattern": {
              "fillmode": "overlay",
              "size": 10,
              "solidity": 0.2
             }
            },
            "type": "barpolar"
           }
          ],
          "carpet": [
           {
            "aaxis": {
             "endlinecolor": "#2a3f5f",
             "gridcolor": "white",
             "linecolor": "white",
             "minorgridcolor": "white",
             "startlinecolor": "#2a3f5f"
            },
            "baxis": {
             "endlinecolor": "#2a3f5f",
             "gridcolor": "white",
             "linecolor": "white",
             "minorgridcolor": "white",
             "startlinecolor": "#2a3f5f"
            },
            "type": "carpet"
           }
          ],
          "choropleth": [
           {
            "colorbar": {
             "outlinewidth": 0,
             "ticks": ""
            },
            "type": "choropleth"
           }
          ],
          "contour": [
           {
            "colorbar": {
             "outlinewidth": 0,
             "ticks": ""
            },
            "colorscale": [
             [
              0,
              "#0d0887"
             ],
             [
              0.1111111111111111,
              "#46039f"
             ],
             [
              0.2222222222222222,
              "#7201a8"
             ],
             [
              0.3333333333333333,
              "#9c179e"
             ],
             [
              0.4444444444444444,
              "#bd3786"
             ],
             [
              0.5555555555555556,
              "#d8576b"
             ],
             [
              0.6666666666666666,
              "#ed7953"
             ],
             [
              0.7777777777777778,
              "#fb9f3a"
             ],
             [
              0.8888888888888888,
              "#fdca26"
             ],
             [
              1,
              "#f0f921"
             ]
            ],
            "type": "contour"
           }
          ],
          "contourcarpet": [
           {
            "colorbar": {
             "outlinewidth": 0,
             "ticks": ""
            },
            "type": "contourcarpet"
           }
          ],
          "heatmap": [
           {
            "colorbar": {
             "outlinewidth": 0,
             "ticks": ""
            },
            "colorscale": [
             [
              0,
              "#0d0887"
             ],
             [
              0.1111111111111111,
              "#46039f"
             ],
             [
              0.2222222222222222,
              "#7201a8"
             ],
             [
              0.3333333333333333,
              "#9c179e"
             ],
             [
              0.4444444444444444,
              "#bd3786"
             ],
             [
              0.5555555555555556,
              "#d8576b"
             ],
             [
              0.6666666666666666,
              "#ed7953"
             ],
             [
              0.7777777777777778,
              "#fb9f3a"
             ],
             [
              0.8888888888888888,
              "#fdca26"
             ],
             [
              1,
              "#f0f921"
             ]
            ],
            "type": "heatmap"
           }
          ],
          "heatmapgl": [
           {
            "colorbar": {
             "outlinewidth": 0,
             "ticks": ""
            },
            "colorscale": [
             [
              0,
              "#0d0887"
             ],
             [
              0.1111111111111111,
              "#46039f"
             ],
             [
              0.2222222222222222,
              "#7201a8"
             ],
             [
              0.3333333333333333,
              "#9c179e"
             ],
             [
              0.4444444444444444,
              "#bd3786"
             ],
             [
              0.5555555555555556,
              "#d8576b"
             ],
             [
              0.6666666666666666,
              "#ed7953"
             ],
             [
              0.7777777777777778,
              "#fb9f3a"
             ],
             [
              0.8888888888888888,
              "#fdca26"
             ],
             [
              1,
              "#f0f921"
             ]
            ],
            "type": "heatmapgl"
           }
          ],
          "histogram": [
           {
            "marker": {
             "pattern": {
              "fillmode": "overlay",
              "size": 10,
              "solidity": 0.2
             }
            },
            "type": "histogram"
           }
          ],
          "histogram2d": [
           {
            "colorbar": {
             "outlinewidth": 0,
             "ticks": ""
            },
            "colorscale": [
             [
              0,
              "#0d0887"
             ],
             [
              0.1111111111111111,
              "#46039f"
             ],
             [
              0.2222222222222222,
              "#7201a8"
             ],
             [
              0.3333333333333333,
              "#9c179e"
             ],
             [
              0.4444444444444444,
              "#bd3786"
             ],
             [
              0.5555555555555556,
              "#d8576b"
             ],
             [
              0.6666666666666666,
              "#ed7953"
             ],
             [
              0.7777777777777778,
              "#fb9f3a"
             ],
             [
              0.8888888888888888,
              "#fdca26"
             ],
             [
              1,
              "#f0f921"
             ]
            ],
            "type": "histogram2d"
           }
          ],
          "histogram2dcontour": [
           {
            "colorbar": {
             "outlinewidth": 0,
             "ticks": ""
            },
            "colorscale": [
             [
              0,
              "#0d0887"
             ],
             [
              0.1111111111111111,
              "#46039f"
             ],
             [
              0.2222222222222222,
              "#7201a8"
             ],
             [
              0.3333333333333333,
              "#9c179e"
             ],
             [
              0.4444444444444444,
              "#bd3786"
             ],
             [
              0.5555555555555556,
              "#d8576b"
             ],
             [
              0.6666666666666666,
              "#ed7953"
             ],
             [
              0.7777777777777778,
              "#fb9f3a"
             ],
             [
              0.8888888888888888,
              "#fdca26"
             ],
             [
              1,
              "#f0f921"
             ]
            ],
            "type": "histogram2dcontour"
           }
          ],
          "mesh3d": [
           {
            "colorbar": {
             "outlinewidth": 0,
             "ticks": ""
            },
            "type": "mesh3d"
           }
          ],
          "parcoords": [
           {
            "line": {
             "colorbar": {
              "outlinewidth": 0,
              "ticks": ""
             }
            },
            "type": "parcoords"
           }
          ],
          "pie": [
           {
            "automargin": true,
            "type": "pie"
           }
          ],
          "scatter": [
           {
            "marker": {
             "colorbar": {
              "outlinewidth": 0,
              "ticks": ""
             }
            },
            "type": "scatter"
           }
          ],
          "scatter3d": [
           {
            "line": {
             "colorbar": {
              "outlinewidth": 0,
              "ticks": ""
             }
            },
            "marker": {
             "colorbar": {
              "outlinewidth": 0,
              "ticks": ""
             }
            },
            "type": "scatter3d"
           }
          ],
          "scattercarpet": [
           {
            "marker": {
             "colorbar": {
              "outlinewidth": 0,
              "ticks": ""
             }
            },
            "type": "scattercarpet"
           }
          ],
          "scattergeo": [
           {
            "marker": {
             "colorbar": {
              "outlinewidth": 0,
              "ticks": ""
             }
            },
            "type": "scattergeo"
           }
          ],
          "scattergl": [
           {
            "marker": {
             "colorbar": {
              "outlinewidth": 0,
              "ticks": ""
             }
            },
            "type": "scattergl"
           }
          ],
          "scattermapbox": [
           {
            "marker": {
             "colorbar": {
              "outlinewidth": 0,
              "ticks": ""
             }
            },
            "type": "scattermapbox"
           }
          ],
          "scatterpolar": [
           {
            "marker": {
             "colorbar": {
              "outlinewidth": 0,
              "ticks": ""
             }
            },
            "type": "scatterpolar"
           }
          ],
          "scatterpolargl": [
           {
            "marker": {
             "colorbar": {
              "outlinewidth": 0,
              "ticks": ""
             }
            },
            "type": "scatterpolargl"
           }
          ],
          "scatterternary": [
           {
            "marker": {
             "colorbar": {
              "outlinewidth": 0,
              "ticks": ""
             }
            },
            "type": "scatterternary"
           }
          ],
          "surface": [
           {
            "colorbar": {
             "outlinewidth": 0,
             "ticks": ""
            },
            "colorscale": [
             [
              0,
              "#0d0887"
             ],
             [
              0.1111111111111111,
              "#46039f"
             ],
             [
              0.2222222222222222,
              "#7201a8"
             ],
             [
              0.3333333333333333,
              "#9c179e"
             ],
             [
              0.4444444444444444,
              "#bd3786"
             ],
             [
              0.5555555555555556,
              "#d8576b"
             ],
             [
              0.6666666666666666,
              "#ed7953"
             ],
             [
              0.7777777777777778,
              "#fb9f3a"
             ],
             [
              0.8888888888888888,
              "#fdca26"
             ],
             [
              1,
              "#f0f921"
             ]
            ],
            "type": "surface"
           }
          ],
          "table": [
           {
            "cells": {
             "fill": {
              "color": "#EBF0F8"
             },
             "line": {
              "color": "white"
             }
            },
            "header": {
             "fill": {
              "color": "#C8D4E3"
             },
             "line": {
              "color": "white"
             }
            },
            "type": "table"
           }
          ]
         },
         "layout": {
          "annotationdefaults": {
           "arrowcolor": "#2a3f5f",
           "arrowhead": 0,
           "arrowwidth": 1
          },
          "autotypenumbers": "strict",
          "coloraxis": {
           "colorbar": {
            "outlinewidth": 0,
            "ticks": ""
           }
          },
          "colorscale": {
           "diverging": [
            [
             0,
             "#8e0152"
            ],
            [
             0.1,
             "#c51b7d"
            ],
            [
             0.2,
             "#de77ae"
            ],
            [
             0.3,
             "#f1b6da"
            ],
            [
             0.4,
             "#fde0ef"
            ],
            [
             0.5,
             "#f7f7f7"
            ],
            [
             0.6,
             "#e6f5d0"
            ],
            [
             0.7,
             "#b8e186"
            ],
            [
             0.8,
             "#7fbc41"
            ],
            [
             0.9,
             "#4d9221"
            ],
            [
             1,
             "#276419"
            ]
           ],
           "sequential": [
            [
             0,
             "#0d0887"
            ],
            [
             0.1111111111111111,
             "#46039f"
            ],
            [
             0.2222222222222222,
             "#7201a8"
            ],
            [
             0.3333333333333333,
             "#9c179e"
            ],
            [
             0.4444444444444444,
             "#bd3786"
            ],
            [
             0.5555555555555556,
             "#d8576b"
            ],
            [
             0.6666666666666666,
             "#ed7953"
            ],
            [
             0.7777777777777778,
             "#fb9f3a"
            ],
            [
             0.8888888888888888,
             "#fdca26"
            ],
            [
             1,
             "#f0f921"
            ]
           ],
           "sequentialminus": [
            [
             0,
             "#0d0887"
            ],
            [
             0.1111111111111111,
             "#46039f"
            ],
            [
             0.2222222222222222,
             "#7201a8"
            ],
            [
             0.3333333333333333,
             "#9c179e"
            ],
            [
             0.4444444444444444,
             "#bd3786"
            ],
            [
             0.5555555555555556,
             "#d8576b"
            ],
            [
             0.6666666666666666,
             "#ed7953"
            ],
            [
             0.7777777777777778,
             "#fb9f3a"
            ],
            [
             0.8888888888888888,
             "#fdca26"
            ],
            [
             1,
             "#f0f921"
            ]
           ]
          },
          "colorway": [
           "#636efa",
           "#EF553B",
           "#00cc96",
           "#ab63fa",
           "#FFA15A",
           "#19d3f3",
           "#FF6692",
           "#B6E880",
           "#FF97FF",
           "#FECB52"
          ],
          "font": {
           "color": "#2a3f5f"
          },
          "geo": {
           "bgcolor": "white",
           "lakecolor": "white",
           "landcolor": "#E5ECF6",
           "showlakes": true,
           "showland": true,
           "subunitcolor": "white"
          },
          "hoverlabel": {
           "align": "left"
          },
          "hovermode": "closest",
          "mapbox": {
           "style": "light"
          },
          "paper_bgcolor": "white",
          "plot_bgcolor": "#E5ECF6",
          "polar": {
           "angularaxis": {
            "gridcolor": "white",
            "linecolor": "white",
            "ticks": ""
           },
           "bgcolor": "#E5ECF6",
           "radialaxis": {
            "gridcolor": "white",
            "linecolor": "white",
            "ticks": ""
           }
          },
          "scene": {
           "xaxis": {
            "backgroundcolor": "#E5ECF6",
            "gridcolor": "white",
            "gridwidth": 2,
            "linecolor": "white",
            "showbackground": true,
            "ticks": "",
            "zerolinecolor": "white"
           },
           "yaxis": {
            "backgroundcolor": "#E5ECF6",
            "gridcolor": "white",
            "gridwidth": 2,
            "linecolor": "white",
            "showbackground": true,
            "ticks": "",
            "zerolinecolor": "white"
           },
           "zaxis": {
            "backgroundcolor": "#E5ECF6",
            "gridcolor": "white",
            "gridwidth": 2,
            "linecolor": "white",
            "showbackground": true,
            "ticks": "",
            "zerolinecolor": "white"
           }
          },
          "shapedefaults": {
           "line": {
            "color": "#2a3f5f"
           }
          },
          "ternary": {
           "aaxis": {
            "gridcolor": "white",
            "linecolor": "white",
            "ticks": ""
           },
           "baxis": {
            "gridcolor": "white",
            "linecolor": "white",
            "ticks": ""
           },
           "bgcolor": "#E5ECF6",
           "caxis": {
            "gridcolor": "white",
            "linecolor": "white",
            "ticks": ""
           }
          },
          "title": {
           "x": 0.05
          },
          "xaxis": {
           "automargin": true,
           "gridcolor": "white",
           "linecolor": "white",
           "ticks": "",
           "title": {
            "standoff": 15
           },
           "zerolinecolor": "white",
           "zerolinewidth": 2
          },
          "yaxis": {
           "automargin": true,
           "gridcolor": "white",
           "linecolor": "white",
           "ticks": "",
           "title": {
            "standoff": 15
           },
           "zerolinecolor": "white",
           "zerolinewidth": 2
          }
         }
        }
       }
      },
      "text/html": [
       "<div>                            <div id=\"95b35b77-d955-498e-beb9-c1979a6d8ba7\" class=\"plotly-graph-div\" style=\"height:525px; width:100%;\"></div>            <script type=\"text/javascript\">                require([\"plotly\"], function(Plotly) {                    window.PLOTLYENV=window.PLOTLYENV || {};                                    if (document.getElementById(\"95b35b77-d955-498e-beb9-c1979a6d8ba7\")) {                    Plotly.newPlot(                        \"95b35b77-d955-498e-beb9-c1979a6d8ba7\",                        [{\"hovertemplate\":\"x=%{x}<br>y=%{y}<br>z=%{z}<extra></extra>\",\"legendgroup\":\"\",\"marker\":{\"color\":\"#636efa\",\"symbol\":\"circle\"},\"mode\":\"markers\",\"name\":\"\",\"scene\":\"scene\",\"showlegend\":false,\"x\":[1.8312475828589037,1.9447277453292724,-2.5754821224677897,-1.0116160586405127,-1.2759069146927864,-2.3481635983156988,-1.7406662003173083,-1.7001225102388422,1.422757100962703,2.599495099464531,1.410700897851763,2.8725183573220336,1.88920406319186,3.9391340848971224,2.023915489039627,3.5993925472151878,1.7519574707145047,1.2926834600928414,3.500695298792545,0.4705430972715918,-2.407371259833894,-0.6352771859710602,2.1183316286357385,-0.5169673478190262,3.1212197795806302,3.6616220427570427,0.7856808698380116,-2.0147293819257515,3.22589480394367,3.4654157719582184,3.451675654789976,0.23372040030003527,1.3047932101641733,2.427046915431837,3.4430871540823684,3.6884870419903173,3.043475707089237,-2.771979391696477,1.2365030550028626,3.848660859103436,-0.46229816533164314,1.7948617996486584,-2.637313268571781,0.4350926829617614,-0.1680575637143482,3.6598358340145465,3.706039833751606,3.575581167413408,-1.8282426914356595,3.156087740961463,-0.4532347208915066,0.03824565640923794,-1.7953049412311748,1.8178900142268493,-0.4819137716203272,0.4822738949275136,-0.638741849017153,-1.8070690665229563,0.8107561797700664,-0.6262988584919418,-0.32834820668798814,0.19383221602719258,-1.599147406161204,-0.18056978903250798,3.448504285784817,3.0687277207272547,-0.7928005449850266,-1.7807099382751028,0.5346471752493396,2.38004167475846,-2.1726639895761073,2.667303795420148,2.2191117350002285,2.365582784546853,-2.5099174778735036,3.3871143403426567,0.46600283510409035,2.3303262721130578,-1.3302950908020894,0.8560558167006418,2.168878360647793,2.72977519900763,-1.9842517126583705,0.5389985913358188,-0.20819761725001706,3.087305227056704,2.1542132466058233,-2.3846710354790392,-2.0014050914444903,-2.757998471856239,3.160145527973998,2.905657775176709,3.735793287332351,-2.786388631097286,-0.18435074770430138,2.5252395388189814,-1.3944799096992486,0.35589391817490945,-1.974992762859034,1.8417626679820112],\"y\":[2.758149188317244,1.249439277603126,3.468709005699348,1.1677002217491617,2.3693241527656976,-0.38621869405117204,3.137713725964982,2.3187222903647244,3.4239031354047302,-1.1171971250736865,-1.578388015054741,0.6976739782640506,-2.1147005431228094,1.800210778418415,-0.9829074734313115,1.7525571372955193,0.20247018070458722,-1.8331089393582372,2.934798676706512,3.5054462551553494,0.183091256797824,2.4692408764645224,0.3473591278212025,3.5808908008218934,2.078140040716442,1.053788713609416,0.36696128688088425,1.6161463817513395,-1.696747373109694,-1.4171754081893553,-0.06832427467821489,2.239492454523382,-0.1344938405577074,1.192864520911817,-0.32705274618812563,3.001110892688212,-2.1783089759312455,0.8188807566206884,-1.2760731434172534,-1.6916698851843033,1.4631709938267994,-2.6349264854796908,2.789506909520833,3.6436549436979213,2.891508394074357,-2.229954095260151,3.9895698090150225,-1.6181171424284346,2.5822389489669684,0.2214368968293683,0.5507295780860897,-1.5748111212616558,-1.1174321778275167,-2.582782865046739,1.750149528121356,3.451402178236088,0.903575832461657,-2.4625660399510934,-1.5306354073158213,-1.6091665401063482,1.366869769140834,-1.2592247568217378,1.4828645434491152,2.483353748606973,1.6613114061152512,2.066280471486337,1.4866620982110028,-1.76674211874398,-2.0190601916527733,2.374403899257974,-0.7822583414735531,1.3961435229210144,-0.4825305030747873,-2.4390668268304507,3.863517927767864,2.6249498817129666,3.8211308750158404,0.5271889456289198,3.5381909298590086,-0.8754994688998909,2.7316738713853645,0.2099365259961834,-0.9903176388713484,1.1251881971672955,4.16931022817798,-2.4359839596584028,1.47141043050524,0.23915886368775086,2.4244107325660185,3.715919897741421,-0.7811916686995031,1.313800990308347,1.4878231570393599,4.195682230727559,-1.50501462139332,-0.05222548742233357,2.4130007069330803,2.67061360514096,-2.228948127885457,0.6341349089586452],\"z\":[14.7028175179555,6.1169819554080815,21.811251440777866,5.282577692538293,7.101397198889904,7.489696798196924,15.19939852559078,9.623049334419342,16.280445678564302,10.623763347968056,6.325837785788338,11.175649318591171,8.975502274427413,22.962946145325727,7.496705925283496,20.589910744590387,6.125747860010215,7.777091316919253,25.156140805280717,15.228264703040772,8.797662909706768,8.921090265118648,7.293956285213844,16.37556701267479,18.250218035682735,17.92151724676353,1.1945464935536532,10.168990789789495,16.022921763697738,15.985786001696358,13.575932239343889,7.175349811631872,5.161258814669423,9.83419228093534,14.304001962709611,27.252377471646074,15.335235391557138,9.61847167685703,5.25176146906279,18.622059247641747,4.970052548974551,11.108109519779612,15.164145519493129,16.074528873804894,11.040977960814043,19.574810041627615,33.69044834421566,15.922635466599514,12.443842799671186,12.964910128255074,3.624561677098199,3.474405387775499,6.153121615724048,13.057206978568502,6.094098677916545,12.410485605036417,2.8264680849774084,10.472528407202807,5.527999702054099,5.340993093667917,5.938127764121537,3.830580964966116,7.743522560075802,8.6086567264207,18.96237169004568,16.49573171379547,4.581718514616825,8.693922956787404,6.201033782734296,13.771932249997997,4.962750597003632,11.950883019490677,8.98526169828155,12.355209834825006,22.28622914583016,21.201437494852463,18.08056525652436,9.077054905908268,15.77785351981811,1.8213576975479302,16.54794998476296,12.27792666394592,6.1774138729073655,2.3456633133437332,19.33868591549413,17.445753335184584,9.706880642129326,7.254372886295862,12.171906916925419,21.64503257793158,12.26747414345176,12.308238829655402,20.374889834018052,26.336925914275568,4.243864852651991,7.367619537237066,9.118066192905477,7.5208335150305565,13.567429614858623,5.247198715139745],\"type\":\"scatter3d\"},{\"x\":[-2.786388631097286,-2.0391083293201295,-1.291828027542973,-0.5445477257658164,0.2027325760113401,0.9500128777884966,1.6972931795656532,2.44457348134281,3.1918537831199663,3.9391340848971224],\"y\":[-2.6349264854796908,-1.8759699614566632,-1.1170134374336353,-0.3580569134106075,0.4008996106124201,1.1598561346354477,1.9188126586584757,2.677769182681503,3.436725706704531,4.195682230727559],\"z\":[[14.69535218024066,6.13046417584337,21.793568002129177,5.304272973674072,7.149417927616012,7.486799610906017,15.197439862542522,9.627768231683147,16.313224305902033,10.623038007073772],[6.229207605250847,11.19925220020741,8.976187421136272,22.9905967930481,7.498526288323772,20.591620160394086,6.145137995143157,7.779593182855022,25.156497670464887,15.226004315667522],[10.180530736118667,8.905594995372665,7.294424725823772,16.37691373949565,18.254038049035444,13.101733156448455,1.214887595252618,13.101732525004403,15.518088859840075,13.10185560570614],[13.101732214743341,7.522681458375358,5.162050916009319,10.634444404086251,14.244162555940418,27.362379433714523,15.357367446773422,9.61883230333842,5.310147046209748,13.158634896237412],[5.097416876011264,11.12738289936169,15.781432403378856,16.30146835105188,11.038666514807117,19.575923157983198,33.692679120355024,15.70813441266,11.2962618345876,12.940855123386426],[3.0491939765743137,3.477102948480022,6.204165620390993,13.071905804925334,6.094328595452678,12.619772702627058,2.665842061989677,10.129454023603726,5.550051535845297,5.3393923771909595],[5.829282787406553,3.8271433842710376,7.76587980107797,8.6554724541413,18.973765615571722,16.44616516386668,13.09099032057569,7.662697835021389,6.194333283183367,13.538882379910694],[4.970779435836446,11.948721600823772,8.991666628175151,12.357596112542522,22.476199956738128,21.213412715604363,18.153521174226626,9.06839628344096,15.599308871427636,1.9316735177763231],[16.40763334356564,12.314400845800263,6.213234288799866,2.3578372599230573,19.09597913467951,13.183087013431715,9.434728914533478,7.264700604730022,12.175955487542522,21.645758343987836],[12.944441152863872,13.10093554814219,20.421072675042524,26.203436048121418,4.241018964105022,13.12462926851985,9.013846112542522,7.610757961381941,13.572773693256748,5.2356342172824935]],\"type\":\"surface\"}],                        {\"template\":{\"data\":{\"bar\":[{\"error_x\":{\"color\":\"#2a3f5f\"},\"error_y\":{\"color\":\"#2a3f5f\"},\"marker\":{\"line\":{\"color\":\"#E5ECF6\",\"width\":0.5},\"pattern\":{\"fillmode\":\"overlay\",\"size\":10,\"solidity\":0.2}},\"type\":\"bar\"}],\"barpolar\":[{\"marker\":{\"line\":{\"color\":\"#E5ECF6\",\"width\":0.5},\"pattern\":{\"fillmode\":\"overlay\",\"size\":10,\"solidity\":0.2}},\"type\":\"barpolar\"}],\"carpet\":[{\"aaxis\":{\"endlinecolor\":\"#2a3f5f\",\"gridcolor\":\"white\",\"linecolor\":\"white\",\"minorgridcolor\":\"white\",\"startlinecolor\":\"#2a3f5f\"},\"baxis\":{\"endlinecolor\":\"#2a3f5f\",\"gridcolor\":\"white\",\"linecolor\":\"white\",\"minorgridcolor\":\"white\",\"startlinecolor\":\"#2a3f5f\"},\"type\":\"carpet\"}],\"choropleth\":[{\"colorbar\":{\"outlinewidth\":0,\"ticks\":\"\"},\"type\":\"choropleth\"}],\"contour\":[{\"colorbar\":{\"outlinewidth\":0,\"ticks\":\"\"},\"colorscale\":[[0.0,\"#0d0887\"],[0.1111111111111111,\"#46039f\"],[0.2222222222222222,\"#7201a8\"],[0.3333333333333333,\"#9c179e\"],[0.4444444444444444,\"#bd3786\"],[0.5555555555555556,\"#d8576b\"],[0.6666666666666666,\"#ed7953\"],[0.7777777777777778,\"#fb9f3a\"],[0.8888888888888888,\"#fdca26\"],[1.0,\"#f0f921\"]],\"type\":\"contour\"}],\"contourcarpet\":[{\"colorbar\":{\"outlinewidth\":0,\"ticks\":\"\"},\"type\":\"contourcarpet\"}],\"heatmap\":[{\"colorbar\":{\"outlinewidth\":0,\"ticks\":\"\"},\"colorscale\":[[0.0,\"#0d0887\"],[0.1111111111111111,\"#46039f\"],[0.2222222222222222,\"#7201a8\"],[0.3333333333333333,\"#9c179e\"],[0.4444444444444444,\"#bd3786\"],[0.5555555555555556,\"#d8576b\"],[0.6666666666666666,\"#ed7953\"],[0.7777777777777778,\"#fb9f3a\"],[0.8888888888888888,\"#fdca26\"],[1.0,\"#f0f921\"]],\"type\":\"heatmap\"}],\"heatmapgl\":[{\"colorbar\":{\"outlinewidth\":0,\"ticks\":\"\"},\"colorscale\":[[0.0,\"#0d0887\"],[0.1111111111111111,\"#46039f\"],[0.2222222222222222,\"#7201a8\"],[0.3333333333333333,\"#9c179e\"],[0.4444444444444444,\"#bd3786\"],[0.5555555555555556,\"#d8576b\"],[0.6666666666666666,\"#ed7953\"],[0.7777777777777778,\"#fb9f3a\"],[0.8888888888888888,\"#fdca26\"],[1.0,\"#f0f921\"]],\"type\":\"heatmapgl\"}],\"histogram\":[{\"marker\":{\"pattern\":{\"fillmode\":\"overlay\",\"size\":10,\"solidity\":0.2}},\"type\":\"histogram\"}],\"histogram2d\":[{\"colorbar\":{\"outlinewidth\":0,\"ticks\":\"\"},\"colorscale\":[[0.0,\"#0d0887\"],[0.1111111111111111,\"#46039f\"],[0.2222222222222222,\"#7201a8\"],[0.3333333333333333,\"#9c179e\"],[0.4444444444444444,\"#bd3786\"],[0.5555555555555556,\"#d8576b\"],[0.6666666666666666,\"#ed7953\"],[0.7777777777777778,\"#fb9f3a\"],[0.8888888888888888,\"#fdca26\"],[1.0,\"#f0f921\"]],\"type\":\"histogram2d\"}],\"histogram2dcontour\":[{\"colorbar\":{\"outlinewidth\":0,\"ticks\":\"\"},\"colorscale\":[[0.0,\"#0d0887\"],[0.1111111111111111,\"#46039f\"],[0.2222222222222222,\"#7201a8\"],[0.3333333333333333,\"#9c179e\"],[0.4444444444444444,\"#bd3786\"],[0.5555555555555556,\"#d8576b\"],[0.6666666666666666,\"#ed7953\"],[0.7777777777777778,\"#fb9f3a\"],[0.8888888888888888,\"#fdca26\"],[1.0,\"#f0f921\"]],\"type\":\"histogram2dcontour\"}],\"mesh3d\":[{\"colorbar\":{\"outlinewidth\":0,\"ticks\":\"\"},\"type\":\"mesh3d\"}],\"parcoords\":[{\"line\":{\"colorbar\":{\"outlinewidth\":0,\"ticks\":\"\"}},\"type\":\"parcoords\"}],\"pie\":[{\"automargin\":true,\"type\":\"pie\"}],\"scatter\":[{\"marker\":{\"colorbar\":{\"outlinewidth\":0,\"ticks\":\"\"}},\"type\":\"scatter\"}],\"scatter3d\":[{\"line\":{\"colorbar\":{\"outlinewidth\":0,\"ticks\":\"\"}},\"marker\":{\"colorbar\":{\"outlinewidth\":0,\"ticks\":\"\"}},\"type\":\"scatter3d\"}],\"scattercarpet\":[{\"marker\":{\"colorbar\":{\"outlinewidth\":0,\"ticks\":\"\"}},\"type\":\"scattercarpet\"}],\"scattergeo\":[{\"marker\":{\"colorbar\":{\"outlinewidth\":0,\"ticks\":\"\"}},\"type\":\"scattergeo\"}],\"scattergl\":[{\"marker\":{\"colorbar\":{\"outlinewidth\":0,\"ticks\":\"\"}},\"type\":\"scattergl\"}],\"scattermapbox\":[{\"marker\":{\"colorbar\":{\"outlinewidth\":0,\"ticks\":\"\"}},\"type\":\"scattermapbox\"}],\"scatterpolar\":[{\"marker\":{\"colorbar\":{\"outlinewidth\":0,\"ticks\":\"\"}},\"type\":\"scatterpolar\"}],\"scatterpolargl\":[{\"marker\":{\"colorbar\":{\"outlinewidth\":0,\"ticks\":\"\"}},\"type\":\"scatterpolargl\"}],\"scatterternary\":[{\"marker\":{\"colorbar\":{\"outlinewidth\":0,\"ticks\":\"\"}},\"type\":\"scatterternary\"}],\"surface\":[{\"colorbar\":{\"outlinewidth\":0,\"ticks\":\"\"},\"colorscale\":[[0.0,\"#0d0887\"],[0.1111111111111111,\"#46039f\"],[0.2222222222222222,\"#7201a8\"],[0.3333333333333333,\"#9c179e\"],[0.4444444444444444,\"#bd3786\"],[0.5555555555555556,\"#d8576b\"],[0.6666666666666666,\"#ed7953\"],[0.7777777777777778,\"#fb9f3a\"],[0.8888888888888888,\"#fdca26\"],[1.0,\"#f0f921\"]],\"type\":\"surface\"}],\"table\":[{\"cells\":{\"fill\":{\"color\":\"#EBF0F8\"},\"line\":{\"color\":\"white\"}},\"header\":{\"fill\":{\"color\":\"#C8D4E3\"},\"line\":{\"color\":\"white\"}},\"type\":\"table\"}]},\"layout\":{\"annotationdefaults\":{\"arrowcolor\":\"#2a3f5f\",\"arrowhead\":0,\"arrowwidth\":1},\"autotypenumbers\":\"strict\",\"coloraxis\":{\"colorbar\":{\"outlinewidth\":0,\"ticks\":\"\"}},\"colorscale\":{\"diverging\":[[0,\"#8e0152\"],[0.1,\"#c51b7d\"],[0.2,\"#de77ae\"],[0.3,\"#f1b6da\"],[0.4,\"#fde0ef\"],[0.5,\"#f7f7f7\"],[0.6,\"#e6f5d0\"],[0.7,\"#b8e186\"],[0.8,\"#7fbc41\"],[0.9,\"#4d9221\"],[1,\"#276419\"]],\"sequential\":[[0.0,\"#0d0887\"],[0.1111111111111111,\"#46039f\"],[0.2222222222222222,\"#7201a8\"],[0.3333333333333333,\"#9c179e\"],[0.4444444444444444,\"#bd3786\"],[0.5555555555555556,\"#d8576b\"],[0.6666666666666666,\"#ed7953\"],[0.7777777777777778,\"#fb9f3a\"],[0.8888888888888888,\"#fdca26\"],[1.0,\"#f0f921\"]],\"sequentialminus\":[[0.0,\"#0d0887\"],[0.1111111111111111,\"#46039f\"],[0.2222222222222222,\"#7201a8\"],[0.3333333333333333,\"#9c179e\"],[0.4444444444444444,\"#bd3786\"],[0.5555555555555556,\"#d8576b\"],[0.6666666666666666,\"#ed7953\"],[0.7777777777777778,\"#fb9f3a\"],[0.8888888888888888,\"#fdca26\"],[1.0,\"#f0f921\"]]},\"colorway\":[\"#636efa\",\"#EF553B\",\"#00cc96\",\"#ab63fa\",\"#FFA15A\",\"#19d3f3\",\"#FF6692\",\"#B6E880\",\"#FF97FF\",\"#FECB52\"],\"font\":{\"color\":\"#2a3f5f\"},\"geo\":{\"bgcolor\":\"white\",\"lakecolor\":\"white\",\"landcolor\":\"#E5ECF6\",\"showlakes\":true,\"showland\":true,\"subunitcolor\":\"white\"},\"hoverlabel\":{\"align\":\"left\"},\"hovermode\":\"closest\",\"mapbox\":{\"style\":\"light\"},\"paper_bgcolor\":\"white\",\"plot_bgcolor\":\"#E5ECF6\",\"polar\":{\"angularaxis\":{\"gridcolor\":\"white\",\"linecolor\":\"white\",\"ticks\":\"\"},\"bgcolor\":\"#E5ECF6\",\"radialaxis\":{\"gridcolor\":\"white\",\"linecolor\":\"white\",\"ticks\":\"\"}},\"scene\":{\"xaxis\":{\"backgroundcolor\":\"#E5ECF6\",\"gridcolor\":\"white\",\"gridwidth\":2,\"linecolor\":\"white\",\"showbackground\":true,\"ticks\":\"\",\"zerolinecolor\":\"white\"},\"yaxis\":{\"backgroundcolor\":\"#E5ECF6\",\"gridcolor\":\"white\",\"gridwidth\":2,\"linecolor\":\"white\",\"showbackground\":true,\"ticks\":\"\",\"zerolinecolor\":\"white\"},\"zaxis\":{\"backgroundcolor\":\"#E5ECF6\",\"gridcolor\":\"white\",\"gridwidth\":2,\"linecolor\":\"white\",\"showbackground\":true,\"ticks\":\"\",\"zerolinecolor\":\"white\"}},\"shapedefaults\":{\"line\":{\"color\":\"#2a3f5f\"}},\"ternary\":{\"aaxis\":{\"gridcolor\":\"white\",\"linecolor\":\"white\",\"ticks\":\"\"},\"baxis\":{\"gridcolor\":\"white\",\"linecolor\":\"white\",\"ticks\":\"\"},\"bgcolor\":\"#E5ECF6\",\"caxis\":{\"gridcolor\":\"white\",\"linecolor\":\"white\",\"ticks\":\"\"}},\"title\":{\"x\":0.05},\"xaxis\":{\"automargin\":true,\"gridcolor\":\"white\",\"linecolor\":\"white\",\"ticks\":\"\",\"title\":{\"standoff\":15},\"zerolinecolor\":\"white\",\"zerolinewidth\":2},\"yaxis\":{\"automargin\":true,\"gridcolor\":\"white\",\"linecolor\":\"white\",\"ticks\":\"\",\"title\":{\"standoff\":15},\"zerolinecolor\":\"white\",\"zerolinewidth\":2}}},\"scene\":{\"domain\":{\"x\":[0.0,1.0],\"y\":[0.0,1.0]},\"xaxis\":{\"title\":{\"text\":\"x\"}},\"yaxis\":{\"title\":{\"text\":\"y\"}},\"zaxis\":{\"title\":{\"text\":\"z\"},\"range\":[0,35]}},\"legend\":{\"tracegroupgap\":0},\"margin\":{\"t\":60}},                        {\"responsive\": true}                    ).then(function(){\n",
       "                            \n",
       "var gd = document.getElementById('95b35b77-d955-498e-beb9-c1979a6d8ba7');\n",
       "var x = new MutationObserver(function (mutations, observer) {{\n",
       "        var display = window.getComputedStyle(gd).display;\n",
       "        if (!display || display === 'none') {{\n",
       "            console.log([gd, 'removed!']);\n",
       "            Plotly.purge(gd);\n",
       "            observer.disconnect();\n",
       "        }}\n",
       "}});\n",
       "\n",
       "// Listen for the removal of the full notebook cells\n",
       "var notebookContainer = gd.closest('#notebook-container');\n",
       "if (notebookContainer) {{\n",
       "    x.observe(notebookContainer, {childList: true});\n",
       "}}\n",
       "\n",
       "// Listen for the clearing of the current output cell\n",
       "var outputEl = gd.closest('.output');\n",
       "if (outputEl) {{\n",
       "    x.observe(outputEl, {childList: true});\n",
       "}}\n",
       "\n",
       "                        })                };                });            </script>        </div>"
      ]
     },
     "metadata": {},
     "output_type": "display_data"
    }
   ],
   "source": [
    "fig = px.scatter_3d(x=x.ravel(), y=y.ravel(), z=z.ravel())\n",
    "\n",
    "fig.add_trace(go.Surface(x = x_input, y = y_input, z =z_final))\n",
    "\n",
    "fig.update_layout(scene = dict(zaxis = dict(range=[0,35])))\n",
    "\n",
    "fig.show()"
   ]
  },
  {
   "cell_type": "code",
   "execution_count": null,
   "id": "150dfe8d",
   "metadata": {},
   "outputs": [],
   "source": []
  },
  {
   "cell_type": "code",
   "execution_count": null,
   "id": "b72580f1",
   "metadata": {},
   "outputs": [],
   "source": []
  },
  {
   "cell_type": "code",
   "execution_count": null,
   "id": "3cf97732",
   "metadata": {},
   "outputs": [],
   "source": []
  },
  {
   "cell_type": "code",
   "execution_count": null,
   "id": "b5470165",
   "metadata": {},
   "outputs": [],
   "source": []
  },
  {
   "cell_type": "code",
   "execution_count": null,
   "id": "bd69f59a",
   "metadata": {},
   "outputs": [],
   "source": []
  },
  {
   "cell_type": "code",
   "execution_count": null,
   "id": "84bc9671",
   "metadata": {},
   "outputs": [],
   "source": []
  },
  {
   "cell_type": "code",
   "execution_count": null,
   "id": "067ea84a",
   "metadata": {},
   "outputs": [],
   "source": []
  },
  {
   "cell_type": "code",
   "execution_count": null,
   "id": "b7491a1b",
   "metadata": {},
   "outputs": [],
   "source": []
  },
  {
   "cell_type": "code",
   "execution_count": null,
   "id": "01c114a1",
   "metadata": {},
   "outputs": [],
   "source": []
  },
  {
   "cell_type": "code",
   "execution_count": null,
   "id": "af2bd0a4",
   "metadata": {},
   "outputs": [],
   "source": []
  },
  {
   "cell_type": "code",
   "execution_count": null,
   "id": "7d05c3ae",
   "metadata": {},
   "outputs": [],
   "source": []
  },
  {
   "cell_type": "code",
   "execution_count": null,
   "id": "40c86cae",
   "metadata": {},
   "outputs": [],
   "source": []
  },
  {
   "cell_type": "code",
   "execution_count": null,
   "id": "f8122a77",
   "metadata": {},
   "outputs": [],
   "source": []
  },
  {
   "cell_type": "code",
   "execution_count": null,
   "id": "fff97081",
   "metadata": {},
   "outputs": [],
   "source": []
  }
 ],
 "metadata": {
  "kernelspec": {
   "display_name": "Python 3 (ipykernel)",
   "language": "python",
   "name": "python3"
  },
  "language_info": {
   "codemirror_mode": {
    "name": "ipython",
    "version": 3
   },
   "file_extension": ".py",
   "mimetype": "text/x-python",
   "name": "python",
   "nbconvert_exporter": "python",
   "pygments_lexer": "ipython3",
   "version": "3.9.12"
  }
 },
 "nbformat": 4,
 "nbformat_minor": 5
}
