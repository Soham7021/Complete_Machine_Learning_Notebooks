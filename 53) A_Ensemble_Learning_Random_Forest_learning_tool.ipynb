{
 "cells": [
  {
   "cell_type": "code",
   "execution_count": 9,
   "id": "ca539dd4",
   "metadata": {},
   "outputs": [],
   "source": [
    "import numpy as np\n",
    "import pandas as pd\n",
    "from sklearn.datasets import make_classification"
   ]
  },
  {
   "cell_type": "code",
   "execution_count": 10,
   "id": "522654ed",
   "metadata": {},
   "outputs": [],
   "source": [
    "X,y = make_classification(n_features=5, n_redundant=0, n_informative=5,n_clusters_per_class=1)\n"
   ]
  },
  {
   "cell_type": "code",
   "execution_count": 11,
   "id": "8f0a286c",
   "metadata": {},
   "outputs": [
    {
     "name": "stdout",
     "output_type": "stream",
     "text": [
      "(100, 6)\n"
     ]
    },
    {
     "data": {
      "text/html": [
       "<div>\n",
       "<style scoped>\n",
       "    .dataframe tbody tr th:only-of-type {\n",
       "        vertical-align: middle;\n",
       "    }\n",
       "\n",
       "    .dataframe tbody tr th {\n",
       "        vertical-align: top;\n",
       "    }\n",
       "\n",
       "    .dataframe thead th {\n",
       "        text-align: right;\n",
       "    }\n",
       "</style>\n",
       "<table border=\"1\" class=\"dataframe\">\n",
       "  <thead>\n",
       "    <tr style=\"text-align: right;\">\n",
       "      <th></th>\n",
       "      <th>col1</th>\n",
       "      <th>col2</th>\n",
       "      <th>col3</th>\n",
       "      <th>col4</th>\n",
       "      <th>col5</th>\n",
       "      <th>target</th>\n",
       "    </tr>\n",
       "  </thead>\n",
       "  <tbody>\n",
       "    <tr>\n",
       "      <th>0</th>\n",
       "      <td>2.045216</td>\n",
       "      <td>0.216300</td>\n",
       "      <td>1.882881</td>\n",
       "      <td>-2.795853</td>\n",
       "      <td>0.576910</td>\n",
       "      <td>1</td>\n",
       "    </tr>\n",
       "    <tr>\n",
       "      <th>1</th>\n",
       "      <td>0.428142</td>\n",
       "      <td>-0.596437</td>\n",
       "      <td>2.812943</td>\n",
       "      <td>0.672924</td>\n",
       "      <td>0.626665</td>\n",
       "      <td>0</td>\n",
       "    </tr>\n",
       "    <tr>\n",
       "      <th>2</th>\n",
       "      <td>2.067882</td>\n",
       "      <td>0.701059</td>\n",
       "      <td>1.661038</td>\n",
       "      <td>-2.011913</td>\n",
       "      <td>0.451560</td>\n",
       "      <td>1</td>\n",
       "    </tr>\n",
       "    <tr>\n",
       "      <th>3</th>\n",
       "      <td>2.940654</td>\n",
       "      <td>1.352283</td>\n",
       "      <td>-0.544053</td>\n",
       "      <td>-1.925479</td>\n",
       "      <td>-1.874682</td>\n",
       "      <td>1</td>\n",
       "    </tr>\n",
       "    <tr>\n",
       "      <th>4</th>\n",
       "      <td>-0.433616</td>\n",
       "      <td>-0.160023</td>\n",
       "      <td>2.130204</td>\n",
       "      <td>-1.160154</td>\n",
       "      <td>-1.338647</td>\n",
       "      <td>0</td>\n",
       "    </tr>\n",
       "  </tbody>\n",
       "</table>\n",
       "</div>"
      ],
      "text/plain": [
       "       col1      col2      col3      col4      col5  target\n",
       "0  2.045216  0.216300  1.882881 -2.795853  0.576910       1\n",
       "1  0.428142 -0.596437  2.812943  0.672924  0.626665       0\n",
       "2  2.067882  0.701059  1.661038 -2.011913  0.451560       1\n",
       "3  2.940654  1.352283 -0.544053 -1.925479 -1.874682       1\n",
       "4 -0.433616 -0.160023  2.130204 -1.160154 -1.338647       0"
      ]
     },
     "execution_count": 11,
     "metadata": {},
     "output_type": "execute_result"
    }
   ],
   "source": [
    "df = pd.DataFrame(X,columns=['col1','col2','col3','col4','col5'])\n",
    "df['target'] = y\n",
    "print(df.shape)\n",
    "df.head()"
   ]
  },
  {
   "cell_type": "code",
   "execution_count": 12,
   "id": "f4552990",
   "metadata": {},
   "outputs": [],
   "source": [
    "# function for row sampling\n",
    "\n",
    "def sample_rows(df,percent):\n",
    "  return df.sample(int(percent*df.shape[0]),replace=True)"
   ]
  },
  {
   "cell_type": "code",
   "execution_count": 13,
   "id": "b1ae0c25",
   "metadata": {},
   "outputs": [],
   "source": [
    "# function for feature sampling\n",
    "def sample_features(df,percent):\n",
    "  cols = random.sample(df.columns.tolist()[:-1],int(percent*(df.shape[1]-1)))\n",
    "  new_df = df[cols]\n",
    "  new_df['target'] = df['target']\n",
    "  return new_df"
   ]
  },
  {
   "cell_type": "code",
   "execution_count": 14,
   "id": "4bee6115",
   "metadata": {},
   "outputs": [],
   "source": [
    "# function for combined sampling\n",
    "\n",
    "def combined_sampling(df,row_percent,col_percent):\n",
    "  new_df = sample_rows(df,row_percent)\n",
    "  return sample_features(new_df,col_percent)"
   ]
  },
  {
   "cell_type": "code",
   "execution_count": 18,
   "id": "45c146a5",
   "metadata": {},
   "outputs": [],
   "source": [
    "df1 = sample_rows(df,0.1)"
   ]
  },
  {
   "cell_type": "code",
   "execution_count": 19,
   "id": "5e572532",
   "metadata": {},
   "outputs": [],
   "source": [
    "df2 = sample_rows(df,0.1)"
   ]
  },
  {
   "cell_type": "code",
   "execution_count": 20,
   "id": "c7dbf4b8",
   "metadata": {},
   "outputs": [],
   "source": [
    "df3 = sample_rows(df,0.1)\n"
   ]
  },
  {
   "cell_type": "code",
   "execution_count": 21,
   "id": "c8eea1a4",
   "metadata": {},
   "outputs": [
    {
     "ename": "SyntaxError",
     "evalue": "unexpected EOF while parsing (4158469493.py, line 3)",
     "output_type": "error",
     "traceback": [
      "\u001b[1;36m  Input \u001b[1;32mIn [21]\u001b[1;36m\u001b[0m\n\u001b[1;33m    print(df3.columns\u001b[0m\n\u001b[1;37m                     ^\u001b[0m\n\u001b[1;31mSyntaxError\u001b[0m\u001b[1;31m:\u001b[0m unexpected EOF while parsing\n"
     ]
    }
   ],
   "source": [
    "print(df1.columns)\n",
    "print(df2.columns)\n",
    "print(df3.columns"
   ]
  },
  {
   "cell_type": "code",
   "execution_count": 22,
   "id": "fcce286a",
   "metadata": {},
   "outputs": [
    {
     "data": {
      "text/html": [
       "<div>\n",
       "<style scoped>\n",
       "    .dataframe tbody tr th:only-of-type {\n",
       "        vertical-align: middle;\n",
       "    }\n",
       "\n",
       "    .dataframe tbody tr th {\n",
       "        vertical-align: top;\n",
       "    }\n",
       "\n",
       "    .dataframe thead th {\n",
       "        text-align: right;\n",
       "    }\n",
       "</style>\n",
       "<table border=\"1\" class=\"dataframe\">\n",
       "  <thead>\n",
       "    <tr style=\"text-align: right;\">\n",
       "      <th></th>\n",
       "      <th>col1</th>\n",
       "      <th>col2</th>\n",
       "      <th>col3</th>\n",
       "      <th>col4</th>\n",
       "      <th>col5</th>\n",
       "      <th>target</th>\n",
       "    </tr>\n",
       "  </thead>\n",
       "  <tbody>\n",
       "    <tr>\n",
       "      <th>16</th>\n",
       "      <td>-2.136596</td>\n",
       "      <td>1.184758</td>\n",
       "      <td>1.543969</td>\n",
       "      <td>2.342951</td>\n",
       "      <td>-1.260383</td>\n",
       "      <td>1</td>\n",
       "    </tr>\n",
       "    <tr>\n",
       "      <th>53</th>\n",
       "      <td>-1.482058</td>\n",
       "      <td>0.316087</td>\n",
       "      <td>1.693943</td>\n",
       "      <td>-0.057765</td>\n",
       "      <td>0.852329</td>\n",
       "      <td>0</td>\n",
       "    </tr>\n",
       "    <tr>\n",
       "      <th>99</th>\n",
       "      <td>-1.477376</td>\n",
       "      <td>-1.080191</td>\n",
       "      <td>0.728651</td>\n",
       "      <td>0.836905</td>\n",
       "      <td>0.843927</td>\n",
       "      <td>0</td>\n",
       "    </tr>\n",
       "    <tr>\n",
       "      <th>63</th>\n",
       "      <td>1.558502</td>\n",
       "      <td>0.065365</td>\n",
       "      <td>1.782425</td>\n",
       "      <td>-1.961338</td>\n",
       "      <td>0.916807</td>\n",
       "      <td>1</td>\n",
       "    </tr>\n",
       "    <tr>\n",
       "      <th>56</th>\n",
       "      <td>0.383524</td>\n",
       "      <td>1.426847</td>\n",
       "      <td>0.409389</td>\n",
       "      <td>0.704746</td>\n",
       "      <td>-1.511735</td>\n",
       "      <td>1</td>\n",
       "    </tr>\n",
       "    <tr>\n",
       "      <th>97</th>\n",
       "      <td>-0.857945</td>\n",
       "      <td>0.563459</td>\n",
       "      <td>2.785666</td>\n",
       "      <td>-1.624165</td>\n",
       "      <td>-1.293303</td>\n",
       "      <td>0</td>\n",
       "    </tr>\n",
       "    <tr>\n",
       "      <th>46</th>\n",
       "      <td>1.668941</td>\n",
       "      <td>0.783251</td>\n",
       "      <td>1.335761</td>\n",
       "      <td>-2.829054</td>\n",
       "      <td>-1.225828</td>\n",
       "      <td>1</td>\n",
       "    </tr>\n",
       "    <tr>\n",
       "      <th>54</th>\n",
       "      <td>1.084334</td>\n",
       "      <td>1.206324</td>\n",
       "      <td>0.189852</td>\n",
       "      <td>0.322469</td>\n",
       "      <td>-0.926191</td>\n",
       "      <td>1</td>\n",
       "    </tr>\n",
       "    <tr>\n",
       "      <th>95</th>\n",
       "      <td>1.785124</td>\n",
       "      <td>0.521340</td>\n",
       "      <td>1.222556</td>\n",
       "      <td>-1.276698</td>\n",
       "      <td>0.389434</td>\n",
       "      <td>1</td>\n",
       "    </tr>\n",
       "    <tr>\n",
       "      <th>97</th>\n",
       "      <td>-0.857945</td>\n",
       "      <td>0.563459</td>\n",
       "      <td>2.785666</td>\n",
       "      <td>-1.624165</td>\n",
       "      <td>-1.293303</td>\n",
       "      <td>0</td>\n",
       "    </tr>\n",
       "  </tbody>\n",
       "</table>\n",
       "</div>"
      ],
      "text/plain": [
       "        col1      col2      col3      col4      col5  target\n",
       "16 -2.136596  1.184758  1.543969  2.342951 -1.260383       1\n",
       "53 -1.482058  0.316087  1.693943 -0.057765  0.852329       0\n",
       "99 -1.477376 -1.080191  0.728651  0.836905  0.843927       0\n",
       "63  1.558502  0.065365  1.782425 -1.961338  0.916807       1\n",
       "56  0.383524  1.426847  0.409389  0.704746 -1.511735       1\n",
       "97 -0.857945  0.563459  2.785666 -1.624165 -1.293303       0\n",
       "46  1.668941  0.783251  1.335761 -2.829054 -1.225828       1\n",
       "54  1.084334  1.206324  0.189852  0.322469 -0.926191       1\n",
       "95  1.785124  0.521340  1.222556 -1.276698  0.389434       1\n",
       "97 -0.857945  0.563459  2.785666 -1.624165 -1.293303       0"
      ]
     },
     "execution_count": 22,
     "metadata": {},
     "output_type": "execute_result"
    }
   ],
   "source": [
    "df3\n"
   ]
  },
  {
   "cell_type": "code",
   "execution_count": 23,
   "id": "caa0dd67",
   "metadata": {},
   "outputs": [],
   "source": [
    "from sklearn.tree import DecisionTreeClassifier\n",
    "clf1 = DecisionTreeClassifier()\n",
    "clf2 = DecisionTreeClassifier()\n",
    "clf3 = DecisionTreeClassifier()"
   ]
  },
  {
   "cell_type": "code",
   "execution_count": 34,
   "id": "c332c733",
   "metadata": {},
   "outputs": [
    {
     "data": {
      "text/plain": [
       "DecisionTreeClassifier()"
      ]
     },
     "execution_count": 34,
     "metadata": {},
     "output_type": "execute_result"
    }
   ],
   "source": [
    "clf1.fit(df1.iloc[:,0:5],df1.iloc[:,-1])\n",
    "clf2.fit(df2.iloc[:,0:5],df2.iloc[:,-1])\n",
    "clf3.fit(df3.iloc[:,0:5],df3.iloc[:,-1])"
   ]
  },
  {
   "cell_type": "code",
   "execution_count": 35,
   "id": "e6305452",
   "metadata": {},
   "outputs": [],
   "source": [
    "from sklearn.tree import plot_tree"
   ]
  },
  {
   "cell_type": "code",
   "execution_count": 36,
   "id": "b618ac10",
   "metadata": {},
   "outputs": [
    {
     "data": {
      "text/plain": [
       "[Text(0.5, 0.75, 'X[3] <= 0.346\\ngini = 0.42\\nsamples = 10\\nvalue = [3, 7]'),\n",
       " Text(0.25, 0.25, 'gini = 0.0\\nsamples = 7\\nvalue = [0, 7]'),\n",
       " Text(0.75, 0.25, 'gini = 0.0\\nsamples = 3\\nvalue = [3, 0]')]"
      ]
     },
     "execution_count": 36,
     "metadata": {},
     "output_type": "execute_result"
    },
    {
     "data": {
      "image/png": "[encoded data removed]",
      "text/plain": [
       "<Figure size 432x288 with 1 Axes>"
      ]
     },
     "metadata": {
      "needs_background": "light"
     },
     "output_type": "display_data"
    }
   ],
   "source": [
    "plot_tree(clf1)"
   ]
  },
  {
   "cell_type": "code",
   "execution_count": 37,
   "id": "dbf256c6",
   "metadata": {},
   "outputs": [
    {
     "data": {
      "text/plain": [
       "[Text(0.6, 0.8333333333333334, 'X[0] <= 0.993\\ngini = 0.48\\nsamples = 10\\nvalue = [4, 6]'),\n",
       " Text(0.4, 0.5, 'X[1] <= 1.72\\ngini = 0.32\\nsamples = 5\\nvalue = [4, 1]'),\n",
       " Text(0.2, 0.16666666666666666, 'gini = 0.0\\nsamples = 4\\nvalue = [4, 0]'),\n",
       " Text(0.6, 0.16666666666666666, 'gini = 0.0\\nsamples = 1\\nvalue = [0, 1]'),\n",
       " Text(0.8, 0.5, 'gini = 0.0\\nsamples = 5\\nvalue = [0, 5]')]"
      ]
     },
     "execution_count": 37,
     "metadata": {},
     "output_type": "execute_result"
    },
    {
     "data": {
      "image/png": "[encoded data removed]",
      "text/plain": [
       "<Figure size 432x288 with 1 Axes>"
      ]
     },
     "metadata": {
      "needs_background": "light"
     },
     "output_type": "display_data"
    }
   ],
   "source": [
    "plot_tree(clf2)\n"
   ]
  },
  {
   "cell_type": "code",
   "execution_count": 38,
   "id": "d21cc70a",
   "metadata": {},
   "outputs": [
    {
     "data": {
      "text/plain": [
       "[Text(0.6, 0.8333333333333334, 'X[0] <= -0.237\\ngini = 0.48\\nsamples = 10\\nvalue = [4, 6]'),\n",
       " Text(0.4, 0.5, 'X[0] <= -1.809\\ngini = 0.32\\nsamples = 5\\nvalue = [4, 1]'),\n",
       " Text(0.2, 0.16666666666666666, 'gini = 0.0\\nsamples = 1\\nvalue = [0, 1]'),\n",
       " Text(0.6, 0.16666666666666666, 'gini = 0.0\\nsamples = 4\\nvalue = [4, 0]'),\n",
       " Text(0.8, 0.5, 'gini = 0.0\\nsamples = 5\\nvalue = [0, 5]')]"
      ]
     },
     "execution_count": 38,
     "metadata": {},
     "output_type": "execute_result"
    },
    {
     "data": {
      "image/png": "[encoded data removed]",
      "text/plain": [
       "<Figure size 432x288 with 1 Axes>"
      ]
     },
     "metadata": {
      "needs_background": "light"
     },
     "output_type": "display_data"
    }
   ],
   "source": [
    "plot_tree(clf3)\n"
   ]
  },
  {
   "cell_type": "code",
   "execution_count": 40,
   "id": "0fcce87f",
   "metadata": {},
   "outputs": [
    {
     "name": "stderr",
     "output_type": "stream",
     "text": [
      "C:\\Users\\soham\\anaconda3\\lib\\site-packages\\sklearn\\base.py:450: UserWarning: X does not have valid feature names, but DecisionTreeClassifier was fitted with feature names\n",
      "  warnings.warn(\n"
     ]
    },
    {
     "data": {
      "text/plain": [
       "array([0])"
      ]
     },
     "execution_count": 40,
     "metadata": {},
     "output_type": "execute_result"
    }
   ],
   "source": [
    "clf1.predict(np.array([-2.136596,1.184758,1.543969,2.342951,-1.260383]).reshape(1,5))\n"
   ]
  },
  {
   "cell_type": "code",
   "execution_count": 41,
   "id": "11a80ef8",
   "metadata": {},
   "outputs": [
    {
     "name": "stderr",
     "output_type": "stream",
     "text": [
      "C:\\Users\\soham\\anaconda3\\lib\\site-packages\\sklearn\\base.py:450: UserWarning: X does not have valid feature names, but DecisionTreeClassifier was fitted with feature names\n",
      "  warnings.warn(\n"
     ]
    },
    {
     "data": {
      "text/plain": [
       "array([0])"
      ]
     },
     "execution_count": 41,
     "metadata": {},
     "output_type": "execute_result"
    }
   ],
   "source": [
    "clf2.predict(np.array([-2.136596,1.184758,1.543969,2.342951,-1.260383]).reshape(1,5))\n"
   ]
  },
  {
   "cell_type": "code",
   "execution_count": 42,
   "id": "664a6dca",
   "metadata": {},
   "outputs": [
    {
     "name": "stderr",
     "output_type": "stream",
     "text": [
      "C:\\Users\\soham\\anaconda3\\lib\\site-packages\\sklearn\\base.py:450: UserWarning: X does not have valid feature names, but DecisionTreeClassifier was fitted with feature names\n",
      "  warnings.warn(\n"
     ]
    },
    {
     "data": {
      "text/plain": [
       "array([1])"
      ]
     },
     "execution_count": 42,
     "metadata": {},
     "output_type": "execute_result"
    }
   ],
   "source": [
    "clf3.predict(np.array([-2.136596,1.184758,1.543969,2.342951,-1.260383]).reshape(1,5))\n"
   ]
  },
  {
   "cell_type": "code",
   "execution_count": 43,
   "id": "70bad0c7",
   "metadata": {},
   "outputs": [
    {
     "data": {
      "text/html": [
       "<div>\n",
       "<style scoped>\n",
       "    .dataframe tbody tr th:only-of-type {\n",
       "        vertical-align: middle;\n",
       "    }\n",
       "\n",
       "    .dataframe tbody tr th {\n",
       "        vertical-align: top;\n",
       "    }\n",
       "\n",
       "    .dataframe thead th {\n",
       "        text-align: right;\n",
       "    }\n",
       "</style>\n",
       "<table border=\"1\" class=\"dataframe\">\n",
       "  <thead>\n",
       "    <tr style=\"text-align: right;\">\n",
       "      <th></th>\n",
       "      <th>col1</th>\n",
       "      <th>col2</th>\n",
       "      <th>col3</th>\n",
       "      <th>col4</th>\n",
       "      <th>col5</th>\n",
       "      <th>target</th>\n",
       "    </tr>\n",
       "  </thead>\n",
       "  <tbody>\n",
       "    <tr>\n",
       "      <th>87</th>\n",
       "      <td>-0.464522</td>\n",
       "      <td>-0.833474</td>\n",
       "      <td>1.026819</td>\n",
       "      <td>1.097755</td>\n",
       "      <td>1.217328</td>\n",
       "      <td>0</td>\n",
       "    </tr>\n",
       "    <tr>\n",
       "      <th>4</th>\n",
       "      <td>-0.433616</td>\n",
       "      <td>-0.160023</td>\n",
       "      <td>2.130204</td>\n",
       "      <td>-1.160154</td>\n",
       "      <td>-1.338647</td>\n",
       "      <td>0</td>\n",
       "    </tr>\n",
       "    <tr>\n",
       "      <th>44</th>\n",
       "      <td>2.280477</td>\n",
       "      <td>2.036746</td>\n",
       "      <td>1.100895</td>\n",
       "      <td>-1.471266</td>\n",
       "      <td>-0.923289</td>\n",
       "      <td>1</td>\n",
       "    </tr>\n",
       "    <tr>\n",
       "      <th>31</th>\n",
       "      <td>-1.690437</td>\n",
       "      <td>-1.832413</td>\n",
       "      <td>-0.997391</td>\n",
       "      <td>3.329198</td>\n",
       "      <td>3.720966</td>\n",
       "      <td>0</td>\n",
       "    </tr>\n",
       "    <tr>\n",
       "      <th>84</th>\n",
       "      <td>1.806607</td>\n",
       "      <td>1.404477</td>\n",
       "      <td>-0.350077</td>\n",
       "      <td>0.879529</td>\n",
       "      <td>-0.449431</td>\n",
       "      <td>1</td>\n",
       "    </tr>\n",
       "    <tr>\n",
       "      <th>45</th>\n",
       "      <td>-1.407289</td>\n",
       "      <td>-0.448871</td>\n",
       "      <td>0.963358</td>\n",
       "      <td>1.302919</td>\n",
       "      <td>2.109553</td>\n",
       "      <td>0</td>\n",
       "    </tr>\n",
       "    <tr>\n",
       "      <th>60</th>\n",
       "      <td>-1.372086</td>\n",
       "      <td>-0.204019</td>\n",
       "      <td>1.662847</td>\n",
       "      <td>-0.540619</td>\n",
       "      <td>-0.437163</td>\n",
       "      <td>0</td>\n",
       "    </tr>\n",
       "    <tr>\n",
       "      <th>20</th>\n",
       "      <td>-0.046716</td>\n",
       "      <td>0.020633</td>\n",
       "      <td>2.615636</td>\n",
       "      <td>-0.493522</td>\n",
       "      <td>-0.388271</td>\n",
       "      <td>0</td>\n",
       "    </tr>\n",
       "    <tr>\n",
       "      <th>10</th>\n",
       "      <td>-1.943210</td>\n",
       "      <td>-2.059649</td>\n",
       "      <td>-0.588276</td>\n",
       "      <td>2.920631</td>\n",
       "      <td>2.810425</td>\n",
       "      <td>0</td>\n",
       "    </tr>\n",
       "    <tr>\n",
       "      <th>10</th>\n",
       "      <td>-1.943210</td>\n",
       "      <td>-2.059649</td>\n",
       "      <td>-0.588276</td>\n",
       "      <td>2.920631</td>\n",
       "      <td>2.810425</td>\n",
       "      <td>0</td>\n",
       "    </tr>\n",
       "    <tr>\n",
       "      <th>5</th>\n",
       "      <td>0.171276</td>\n",
       "      <td>-1.575329</td>\n",
       "      <td>1.675407</td>\n",
       "      <td>1.000060</td>\n",
       "      <td>0.409187</td>\n",
       "      <td>0</td>\n",
       "    </tr>\n",
       "    <tr>\n",
       "      <th>84</th>\n",
       "      <td>1.806607</td>\n",
       "      <td>1.404477</td>\n",
       "      <td>-0.350077</td>\n",
       "      <td>0.879529</td>\n",
       "      <td>-0.449431</td>\n",
       "      <td>1</td>\n",
       "    </tr>\n",
       "    <tr>\n",
       "      <th>56</th>\n",
       "      <td>0.383524</td>\n",
       "      <td>1.426847</td>\n",
       "      <td>0.409389</td>\n",
       "      <td>0.704746</td>\n",
       "      <td>-1.511735</td>\n",
       "      <td>1</td>\n",
       "    </tr>\n",
       "    <tr>\n",
       "      <th>47</th>\n",
       "      <td>0.154537</td>\n",
       "      <td>3.200316</td>\n",
       "      <td>1.107416</td>\n",
       "      <td>1.564045</td>\n",
       "      <td>-1.721448</td>\n",
       "      <td>1</td>\n",
       "    </tr>\n",
       "  </tbody>\n",
       "</table>\n",
       "</div>"
      ],
      "text/plain": [
       "        col1      col2      col3      col4      col5  target\n",
       "87 -0.464522 -0.833474  1.026819  1.097755  1.217328       0\n",
       "4  -0.433616 -0.160023  2.130204 -1.160154 -1.338647       0\n",
       "44  2.280477  2.036746  1.100895 -1.471266 -0.923289       1\n",
       "31 -1.690437 -1.832413 -0.997391  3.329198  3.720966       0\n",
       "84  1.806607  1.404477 -0.350077  0.879529 -0.449431       1\n",
       "45 -1.407289 -0.448871  0.963358  1.302919  2.109553       0\n",
       "60 -1.372086 -0.204019  1.662847 -0.540619 -0.437163       0\n",
       "20 -0.046716  0.020633  2.615636 -0.493522 -0.388271       0\n",
       "10 -1.943210 -2.059649 -0.588276  2.920631  2.810425       0\n",
       "10 -1.943210 -2.059649 -0.588276  2.920631  2.810425       0\n",
       "5   0.171276 -1.575329  1.675407  1.000060  0.409187       0\n",
       "84  1.806607  1.404477 -0.350077  0.879529 -0.449431       1\n",
       "56  0.383524  1.426847  0.409389  0.704746 -1.511735       1\n",
       "47  0.154537  3.200316  1.107416  1.564045 -1.721448       1"
      ]
     },
     "execution_count": 43,
     "metadata": {},
     "output_type": "execute_result"
    }
   ],
   "source": [
    "df.sample(14,replace=True)\n"
   ]
  },
  {
   "cell_type": "code",
   "execution_count": null,
   "id": "c3a5e0c2",
   "metadata": {},
   "outputs": [],
   "source": []
  },
  {
   "cell_type": "code",
   "execution_count": null,
   "id": "6111b3ea",
   "metadata": {},
   "outputs": [],
   "source": []
  }
 ],
 "metadata": {
  "kernelspec": {
   "display_name": "Python 3 (ipykernel)",
   "language": "python",
   "name": "python3"
  },
  "language_info": {
   "codemirror_mode": {
    "name": "ipython",
    "version": 3
   },
   "file_extension": ".py",
   "mimetype": "text/x-python",
   "name": "python",
   "nbconvert_exporter": "python",
   "pygments_lexer": "ipython3",
   "version": "3.9.12"
  }
 },
 "nbformat": 4,
 "nbformat_minor": 5
}
