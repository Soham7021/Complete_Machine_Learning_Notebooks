{
 "cells": [
  {
   "cell_type": "code",
   "execution_count": 8,
   "id": "01112fc6",
   "metadata": {},
   "outputs": [],
   "source": [
    "import pandas as pd\n",
    "import seaborn as sns"
   ]
  },
  {
   "cell_type": "code",
   "execution_count": 9,
   "id": "7a48bf63",
   "metadata": {},
   "outputs": [],
   "source": [
    "df = pd.read_csv('mnist_train.csv')\n"
   ]
  },
  {
   "cell_type": "code",
   "execution_count": 10,
   "id": "18b2f51d",
   "metadata": {},
   "outputs": [
    {
     "data": {
      "text/html": [
       "<div>\n",
       "<style scoped>\n",
       "    .dataframe tbody tr th:only-of-type {\n",
       "        vertical-align: middle;\n",
       "    }\n",
       "\n",
       "    .dataframe tbody tr th {\n",
       "        vertical-align: top;\n",
       "    }\n",
       "\n",
       "    .dataframe thead th {\n",
       "        text-align: right;\n",
       "    }\n",
       "</style>\n",
       "<table border=\"1\" class=\"dataframe\">\n",
       "  <thead>\n",
       "    <tr style=\"text-align: right;\">\n",
       "      <th></th>\n",
       "      <th>label</th>\n",
       "      <th>1x1</th>\n",
       "      <th>1x2</th>\n",
       "      <th>1x3</th>\n",
       "      <th>1x4</th>\n",
       "      <th>1x5</th>\n",
       "      <th>1x6</th>\n",
       "      <th>1x7</th>\n",
       "      <th>1x8</th>\n",
       "      <th>1x9</th>\n",
       "      <th>...</th>\n",
       "      <th>28x19</th>\n",
       "      <th>28x20</th>\n",
       "      <th>28x21</th>\n",
       "      <th>28x22</th>\n",
       "      <th>28x23</th>\n",
       "      <th>28x24</th>\n",
       "      <th>28x25</th>\n",
       "      <th>28x26</th>\n",
       "      <th>28x27</th>\n",
       "      <th>28x28</th>\n",
       "    </tr>\n",
       "  </thead>\n",
       "  <tbody>\n",
       "    <tr>\n",
       "      <th>0</th>\n",
       "      <td>5</td>\n",
       "      <td>0</td>\n",
       "      <td>0</td>\n",
       "      <td>0</td>\n",
       "      <td>0</td>\n",
       "      <td>0</td>\n",
       "      <td>0</td>\n",
       "      <td>0</td>\n",
       "      <td>0</td>\n",
       "      <td>0</td>\n",
       "      <td>...</td>\n",
       "      <td>0</td>\n",
       "      <td>0</td>\n",
       "      <td>0</td>\n",
       "      <td>0</td>\n",
       "      <td>0</td>\n",
       "      <td>0</td>\n",
       "      <td>0</td>\n",
       "      <td>0</td>\n",
       "      <td>0</td>\n",
       "      <td>0</td>\n",
       "    </tr>\n",
       "    <tr>\n",
       "      <th>1</th>\n",
       "      <td>0</td>\n",
       "      <td>0</td>\n",
       "      <td>0</td>\n",
       "      <td>0</td>\n",
       "      <td>0</td>\n",
       "      <td>0</td>\n",
       "      <td>0</td>\n",
       "      <td>0</td>\n",
       "      <td>0</td>\n",
       "      <td>0</td>\n",
       "      <td>...</td>\n",
       "      <td>0</td>\n",
       "      <td>0</td>\n",
       "      <td>0</td>\n",
       "      <td>0</td>\n",
       "      <td>0</td>\n",
       "      <td>0</td>\n",
       "      <td>0</td>\n",
       "      <td>0</td>\n",
       "      <td>0</td>\n",
       "      <td>0</td>\n",
       "    </tr>\n",
       "    <tr>\n",
       "      <th>2</th>\n",
       "      <td>4</td>\n",
       "      <td>0</td>\n",
       "      <td>0</td>\n",
       "      <td>0</td>\n",
       "      <td>0</td>\n",
       "      <td>0</td>\n",
       "      <td>0</td>\n",
       "      <td>0</td>\n",
       "      <td>0</td>\n",
       "      <td>0</td>\n",
       "      <td>...</td>\n",
       "      <td>0</td>\n",
       "      <td>0</td>\n",
       "      <td>0</td>\n",
       "      <td>0</td>\n",
       "      <td>0</td>\n",
       "      <td>0</td>\n",
       "      <td>0</td>\n",
       "      <td>0</td>\n",
       "      <td>0</td>\n",
       "      <td>0</td>\n",
       "    </tr>\n",
       "    <tr>\n",
       "      <th>3</th>\n",
       "      <td>1</td>\n",
       "      <td>0</td>\n",
       "      <td>0</td>\n",
       "      <td>0</td>\n",
       "      <td>0</td>\n",
       "      <td>0</td>\n",
       "      <td>0</td>\n",
       "      <td>0</td>\n",
       "      <td>0</td>\n",
       "      <td>0</td>\n",
       "      <td>...</td>\n",
       "      <td>0</td>\n",
       "      <td>0</td>\n",
       "      <td>0</td>\n",
       "      <td>0</td>\n",
       "      <td>0</td>\n",
       "      <td>0</td>\n",
       "      <td>0</td>\n",
       "      <td>0</td>\n",
       "      <td>0</td>\n",
       "      <td>0</td>\n",
       "    </tr>\n",
       "    <tr>\n",
       "      <th>4</th>\n",
       "      <td>9</td>\n",
       "      <td>0</td>\n",
       "      <td>0</td>\n",
       "      <td>0</td>\n",
       "      <td>0</td>\n",
       "      <td>0</td>\n",
       "      <td>0</td>\n",
       "      <td>0</td>\n",
       "      <td>0</td>\n",
       "      <td>0</td>\n",
       "      <td>...</td>\n",
       "      <td>0</td>\n",
       "      <td>0</td>\n",
       "      <td>0</td>\n",
       "      <td>0</td>\n",
       "      <td>0</td>\n",
       "      <td>0</td>\n",
       "      <td>0</td>\n",
       "      <td>0</td>\n",
       "      <td>0</td>\n",
       "      <td>0</td>\n",
       "    </tr>\n",
       "  </tbody>\n",
       "</table>\n",
       "<p>5 rows × 785 columns</p>\n",
       "</div>"
      ],
      "text/plain": [
       "   label  1x1  1x2  1x3  1x4  1x5  1x6  1x7  1x8  1x9  ...  28x19  28x20  \\\n",
       "0      5    0    0    0    0    0    0    0    0    0  ...      0      0   \n",
       "1      0    0    0    0    0    0    0    0    0    0  ...      0      0   \n",
       "2      4    0    0    0    0    0    0    0    0    0  ...      0      0   \n",
       "3      1    0    0    0    0    0    0    0    0    0  ...      0      0   \n",
       "4      9    0    0    0    0    0    0    0    0    0  ...      0      0   \n",
       "\n",
       "   28x21  28x22  28x23  28x24  28x25  28x26  28x27  28x28  \n",
       "0      0      0      0      0      0      0      0      0  \n",
       "1      0      0      0      0      0      0      0      0  \n",
       "2      0      0      0      0      0      0      0      0  \n",
       "3      0      0      0      0      0      0      0      0  \n",
       "4      0      0      0      0      0      0      0      0  \n",
       "\n",
       "[5 rows x 785 columns]"
      ]
     },
     "execution_count": 10,
     "metadata": {},
     "output_type": "execute_result"
    }
   ],
   "source": [
    "df.head()"
   ]
  },
  {
   "cell_type": "code",
   "execution_count": 13,
   "id": "11e07a6d",
   "metadata": {},
   "outputs": [
    {
     "data": {
      "text/plain": [
       "(60000, 785)"
      ]
     },
     "execution_count": 13,
     "metadata": {},
     "output_type": "execute_result"
    }
   ],
   "source": [
    "df.shape"
   ]
  },
  {
   "cell_type": "code",
   "execution_count": 14,
   "id": "451b8b1f",
   "metadata": {},
   "outputs": [],
   "source": [
    "X = df.iloc[:2000,1:]\n",
    "y = df.iloc[:2000,0]"
   ]
  },
  {
   "cell_type": "code",
   "execution_count": 15,
   "id": "9f21eafe",
   "metadata": {},
   "outputs": [
    {
     "data": {
      "text/plain": [
       "<AxesSubplot:>"
      ]
     },
     "execution_count": 15,
     "metadata": {},
     "output_type": "execute_result"
    },
    {
     "data": {
      "image/png": "[encoded data removed]",
      "text/plain": [
       "<Figure size 432x288 with 2 Axes>"
      ]
     },
     "metadata": {
      "needs_background": "light"
     },
     "output_type": "display_data"
    }
   ],
   "source": [
    "sns.heatmap(X.iloc[5].values.reshape(28,28))\n"
   ]
  },
  {
   "cell_type": "code",
   "execution_count": 16,
   "id": "704cfe51",
   "metadata": {},
   "outputs": [
    {
     "data": {
      "text/plain": [
       "RandomForestClassifier()"
      ]
     },
     "execution_count": 16,
     "metadata": {},
     "output_type": "execute_result"
    }
   ],
   "source": [
    "from sklearn.ensemble import RandomForestClassifier\n",
    "\n",
    "rf = RandomForestClassifier()\n",
    "\n",
    "rf.fit(X,y)"
   ]
  },
  {
   "cell_type": "code",
   "execution_count": 17,
   "id": "46470cc2",
   "metadata": {},
   "outputs": [
    {
     "data": {
      "text/plain": [
       "array([0.00000000e+00, 0.00000000e+00, 0.00000000e+00, 0.00000000e+00,\n",
       "       0.00000000e+00, 0.00000000e+00, 0.00000000e+00, 0.00000000e+00,\n",
       "       0.00000000e+00, 0.00000000e+00, 0.00000000e+00, 0.00000000e+00,\n",
       "       0.00000000e+00, 0.00000000e+00, 0.00000000e+00, 0.00000000e+00,\n",
       "       0.00000000e+00, 0.00000000e+00, 0.00000000e+00, 0.00000000e+00,\n",
       "       0.00000000e+00, 0.00000000e+00, 0.00000000e+00, 0.00000000e+00,\n",
       "       0.00000000e+00, 0.00000000e+00, 0.00000000e+00, 0.00000000e+00,\n",
       "       0.00000000e+00, 0.00000000e+00, 0.00000000e+00, 0.00000000e+00,\n",
       "       0.00000000e+00, 0.00000000e+00, 0.00000000e+00, 0.00000000e+00,\n",
       "       0.00000000e+00, 0.00000000e+00, 1.58936865e-05, 0.00000000e+00,\n",
       "       0.00000000e+00, 1.02041706e-05, 0.00000000e+00, 8.03122342e-06,\n",
       "       0.00000000e+00, 0.00000000e+00, 0.00000000e+00, 0.00000000e+00,\n",
       "       9.46127648e-06, 0.00000000e+00, 0.00000000e+00, 0.00000000e+00,\n",
       "       0.00000000e+00, 0.00000000e+00, 0.00000000e+00, 0.00000000e+00,\n",
       "       0.00000000e+00, 0.00000000e+00, 0.00000000e+00, 0.00000000e+00,\n",
       "       0.00000000e+00, 0.00000000e+00, 0.00000000e+00, 0.00000000e+00,\n",
       "       0.00000000e+00, 0.00000000e+00, 8.98977337e-05, 2.53022482e-05,\n",
       "       2.12017577e-05, 1.72047499e-04, 1.56677401e-04, 4.04847438e-05,\n",
       "       2.16537177e-04, 2.12980905e-04, 3.42059628e-04, 5.87368402e-05,\n",
       "       8.62051089e-05, 2.66217768e-05, 2.08675693e-05, 0.00000000e+00,\n",
       "       0.00000000e+00, 0.00000000e+00, 0.00000000e+00, 0.00000000e+00,\n",
       "       0.00000000e+00, 0.00000000e+00, 0.00000000e+00, 0.00000000e+00,\n",
       "       0.00000000e+00, 0.00000000e+00, 0.00000000e+00, 9.52461080e-06,\n",
       "       2.88391930e-05, 7.85410118e-05, 2.45093170e-04, 8.39719876e-05,\n",
       "       3.99089258e-04, 7.38982739e-04, 1.12908227e-03, 1.17364162e-03,\n",
       "       3.00790072e-03, 5.52155261e-03, 3.12725166e-03, 1.50950506e-03,\n",
       "       2.83737711e-04, 1.12571080e-04, 8.86930204e-05, 5.55968826e-06,\n",
       "       0.00000000e+00, 0.00000000e+00, 0.00000000e+00, 0.00000000e+00,\n",
       "       0.00000000e+00, 0.00000000e+00, 0.00000000e+00, 0.00000000e+00,\n",
       "       0.00000000e+00, 0.00000000e+00, 1.42616081e-05, 3.55091068e-05,\n",
       "       1.23649463e-04, 1.54668331e-04, 5.58703856e-04, 1.27825393e-03,\n",
       "       9.89542229e-04, 1.26494860e-03, 2.28406664e-03, 1.51280110e-03,\n",
       "       3.65297131e-03, 1.88602605e-03, 6.15653520e-04, 6.49685089e-04,\n",
       "       5.97817783e-04, 1.54153480e-04, 1.39897019e-04, 6.77344355e-05,\n",
       "       3.34688600e-05, 0.00000000e+00, 0.00000000e+00, 0.00000000e+00,\n",
       "       0.00000000e+00, 0.00000000e+00, 0.00000000e+00, 0.00000000e+00,\n",
       "       2.93700232e-05, 6.29400629e-05, 1.75518457e-05, 1.26193191e-04,\n",
       "       3.16849956e-04, 5.88706154e-04, 1.61790594e-03, 1.37912847e-03,\n",
       "       2.83129612e-03, 2.97367329e-03, 3.36433984e-03, 6.57112640e-03,\n",
       "       6.05345048e-03, 3.65075740e-03, 2.00066164e-03, 1.77289651e-03,\n",
       "       8.14187548e-04, 5.81638137e-04, 6.09947951e-04, 4.84226243e-04,\n",
       "       7.44629290e-05, 2.67815185e-05, 0.00000000e+00, 0.00000000e+00,\n",
       "       0.00000000e+00, 0.00000000e+00, 0.00000000e+00, 3.27640650e-05,\n",
       "       1.04049546e-05, 1.26709324e-04, 2.34891301e-04, 3.76465894e-04,\n",
       "       5.69289115e-04, 1.07768160e-03, 2.48211140e-03, 2.39763744e-03,\n",
       "       2.13805384e-03, 2.52231604e-03, 4.67304402e-03, 4.20365177e-03,\n",
       "       2.23693846e-03, 2.95303055e-03, 1.78974994e-03, 1.96704677e-03,\n",
       "       1.57831768e-03, 1.93269656e-03, 9.96760012e-04, 4.92610772e-04,\n",
       "       2.25370816e-04, 4.26996892e-05, 0.00000000e+00, 0.00000000e+00,\n",
       "       0.00000000e+00, 0.00000000e+00, 0.00000000e+00, 0.00000000e+00,\n",
       "       9.65087552e-05, 1.82365618e-04, 3.80865846e-04, 4.91248983e-04,\n",
       "       7.20002293e-04, 1.87928221e-03, 2.04611758e-03, 3.36428045e-03,\n",
       "       3.00011052e-03, 2.88179332e-03, 6.76411002e-03, 5.97518813e-03,\n",
       "       4.77108255e-03, 3.45791965e-03, 2.15121595e-03, 2.39285565e-03,\n",
       "       2.07553872e-03, 1.07251879e-03, 1.39577551e-03, 1.00115786e-03,\n",
       "       8.07873556e-04, 1.78999503e-04, 6.71350017e-05, 0.00000000e+00,\n",
       "       0.00000000e+00, 0.00000000e+00, 0.00000000e+00, 1.05016547e-04,\n",
       "       4.71086142e-05, 1.50873389e-04, 3.17336094e-04, 6.01523532e-04,\n",
       "       1.38091621e-03, 1.22490074e-03, 2.84686990e-03, 2.93093809e-03,\n",
       "       4.51729215e-03, 4.28202718e-03, 5.13028122e-03, 5.53042170e-03,\n",
       "       3.78034975e-03, 2.67101581e-03, 3.97412519e-03, 3.66699666e-03,\n",
       "       2.01697327e-03, 1.55177257e-03, 1.41996619e-03, 8.27591241e-04,\n",
       "       9.68134666e-04, 4.29116718e-04, 7.88159785e-05, 0.00000000e+00,\n",
       "       0.00000000e+00, 0.00000000e+00, 9.02331904e-06, 1.07568774e-05,\n",
       "       6.63882754e-05, 1.22971995e-04, 6.82330541e-04, 7.06130281e-04,\n",
       "       1.12012401e-03, 1.76283478e-03, 3.98231800e-03, 4.56203096e-03,\n",
       "       2.81901015e-03, 3.86616836e-03, 2.46529748e-03, 3.09121424e-03,\n",
       "       4.30408245e-03, 3.75102427e-03, 2.79984857e-03, 3.02619647e-03,\n",
       "       2.50790767e-03, 2.12793795e-03, 8.45097161e-04, 6.15002243e-04,\n",
       "       4.40954341e-04, 9.12434759e-05, 0.00000000e+00, 0.00000000e+00,\n",
       "       0.00000000e+00, 0.00000000e+00, 0.00000000e+00, 7.41809771e-06,\n",
       "       4.70464235e-05, 2.23113939e-04, 4.22286535e-04, 8.71963527e-04,\n",
       "       1.37767185e-03, 2.40629795e-03, 2.89802807e-03, 5.82352208e-03,\n",
       "       3.83391529e-03, 3.14583112e-03, 3.60139226e-03, 4.69667415e-03,\n",
       "       4.21519550e-03, 4.32498963e-03, 3.85015661e-03, 3.17483995e-03,\n",
       "       3.62305967e-03, 2.12032640e-03, 1.56844519e-03, 5.67100744e-04,\n",
       "       1.62466213e-04, 7.74713879e-05, 0.00000000e+00, 0.00000000e+00,\n",
       "       0.00000000e+00, 0.00000000e+00, 0.00000000e+00, 2.45721694e-05,\n",
       "       9.47781411e-05, 1.66373372e-04, 4.85503384e-04, 1.01335785e-03,\n",
       "       1.70102144e-03, 3.14811681e-03, 5.48813917e-03, 6.26908185e-03,\n",
       "       3.12363334e-03, 3.30996430e-03, 5.10011616e-03, 5.46351666e-03,\n",
       "       3.56689248e-03, 2.74677081e-03, 3.62896697e-03, 5.27525441e-03,\n",
       "       2.89134057e-03, 1.53595881e-03, 9.51892789e-04, 3.58905479e-04,\n",
       "       1.74112834e-04, 1.03279604e-05, 0.00000000e+00, 0.00000000e+00,\n",
       "       0.00000000e+00, 0.00000000e+00, 0.00000000e+00, 2.06767139e-05,\n",
       "       1.08338138e-04, 2.76720635e-04, 5.27233326e-04, 1.60167118e-03,\n",
       "       2.92118651e-03, 4.27187561e-03, 5.04573585e-03, 4.43689897e-03,\n",
       "       3.46513507e-03, 3.44498811e-03, 9.24778120e-03, 3.91285146e-03,\n",
       "       3.45257844e-03, 3.51165083e-03, 4.05336424e-03, 2.74989421e-03,\n",
       "       1.98501420e-03, 1.54678543e-03, 2.19330011e-03, 4.64860990e-04,\n",
       "       1.14941849e-04, 9.84901179e-06, 0.00000000e+00, 0.00000000e+00,\n",
       "       0.00000000e+00, 0.00000000e+00, 5.56080434e-06, 7.41683503e-06,\n",
       "       2.95074290e-05, 2.96046222e-04, 9.56363199e-04, 1.42524727e-03,\n",
       "       3.56411467e-03, 3.62481180e-03, 4.09986758e-03, 6.59751306e-03,\n",
       "       3.99982084e-03, 7.12306015e-03, 8.62534923e-03, 3.64729165e-03,\n",
       "       3.96295364e-03, 3.54167985e-03, 3.06800019e-03, 2.02891239e-03,\n",
       "       1.45622802e-03, 2.26802217e-03, 2.20178529e-03, 6.72592773e-04,\n",
       "       4.71453996e-05, 0.00000000e+00, 0.00000000e+00, 0.00000000e+00,\n",
       "       0.00000000e+00, 0.00000000e+00, 0.00000000e+00, 0.00000000e+00,\n",
       "       3.07201977e-05, 5.08517326e-04, 1.22231819e-03, 1.74641843e-03,\n",
       "       3.67122815e-03, 8.60157973e-03, 6.97246788e-03, 4.84545992e-03,\n",
       "       5.08772886e-03, 7.26724458e-03, 6.58691757e-03, 4.18795418e-03,\n",
       "       2.98207655e-03, 5.22649544e-03, 3.02713848e-03, 1.54756719e-03,\n",
       "       1.33357962e-03, 1.68243183e-03, 4.36618303e-04, 3.67605517e-04,\n",
       "       1.46056986e-04, 6.26063595e-05, 0.00000000e+00, 0.00000000e+00,\n",
       "       0.00000000e+00, 0.00000000e+00, 0.00000000e+00, 0.00000000e+00,\n",
       "       1.48637369e-04, 3.90752081e-04, 1.84127969e-03, 3.86686212e-03,\n",
       "       5.24212039e-03, 6.42026942e-03, 5.63695433e-03, 3.14847492e-03,\n",
       "       5.72708250e-03, 6.31662552e-03, 4.92614390e-03, 4.83036667e-03,\n",
       "       4.29931474e-03, 5.62054156e-03, 2.97309676e-03, 2.35504426e-03,\n",
       "       2.15693219e-03, 1.63678041e-03, 5.40859900e-04, 3.11511089e-04,\n",
       "       1.00036981e-04, 3.23149636e-05, 0.00000000e+00, 0.00000000e+00,\n",
       "       0.00000000e+00, 0.00000000e+00, 0.00000000e+00, 0.00000000e+00,\n",
       "       6.18330250e-05, 4.44103915e-04, 2.76426668e-03, 4.95080470e-03,\n",
       "       3.95024567e-03, 4.26912884e-03, 5.12865061e-03, 4.17113219e-03,\n",
       "       8.30110377e-03, 7.20676570e-03, 4.43646605e-03, 2.91934682e-03,\n",
       "       3.23318730e-03, 4.81448367e-03, 2.93133693e-03, 2.62454675e-03,\n",
       "       1.96066263e-03, 8.61965588e-04, 5.61469453e-04, 2.86330045e-04,\n",
       "       3.65770732e-05, 1.55724265e-05, 0.00000000e+00, 0.00000000e+00,\n",
       "       0.00000000e+00, 0.00000000e+00, 9.27176180e-06, 3.00749447e-05,\n",
       "       1.41014037e-04, 7.95808662e-04, 1.90402124e-03, 3.01037616e-03,\n",
       "       3.50767647e-03, 3.26227405e-03, 4.81202789e-03, 6.37002071e-03,\n",
       "       5.24343061e-03, 6.25936501e-03, 3.49901068e-03, 2.55335977e-03,\n",
       "       1.94384196e-03, 2.31616830e-03, 4.43759451e-03, 2.53850146e-03,\n",
       "       1.91251951e-03, 8.73888037e-04, 7.94756971e-04, 5.05327284e-04,\n",
       "       2.17315685e-04, 9.21385269e-05, 0.00000000e+00, 0.00000000e+00,\n",
       "       0.00000000e+00, 0.00000000e+00, 0.00000000e+00, 6.53004840e-05,\n",
       "       1.68074861e-04, 8.97482584e-04, 2.43078545e-03, 4.41118168e-03,\n",
       "       2.02259939e-03, 4.16721196e-03, 4.56196597e-03, 3.96184134e-03,\n",
       "       3.88914060e-03, 3.59762252e-03, 2.65317353e-03, 1.93643129e-03,\n",
       "       1.94985295e-03, 2.83596089e-03, 3.46756382e-03, 2.37866042e-03,\n",
       "       1.52461462e-03, 1.17071639e-03, 5.90029702e-04, 5.05175055e-04,\n",
       "       4.38845600e-04, 2.00084379e-05, 0.00000000e+00, 0.00000000e+00,\n",
       "       0.00000000e+00, 0.00000000e+00, 8.34574531e-06, 9.22109516e-05,\n",
       "       3.84147360e-04, 1.30882821e-03, 2.74652454e-03, 3.26494279e-03,\n",
       "       4.18866616e-03, 6.09669271e-03, 5.48032879e-03, 4.96982916e-03,\n",
       "       4.21902166e-03, 2.63176348e-03, 1.59461273e-03, 1.14551971e-03,\n",
       "       1.44280441e-03, 3.33598569e-03, 2.88370763e-03, 2.25425723e-03,\n",
       "       1.00827690e-03, 5.77453279e-04, 7.28809990e-04, 3.76139933e-04,\n",
       "       1.40760039e-04, 0.00000000e+00, 0.00000000e+00, 0.00000000e+00,\n",
       "       0.00000000e+00, 0.00000000e+00, 0.00000000e+00, 7.28137773e-05,\n",
       "       3.31055307e-04, 1.49835295e-03, 2.95631971e-03, 6.98842595e-03,\n",
       "       3.77418885e-03, 4.93341398e-03, 2.74023557e-03, 2.38443090e-03,\n",
       "       2.26844995e-03, 2.37245078e-03, 1.69553887e-03, 1.54402548e-03,\n",
       "       1.70245316e-03, 3.37235874e-03, 1.93507718e-03, 2.33297298e-03,\n",
       "       1.20384403e-03, 1.64443914e-03, 7.35861468e-04, 2.34677214e-04,\n",
       "       1.04787078e-04, 0.00000000e+00, 0.00000000e+00, 0.00000000e+00,\n",
       "       0.00000000e+00, 0.00000000e+00, 0.00000000e+00, 1.84266483e-05,\n",
       "       1.62578453e-04, 3.52200955e-04, 1.49699569e-03, 6.14799315e-03,\n",
       "       3.83521379e-03, 3.91659556e-03, 2.86154181e-03, 2.17095635e-03,\n",
       "       1.86739885e-03, 1.90729312e-03, 1.69535574e-03, 1.50897896e-03,\n",
       "       2.34295669e-03, 1.28937613e-03, 1.45449381e-03, 1.60623182e-03,\n",
       "       9.77113273e-04, 6.72467981e-04, 2.63034055e-04, 1.18569611e-04,\n",
       "       3.98747971e-05, 0.00000000e+00, 0.00000000e+00, 0.00000000e+00,\n",
       "       0.00000000e+00, 0.00000000e+00, 0.00000000e+00, 8.90062288e-06,\n",
       "       1.73888519e-04, 2.79050088e-04, 1.12590470e-03, 1.03094686e-03,\n",
       "       2.39462697e-03, 3.85179343e-03, 3.20265090e-03, 3.16044981e-03,\n",
       "       2.13448283e-03, 2.02511649e-03, 1.66204870e-03, 1.54546577e-03,\n",
       "       1.25134424e-03, 1.25093205e-03, 8.81177638e-04, 7.63447215e-04,\n",
       "       5.61137761e-04, 2.82004069e-04, 1.47619670e-04, 1.28228994e-05,\n",
       "       0.00000000e+00, 0.00000000e+00, 0.00000000e+00, 0.00000000e+00,\n",
       "       0.00000000e+00, 0.00000000e+00, 0.00000000e+00, 0.00000000e+00,\n",
       "       1.06227558e-04, 3.86467156e-04, 2.83374169e-04, 6.43682148e-04,\n",
       "       1.49089617e-03, 2.79482851e-03, 3.30182584e-03, 3.65682188e-03,\n",
       "       4.71147285e-03, 2.66160529e-03, 1.72421675e-03, 1.32770105e-03,\n",
       "       1.03374307e-03, 8.68451150e-04, 7.77419263e-04, 2.36849428e-04,\n",
       "       2.42000832e-04, 1.36196241e-04, 2.63173455e-05, 0.00000000e+00,\n",
       "       0.00000000e+00, 0.00000000e+00, 0.00000000e+00, 0.00000000e+00,\n",
       "       0.00000000e+00, 0.00000000e+00, 0.00000000e+00, 1.06867085e-05,\n",
       "       2.33442450e-04, 1.84834402e-04, 2.09868101e-04, 5.63048362e-04,\n",
       "       8.87639716e-04, 1.07830734e-03, 1.66315308e-03, 1.01526477e-03,\n",
       "       1.71553343e-03, 1.06045689e-03, 7.82989365e-04, 6.02818914e-04,\n",
       "       4.96652910e-04, 4.58042423e-04, 2.49035108e-04, 1.40189465e-04,\n",
       "       1.78664286e-04, 1.44560637e-05, 3.64477961e-05, 1.98939973e-05,\n",
       "       0.00000000e+00, 0.00000000e+00, 0.00000000e+00, 0.00000000e+00,\n",
       "       0.00000000e+00, 0.00000000e+00, 0.00000000e+00, 0.00000000e+00,\n",
       "       2.19060731e-05, 4.54115249e-05, 1.08626878e-04, 4.91776801e-04,\n",
       "       7.29364638e-04, 1.78143336e-04, 1.26708587e-03, 1.21324137e-03,\n",
       "       1.73157265e-03, 5.18367594e-04, 5.78341472e-04, 4.16573388e-04,\n",
       "       2.01509469e-04, 2.89763801e-04, 1.55591492e-04, 1.02737315e-04,\n",
       "       1.08466287e-04, 3.02461847e-05, 0.00000000e+00, 0.00000000e+00,\n",
       "       0.00000000e+00, 0.00000000e+00, 0.00000000e+00, 0.00000000e+00,\n",
       "       0.00000000e+00, 0.00000000e+00, 0.00000000e+00, 0.00000000e+00,\n",
       "       2.00053547e-05, 1.54979393e-05, 1.90336200e-05, 5.67853863e-05,\n",
       "       2.54145511e-05, 2.36682930e-05, 1.30576334e-04, 7.50050824e-05,\n",
       "       2.73879327e-05, 1.01558160e-04, 9.84941276e-05, 1.21208084e-04,\n",
       "       1.40189312e-04, 1.82220294e-04, 6.18211844e-05, 2.68996702e-05,\n",
       "       7.41165264e-06, 2.00154160e-05, 0.00000000e+00, 0.00000000e+00,\n",
       "       0.00000000e+00, 0.00000000e+00, 0.00000000e+00, 0.00000000e+00,\n",
       "       0.00000000e+00, 0.00000000e+00, 0.00000000e+00, 0.00000000e+00,\n",
       "       0.00000000e+00, 0.00000000e+00, 0.00000000e+00, 1.33390765e-05,\n",
       "       0.00000000e+00, 0.00000000e+00, 0.00000000e+00, 1.07713621e-05,\n",
       "       0.00000000e+00, 1.89705412e-05, 0.00000000e+00, 5.98475978e-05,\n",
       "       0.00000000e+00, 2.63210601e-05, 1.52918263e-05, 0.00000000e+00,\n",
       "       0.00000000e+00, 2.79233206e-05, 1.05661628e-05, 0.00000000e+00,\n",
       "       0.00000000e+00, 0.00000000e+00, 0.00000000e+00, 0.00000000e+00])"
      ]
     },
     "execution_count": 17,
     "metadata": {},
     "output_type": "execute_result"
    }
   ],
   "source": [
    "rf.feature_importances_"
   ]
  },
  {
   "cell_type": "code",
   "execution_count": 18,
   "id": "0faadc89",
   "metadata": {},
   "outputs": [
    {
     "data": {
      "text/plain": [
       "(784,)"
      ]
     },
     "execution_count": 18,
     "metadata": {},
     "output_type": "execute_result"
    }
   ],
   "source": [
    "rf.feature_importances_.shape"
   ]
  },
  {
   "cell_type": "code",
   "execution_count": 19,
   "id": "ef493896",
   "metadata": {},
   "outputs": [
    {
     "data": {
      "text/plain": [
       "<AxesSubplot:>"
      ]
     },
     "execution_count": 19,
     "metadata": {},
     "output_type": "execute_result"
    },
    {
     "data": {
      "image/png": "[encoded data removed]",
      "text/plain": [
       "<Figure size 432x288 with 2 Axes>"
      ]
     },
     "metadata": {
      "needs_background": "light"
     },
     "output_type": "display_data"
    }
   ],
   "source": [
    "sns.heatmap(rf.feature_importances_.reshape(28,28))\n"
   ]
  }
 ],
 "metadata": {
  "kernelspec": {
   "display_name": "Python 3 (ipykernel)",
   "language": "python",
   "name": "python3"
  },
  "language_info": {
   "codemirror_mode": {
    "name": "ipython",
    "version": 3
   },
   "file_extension": ".py",
   "mimetype": "text/x-python",
   "name": "python",
   "nbconvert_exporter": "python",
   "pygments_lexer": "ipython3",
   "version": "3.9.12"
  }
 },
 "nbformat": 4,
 "nbformat_minor": 5
}
