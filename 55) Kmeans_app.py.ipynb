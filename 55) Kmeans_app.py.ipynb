{
 "cells": [
  {
   "cell_type": "code",
   "execution_count": 4,
   "id": "662688e7",
   "metadata": {},
   "outputs": [
    {
     "ename": "ModuleNotFoundError",
     "evalue": "No module named 'kmeans'",
     "output_type": "error",
     "traceback": [
      "\u001b[1;31m---------------------------------------------------------------------------\u001b[0m",
      "\u001b[1;31mModuleNotFoundError\u001b[0m                       Traceback (most recent call last)",
      "Input \u001b[1;32mIn [4]\u001b[0m, in \u001b[0;36m<cell line: 3>\u001b[1;34m()\u001b[0m\n\u001b[0;32m      1\u001b[0m \u001b[38;5;28;01mfrom\u001b[39;00m \u001b[38;5;21;01msklearn\u001b[39;00m\u001b[38;5;21;01m.\u001b[39;00m\u001b[38;5;21;01mdatasets\u001b[39;00m \u001b[38;5;28;01mimport\u001b[39;00m make_blobs\n\u001b[0;32m      2\u001b[0m \u001b[38;5;28;01mimport\u001b[39;00m \u001b[38;5;21;01mmatplotlib\u001b[39;00m\u001b[38;5;21;01m.\u001b[39;00m\u001b[38;5;21;01mpyplot\u001b[39;00m \u001b[38;5;28;01mas\u001b[39;00m \u001b[38;5;21;01mplt\u001b[39;00m\n\u001b[1;32m----> 3\u001b[0m \u001b[38;5;28;01mfrom\u001b[39;00m \u001b[38;5;21;01mkmeans\u001b[39;00m \u001b[38;5;28;01mimport\u001b[39;00m KMeans\n\u001b[0;32m      4\u001b[0m \u001b[38;5;28;01mimport\u001b[39;00m \u001b[38;5;21;01mpandas\u001b[39;00m \u001b[38;5;28;01mas\u001b[39;00m \u001b[38;5;21;01mpd\u001b[39;00m\n\u001b[0;32m      6\u001b[0m \u001b[38;5;66;03m#centroids = [(-5,-5),(5,5),(-2.5,2.5),(2.5,-2.5)]\u001b[39;00m\n\u001b[0;32m      7\u001b[0m \u001b[38;5;66;03m#cluster_std = [1,1,1,1]\u001b[39;00m\n\u001b[0;32m      8\u001b[0m \n\u001b[0;32m      9\u001b[0m \u001b[38;5;66;03m#X,y = make_blobs(n_samples=100,cluster_std=cluster_std,centers=centroids,n_features=2,random_state=2)\u001b[39;00m\n\u001b[0;32m     10\u001b[0m \n\u001b[0;32m     11\u001b[0m \u001b[38;5;66;03m#plt.scatter(X[:,0],X[:,1])\u001b[39;00m\n",
      "\u001b[1;31mModuleNotFoundError\u001b[0m: No module named 'kmeans'"
     ]
    }
   ],
   "source": [
    "from sklearn.datasets import make_blobs\n",
    "import matplotlib.pyplot as plt\n",
    "from kmeans import KMeans\n",
    "import pandas as pd\n",
    "\n",
    "#centroids = [(-5,-5),(5,5),(-2.5,2.5),(2.5,-2.5)]\n",
    "#cluster_std = [1,1,1,1]\n",
    "\n",
    "#X,y = make_blobs(n_samples=100,cluster_std=cluster_std,centers=centroids,n_features=2,random_state=2)\n",
    "\n",
    "#plt.scatter(X[:,0],X[:,1])\n",
    "\n",
    "df = pd.read_csv('student_clustering.csv')\n",
    "\n",
    "X = df.iloc[:,:].values\n",
    "\n",
    "km = KMeans(n_clusters=4,max_iter=500)\n",
    "y_means = km.fit_predict(X)\n",
    "\n",
    "plt.scatter(X[y_means == 0,0],X[y_means == 0,1],color='red')\n",
    "plt.scatter(X[y_means == 1,0],X[y_means == 1,1],color='blue')\n",
    "plt.scatter(X[y_means == 2,0],X[y_means == 2,1],color='green')\n",
    "plt.scatter(X[y_means == 3,0],X[y_means == 3,1],color='yellow')\n",
    "plt.show()"
   ]
  },
  {
   "cell_type": "code",
   "execution_count": 2,
   "id": "56a21e93",
   "metadata": {},
   "outputs": [
    {
     "name": "stdout",
     "output_type": "stream",
     "text": [
      "Collecting kmeans\n",
      "  Downloading kmeans-1.0.2.tar.gz (5.9 kB)\n",
      "Building wheels for collected packages: kmeans\n",
      "  Building wheel for kmeans (setup.py): started\n",
      "  Building wheel for kmeans (setup.py): finished with status 'error'\n",
      "  Running setup.py clean for kmeans\n",
      "Failed to build kmeans\n",
      "Installing collected packages: kmeans\n",
      "    Running setup.py install for kmeans: started\n",
      "    Running setup.py install for kmeans: finished with status 'error'\n"
     ]
    },
    {
     "name": "stderr",
     "output_type": "stream",
     "text": [
      "  ERROR: Command errored out with exit status 1:\n",
      "   command: 'C:\\Users\\soham\\anaconda3\\python.exe' -u -c 'import io, os, sys, setuptools, tokenize; sys.argv[0] = '\"'\"'C:\\\\Users\\\\soham\\\\AppData\\\\Local\\\\Temp\\\\pip-install-7vj13kb0\\\\kmeans_cc40b21456fa4b1baf8dae68b5da469d\\\\setup.py'\"'\"'; __file__='\"'\"'C:\\\\Users\\\\soham\\\\AppData\\\\Local\\\\Temp\\\\pip-install-7vj13kb0\\\\kmeans_cc40b21456fa4b1baf8dae68b5da469d\\\\setup.py'\"'\"';f = getattr(tokenize, '\"'\"'open'\"'\"', open)(__file__) if os.path.exists(__file__) else io.StringIO('\"'\"'from setuptools import setup; setup()'\"'\"');code = f.read().replace('\"'\"'\\r\\n'\"'\"', '\"'\"'\\n'\"'\"');f.close();exec(compile(code, __file__, '\"'\"'exec'\"'\"'))' bdist_wheel -d 'C:\\Users\\soham\\AppData\\Local\\Temp\\pip-wheel-41zm_bz3'\n",
      "       cwd: C:\\Users\\soham\\AppData\\Local\\Temp\\pip-install-7vj13kb0\\kmeans_cc40b21456fa4b1baf8dae68b5da469d\\\n",
      "  Complete output (19 lines):\n",
      "  running bdist_wheel\n",
      "  running build\n",
      "  running build_py\n",
      "  creating build\n",
      "  creating build\\lib.win-amd64-3.9\n",
      "  creating build\\lib.win-amd64-3.9\\kmeans\n",
      "  copying kmeans\\performance.py -> build\\lib.win-amd64-3.9\\kmeans\n",
      "  copying kmeans\\tests.py -> build\\lib.win-amd64-3.9\\kmeans\n",
      "  copying kmeans\\__init__.py -> build\\lib.win-amd64-3.9\\kmeans\n",
      "  running egg_info\n",
      "  writing kmeans.egg-info\\PKG-INFO\n",
      "  writing dependency_links to kmeans.egg-info\\dependency_links.txt\n",
      "  writing top-level names to kmeans.egg-info\\top_level.txt\n",
      "  reading manifest file 'kmeans.egg-info\\SOURCES.txt'\n",
      "  writing manifest file 'kmeans.egg-info\\SOURCES.txt'\n",
      "  copying kmeans\\lib.c -> build\\lib.win-amd64-3.9\\kmeans\n",
      "  running build_ext\n",
      "  building 'kmeans/lib' extension\n",
      "  error: Microsoft Visual C++ 14.0 or greater is required. Get it with \"Microsoft C++ Build Tools\": https://visualstudio.microsoft.com/visual-cpp-build-tools/\n",
      "  ----------------------------------------\n",
      "  ERROR: Failed building wheel for kmeans\n",
      "    ERROR: Command errored out with exit status 1:\n",
      "     command: 'C:\\Users\\soham\\anaconda3\\python.exe' -u -c 'import io, os, sys, setuptools, tokenize; sys.argv[0] = '\"'\"'C:\\\\Users\\\\soham\\\\AppData\\\\Local\\\\Temp\\\\pip-install-7vj13kb0\\\\kmeans_cc40b21456fa4b1baf8dae68b5da469d\\\\setup.py'\"'\"'; __file__='\"'\"'C:\\\\Users\\\\soham\\\\AppData\\\\Local\\\\Temp\\\\pip-install-7vj13kb0\\\\kmeans_cc40b21456fa4b1baf8dae68b5da469d\\\\setup.py'\"'\"';f = getattr(tokenize, '\"'\"'open'\"'\"', open)(__file__) if os.path.exists(__file__) else io.StringIO('\"'\"'from setuptools import setup; setup()'\"'\"');code = f.read().replace('\"'\"'\\r\\n'\"'\"', '\"'\"'\\n'\"'\"');f.close();exec(compile(code, __file__, '\"'\"'exec'\"'\"'))' install --record 'C:\\Users\\soham\\AppData\\Local\\Temp\\pip-record-yt50hvqw\\install-record.txt' --single-version-externally-managed --compile --install-headers 'C:\\Users\\soham\\anaconda3\\Include\\kmeans'\n",
      "         cwd: C:\\Users\\soham\\AppData\\Local\\Temp\\pip-install-7vj13kb0\\kmeans_cc40b21456fa4b1baf8dae68b5da469d\\\n",
      "    Complete output (21 lines):\n",
      "    running install\n",
      "    C:\\Users\\soham\\anaconda3\\lib\\site-packages\\setuptools\\command\\install.py:34: SetuptoolsDeprecationWarning: setup.py install is deprecated. Use build and pip and other standards-based tools.\n",
      "      warnings.warn(\n",
      "    running build\n",
      "    running build_py\n",
      "    creating build\n",
      "    creating build\\lib.win-amd64-3.9\n",
      "    creating build\\lib.win-amd64-3.9\\kmeans\n",
      "    copying kmeans\\performance.py -> build\\lib.win-amd64-3.9\\kmeans\n",
      "    copying kmeans\\tests.py -> build\\lib.win-amd64-3.9\\kmeans\n",
      "    copying kmeans\\__init__.py -> build\\lib.win-amd64-3.9\\kmeans\n",
      "    running egg_info\n",
      "    writing kmeans.egg-info\\PKG-INFO\n",
      "    writing dependency_links to kmeans.egg-info\\dependency_links.txt\n",
      "    writing top-level names to kmeans.egg-info\\top_level.txt\n",
      "    reading manifest file 'kmeans.egg-info\\SOURCES.txt'\n",
      "    writing manifest file 'kmeans.egg-info\\SOURCES.txt'\n",
      "    copying kmeans\\lib.c -> build\\lib.win-amd64-3.9\\kmeans\n",
      "    running build_ext\n",
      "    building 'kmeans/lib' extension\n",
      "    error: Microsoft Visual C++ 14.0 or greater is required. Get it with \"Microsoft C++ Build Tools\": https://visualstudio.microsoft.com/visual-cpp-build-tools/\n",
      "    ----------------------------------------\n",
      "ERROR: Command errored out with exit status 1: 'C:\\Users\\soham\\anaconda3\\python.exe' -u -c 'import io, os, sys, setuptools, tokenize; sys.argv[0] = '\"'\"'C:\\\\Users\\\\soham\\\\AppData\\\\Local\\\\Temp\\\\pip-install-7vj13kb0\\\\kmeans_cc40b21456fa4b1baf8dae68b5da469d\\\\setup.py'\"'\"'; __file__='\"'\"'C:\\\\Users\\\\soham\\\\AppData\\\\Local\\\\Temp\\\\pip-install-7vj13kb0\\\\kmeans_cc40b21456fa4b1baf8dae68b5da469d\\\\setup.py'\"'\"';f = getattr(tokenize, '\"'\"'open'\"'\"', open)(__file__) if os.path.exists(__file__) else io.StringIO('\"'\"'from setuptools import setup; setup()'\"'\"');code = f.read().replace('\"'\"'\\r\\n'\"'\"', '\"'\"'\\n'\"'\"');f.close();exec(compile(code, __file__, '\"'\"'exec'\"'\"'))' install --record 'C:\\Users\\soham\\AppData\\Local\\Temp\\pip-record-yt50hvqw\\install-record.txt' --single-version-externally-managed --compile --install-headers 'C:\\Users\\soham\\anaconda3\\Include\\kmeans' Check the logs for full command output.\n"
     ]
    }
   ],
   "source": [
    "!pip install kmeans"
   ]
  },
  {
   "cell_type": "code",
   "execution_count": null,
   "id": "54e411c2",
   "metadata": {},
   "outputs": [],
   "source": []
  }
 ],
 "metadata": {
  "kernelspec": {
   "display_name": "Python 3 (ipykernel)",
   "language": "python",
   "name": "python3"
  },
  "language_info": {
   "codemirror_mode": {
    "name": "ipython",
    "version": 3
   },
   "file_extension": ".py",
   "mimetype": "text/x-python",
   "name": "python",
   "nbconvert_exporter": "python",
   "pygments_lexer": "ipython3",
   "version": "3.9.12"
  }
 },
 "nbformat": 4,
 "nbformat_minor": 5
}
